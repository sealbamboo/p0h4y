{
 "cells": [
  {
   "cell_type": "code",
   "execution_count": 2,
   "metadata": {
    "ExecuteTime": {
     "end_time": "2019-05-07T23:52:25.211567Z",
     "start_time": "2019-05-07T23:52:23.449063Z"
    }
   },
   "outputs": [],
   "source": [
    "import pandas as pd\n",
    "import calendar\n",
    "\n",
    "# External running pythons\n",
    "%run -i python-code/nlp.py"
   ]
  },
  {
   "cell_type": "code",
   "execution_count": 3,
   "metadata": {
    "ExecuteTime": {
     "end_time": "2019-05-07T23:52:25.782863Z",
     "start_time": "2019-05-07T23:52:25.215053Z"
    }
   },
   "outputs": [
    {
     "data": {
      "text/html": [
       "<div>\n",
       "<style scoped>\n",
       "    .dataframe tbody tr th:only-of-type {\n",
       "        vertical-align: middle;\n",
       "    }\n",
       "\n",
       "    .dataframe tbody tr th {\n",
       "        vertical-align: top;\n",
       "    }\n",
       "\n",
       "    .dataframe thead th {\n",
       "        text-align: right;\n",
       "    }\n",
       "</style>\n",
       "<table border=\"1\" class=\"dataframe\">\n",
       "  <thead>\n",
       "    <tr style=\"text-align: right;\">\n",
       "      <th></th>\n",
       "      <th>author</th>\n",
       "      <th>contents</th>\n",
       "      <th>date</th>\n",
       "      <th>tags</th>\n",
       "      <th>title</th>\n",
       "      <th>tweetid</th>\n",
       "      <th>url</th>\n",
       "      <th>contents.1</th>\n",
       "      <th>tags.1</th>\n",
       "      <th>author.1</th>\n",
       "    </tr>\n",
       "  </thead>\n",
       "  <tbody>\n",
       "    <tr>\n",
       "      <th>0</th>\n",
       "      <td>NaN</td>\n",
       "      <td>It's a warm afternoon in Miami, and 35-year-ol...</td>\n",
       "      <td>Mon Apr 06 16:13:15 +0000 2015</td>\n",
       "      <td>NaN</td>\n",
       "      <td>RT @JennyAGold: Maybe You Should Skip That Ann...</td>\n",
       "      <td>5.851130446210662e+17</td>\n",
       "      <td>http://www.npr.org/blogs/health/2015/04/06/397...</td>\n",
       "      <td>NaN</td>\n",
       "      <td>NaN</td>\n",
       "      <td>NaN</td>\n",
       "    </tr>\n",
       "    <tr>\n",
       "      <th>1</th>\n",
       "      <td>NaN</td>\n",
       "      <td>California's health insurance marketplace, Cov...</td>\n",
       "      <td>Wed Dec 24 18:40:33 +0000 2014</td>\n",
       "      <td>NaN</td>\n",
       "      <td>Would You Like Health Insurance With Those Sto...</td>\n",
       "      <td>5.47824165185536e+17</td>\n",
       "      <td>http://n.pr/1CKulog</td>\n",
       "      <td>NaN</td>\n",
       "      <td>NaN</td>\n",
       "      <td>NaN</td>\n",
       "    </tr>\n",
       "    <tr>\n",
       "      <th>2</th>\n",
       "      <td>NaN</td>\n",
       "      <td>On Tuesday, the Food and Drug Administration r...</td>\n",
       "      <td>Wed Dec 24 14:41:04 +0000 2014</td>\n",
       "      <td>NaN</td>\n",
       "      <td>New Blood Donation Rules Would Still Exclude M...</td>\n",
       "      <td>5.477638976381993e+17</td>\n",
       "      <td>http://n.pr/1CJ9IsG</td>\n",
       "      <td>NaN</td>\n",
       "      <td>NaN</td>\n",
       "      <td>NaN</td>\n",
       "    </tr>\n",
       "    <tr>\n",
       "      <th>3</th>\n",
       "      <td>NaN</td>\n",
       "      <td>This time last year, federal officials were sc...</td>\n",
       "      <td>Wed Dec 24 08:34:09 +0000 2014</td>\n",
       "      <td>NaN</td>\n",
       "      <td>Obama Administration Downplays Court Challenge...</td>\n",
       "      <td>5.476715604718592e+17</td>\n",
       "      <td>http://n.pr/1CHaDd6</td>\n",
       "      <td>NaN</td>\n",
       "      <td>NaN</td>\n",
       "      <td>NaN</td>\n",
       "    </tr>\n",
       "    <tr>\n",
       "      <th>4</th>\n",
       "      <td>NaN</td>\n",
       "      <td>Ebola has cast a shadow over Liberia, but it c...</td>\n",
       "      <td>Wed Dec 24 08:34:08 +0000 2014</td>\n",
       "      <td>NaN</td>\n",
       "      <td>Christmas In Liberia: Ebola Fears, No Snow, Ho...</td>\n",
       "      <td>5.4767155360998195e+17</td>\n",
       "      <td>http://n.pr/1CHaAxQ</td>\n",
       "      <td>NaN</td>\n",
       "      <td>NaN</td>\n",
       "      <td>NaN</td>\n",
       "    </tr>\n",
       "  </tbody>\n",
       "</table>\n",
       "</div>"
      ],
      "text/plain": [
       "  author                                           contents  \\\n",
       "0    NaN  It's a warm afternoon in Miami, and 35-year-ol...   \n",
       "1    NaN  California's health insurance marketplace, Cov...   \n",
       "2    NaN  On Tuesday, the Food and Drug Administration r...   \n",
       "3    NaN  This time last year, federal officials were sc...   \n",
       "4    NaN  Ebola has cast a shadow over Liberia, but it c...   \n",
       "\n",
       "                             date tags  \\\n",
       "0  Mon Apr 06 16:13:15 +0000 2015  NaN   \n",
       "1  Wed Dec 24 18:40:33 +0000 2014  NaN   \n",
       "2  Wed Dec 24 14:41:04 +0000 2014  NaN   \n",
       "3  Wed Dec 24 08:34:09 +0000 2014  NaN   \n",
       "4  Wed Dec 24 08:34:08 +0000 2014  NaN   \n",
       "\n",
       "                                               title                 tweetid  \\\n",
       "0  RT @JennyAGold: Maybe You Should Skip That Ann...   5.851130446210662e+17   \n",
       "1  Would You Like Health Insurance With Those Sto...    5.47824165185536e+17   \n",
       "2  New Blood Donation Rules Would Still Exclude M...   5.477638976381993e+17   \n",
       "3  Obama Administration Downplays Court Challenge...   5.476715604718592e+17   \n",
       "4  Christmas In Liberia: Ebola Fears, No Snow, Ho...  5.4767155360998195e+17   \n",
       "\n",
       "                                                 url  contents.1  tags.1  \\\n",
       "0  http://www.npr.org/blogs/health/2015/04/06/397...         NaN     NaN   \n",
       "1                                http://n.pr/1CKulog         NaN     NaN   \n",
       "2                                http://n.pr/1CJ9IsG         NaN     NaN   \n",
       "3                                http://n.pr/1CHaDd6         NaN     NaN   \n",
       "4                                http://n.pr/1CHaAxQ         NaN     NaN   \n",
       "\n",
       "   author.1  \n",
       "0       NaN  \n",
       "1       NaN  \n",
       "2       NaN  \n",
       "3       NaN  \n",
       "4       NaN  "
      ]
     },
     "execution_count": 3,
     "metadata": {},
     "output_type": "execute_result"
    }
   ],
   "source": [
    "frame = pd.read_csv('./run_data/Final.csv',sep='|')\n",
    "frame.head()"
   ]
  },
  {
   "cell_type": "code",
   "execution_count": 4,
   "metadata": {
    "ExecuteTime": {
     "end_time": "2019-05-07T23:52:25.832957Z",
     "start_time": "2019-05-07T23:52:25.787086Z"
    }
   },
   "outputs": [
    {
     "name": "stdout",
     "output_type": "stream",
     "text": [
      "<class 'pandas.core.frame.DataFrame'>\n",
      "RangeIndex: 19989 entries, 0 to 19988\n",
      "Data columns (total 10 columns):\n",
      "author        4412 non-null object\n",
      "contents      9372 non-null object\n",
      "date          19989 non-null object\n",
      "tags          171 non-null object\n",
      "title         19989 non-null object\n",
      "tweetid       19989 non-null object\n",
      "url           17521 non-null object\n",
      "contents.1    0 non-null float64\n",
      "tags.1        0 non-null float64\n",
      "author.1      0 non-null float64\n",
      "dtypes: float64(3), object(7)\n",
      "memory usage: 1.5+ MB\n"
     ]
    }
   ],
   "source": [
    "frame.info()"
   ]
  },
  {
   "cell_type": "code",
   "execution_count": 5,
   "metadata": {
    "ExecuteTime": {
     "end_time": "2019-05-07T23:52:25.851328Z",
     "start_time": "2019-05-07T23:52:25.838122Z"
    }
   },
   "outputs": [
    {
     "data": {
      "text/plain": [
       "10617"
      ]
     },
     "execution_count": 5,
     "metadata": {},
     "output_type": "execute_result"
    }
   ],
   "source": [
    "frame['contents'].isna().sum()"
   ]
  },
  {
   "cell_type": "code",
   "execution_count": 6,
   "metadata": {
    "ExecuteTime": {
     "end_time": "2019-05-07T23:52:26.178677Z",
     "start_time": "2019-05-07T23:52:26.146292Z"
    }
   },
   "outputs": [
    {
     "data": {
      "text/html": [
       "<div>\n",
       "<style scoped>\n",
       "    .dataframe tbody tr th:only-of-type {\n",
       "        vertical-align: middle;\n",
       "    }\n",
       "\n",
       "    .dataframe tbody tr th {\n",
       "        vertical-align: top;\n",
       "    }\n",
       "\n",
       "    .dataframe thead th {\n",
       "        text-align: right;\n",
       "    }\n",
       "</style>\n",
       "<table border=\"1\" class=\"dataframe\">\n",
       "  <thead>\n",
       "    <tr style=\"text-align: right;\">\n",
       "      <th></th>\n",
       "      <th>author</th>\n",
       "      <th>contents</th>\n",
       "      <th>date</th>\n",
       "      <th>title</th>\n",
       "      <th>tweetid</th>\n",
       "      <th>url</th>\n",
       "    </tr>\n",
       "  </thead>\n",
       "  <tbody>\n",
       "    <tr>\n",
       "      <th>0</th>\n",
       "      <td>NaN</td>\n",
       "      <td>It's a warm afternoon in Miami, and 35-year-ol...</td>\n",
       "      <td>Mon Apr 06 16:13:15 +0000 2015</td>\n",
       "      <td>RT @JennyAGold: Maybe You Should Skip That Ann...</td>\n",
       "      <td>5.851130446210662e+17</td>\n",
       "      <td>http://www.npr.org/blogs/health/2015/04/06/397...</td>\n",
       "    </tr>\n",
       "    <tr>\n",
       "      <th>1</th>\n",
       "      <td>NaN</td>\n",
       "      <td>California's health insurance marketplace, Cov...</td>\n",
       "      <td>Wed Dec 24 18:40:33 +0000 2014</td>\n",
       "      <td>Would You Like Health Insurance With Those Sto...</td>\n",
       "      <td>5.47824165185536e+17</td>\n",
       "      <td>http://n.pr/1CKulog</td>\n",
       "    </tr>\n",
       "    <tr>\n",
       "      <th>2</th>\n",
       "      <td>NaN</td>\n",
       "      <td>On Tuesday, the Food and Drug Administration r...</td>\n",
       "      <td>Wed Dec 24 14:41:04 +0000 2014</td>\n",
       "      <td>New Blood Donation Rules Would Still Exclude M...</td>\n",
       "      <td>5.477638976381993e+17</td>\n",
       "      <td>http://n.pr/1CJ9IsG</td>\n",
       "    </tr>\n",
       "    <tr>\n",
       "      <th>3</th>\n",
       "      <td>NaN</td>\n",
       "      <td>This time last year, federal officials were sc...</td>\n",
       "      <td>Wed Dec 24 08:34:09 +0000 2014</td>\n",
       "      <td>Obama Administration Downplays Court Challenge...</td>\n",
       "      <td>5.476715604718592e+17</td>\n",
       "      <td>http://n.pr/1CHaDd6</td>\n",
       "    </tr>\n",
       "    <tr>\n",
       "      <th>4</th>\n",
       "      <td>NaN</td>\n",
       "      <td>Ebola has cast a shadow over Liberia, but it c...</td>\n",
       "      <td>Wed Dec 24 08:34:08 +0000 2014</td>\n",
       "      <td>Christmas In Liberia: Ebola Fears, No Snow, Ho...</td>\n",
       "      <td>5.4767155360998195e+17</td>\n",
       "      <td>http://n.pr/1CHaAxQ</td>\n",
       "    </tr>\n",
       "  </tbody>\n",
       "</table>\n",
       "</div>"
      ],
      "text/plain": [
       "  author                                           contents  \\\n",
       "0    NaN  It's a warm afternoon in Miami, and 35-year-ol...   \n",
       "1    NaN  California's health insurance marketplace, Cov...   \n",
       "2    NaN  On Tuesday, the Food and Drug Administration r...   \n",
       "3    NaN  This time last year, federal officials were sc...   \n",
       "4    NaN  Ebola has cast a shadow over Liberia, but it c...   \n",
       "\n",
       "                             date  \\\n",
       "0  Mon Apr 06 16:13:15 +0000 2015   \n",
       "1  Wed Dec 24 18:40:33 +0000 2014   \n",
       "2  Wed Dec 24 14:41:04 +0000 2014   \n",
       "3  Wed Dec 24 08:34:09 +0000 2014   \n",
       "4  Wed Dec 24 08:34:08 +0000 2014   \n",
       "\n",
       "                                               title                 tweetid  \\\n",
       "0  RT @JennyAGold: Maybe You Should Skip That Ann...   5.851130446210662e+17   \n",
       "1  Would You Like Health Insurance With Those Sto...    5.47824165185536e+17   \n",
       "2  New Blood Donation Rules Would Still Exclude M...   5.477638976381993e+17   \n",
       "3  Obama Administration Downplays Court Challenge...   5.476715604718592e+17   \n",
       "4  Christmas In Liberia: Ebola Fears, No Snow, Ho...  5.4767155360998195e+17   \n",
       "\n",
       "                                                 url  \n",
       "0  http://www.npr.org/blogs/health/2015/04/06/397...  \n",
       "1                                http://n.pr/1CKulog  \n",
       "2                                http://n.pr/1CJ9IsG  \n",
       "3                                http://n.pr/1CHaDd6  \n",
       "4                                http://n.pr/1CHaAxQ  "
      ]
     },
     "execution_count": 6,
     "metadata": {},
     "output_type": "execute_result"
    }
   ],
   "source": [
    "frame.drop(labels=['tags','contents.1','tags.1','author.1'], axis=1, inplace=True)\n",
    "frame.head()"
   ]
  },
  {
   "cell_type": "code",
   "execution_count": 7,
   "metadata": {
    "ExecuteTime": {
     "end_time": "2019-05-07T23:52:28.031826Z",
     "start_time": "2019-05-07T23:52:27.995177Z"
    }
   },
   "outputs": [
    {
     "name": "stdout",
     "output_type": "stream",
     "text": [
      "<class 'pandas.core.frame.DataFrame'>\n",
      "RangeIndex: 19989 entries, 0 to 19988\n",
      "Data columns (total 6 columns):\n",
      "author      4412 non-null object\n",
      "contents    9372 non-null object\n",
      "date        19989 non-null object\n",
      "title       19989 non-null object\n",
      "tweetid     19989 non-null object\n",
      "url         17521 non-null object\n",
      "dtypes: object(6)\n",
      "memory usage: 937.1+ KB\n"
     ]
    }
   ],
   "source": [
    "frame.info()"
   ]
  },
  {
   "cell_type": "code",
   "execution_count": 8,
   "metadata": {
    "ExecuteTime": {
     "end_time": "2019-05-07T23:52:32.768465Z",
     "start_time": "2019-05-07T23:52:29.135100Z"
    }
   },
   "outputs": [
    {
     "ename": "ValueError",
     "evalue": "('Unknown string format:', 'date')",
     "output_type": "error",
     "traceback": [
      "\u001b[0;31m---------------------------------------------------------------------------\u001b[0m",
      "\u001b[0;31mTypeError\u001b[0m                                 Traceback (most recent call last)",
      "\u001b[0;32m~/anaconda3/lib/python3.7/site-packages/pandas/core/tools/datetimes.py\u001b[0m in \u001b[0;36m_convert_listlike\u001b[0;34m(arg, box, format, name, tz)\u001b[0m\n\u001b[1;32m    376\u001b[0m             \u001b[0;32mtry\u001b[0m\u001b[0;34m:\u001b[0m\u001b[0;34m\u001b[0m\u001b[0;34m\u001b[0m\u001b[0m\n\u001b[0;32m--> 377\u001b[0;31m                 \u001b[0mvalues\u001b[0m\u001b[0;34m,\u001b[0m \u001b[0mtz\u001b[0m \u001b[0;34m=\u001b[0m \u001b[0mconversion\u001b[0m\u001b[0;34m.\u001b[0m\u001b[0mdatetime_to_datetime64\u001b[0m\u001b[0;34m(\u001b[0m\u001b[0marg\u001b[0m\u001b[0;34m)\u001b[0m\u001b[0;34m\u001b[0m\u001b[0;34m\u001b[0m\u001b[0m\n\u001b[0m\u001b[1;32m    378\u001b[0m                 \u001b[0;32mreturn\u001b[0m \u001b[0mDatetimeIndex\u001b[0m\u001b[0;34m.\u001b[0m\u001b[0m_simple_new\u001b[0m\u001b[0;34m(\u001b[0m\u001b[0mvalues\u001b[0m\u001b[0;34m,\u001b[0m \u001b[0mname\u001b[0m\u001b[0;34m=\u001b[0m\u001b[0mname\u001b[0m\u001b[0;34m,\u001b[0m \u001b[0mtz\u001b[0m\u001b[0;34m=\u001b[0m\u001b[0mtz\u001b[0m\u001b[0;34m)\u001b[0m\u001b[0;34m\u001b[0m\u001b[0;34m\u001b[0m\u001b[0m\n",
      "\u001b[0;32mpandas/_libs/tslibs/conversion.pyx\u001b[0m in \u001b[0;36mpandas._libs.tslibs.conversion.datetime_to_datetime64\u001b[0;34m()\u001b[0m\n",
      "\u001b[0;31mTypeError\u001b[0m: Unrecognized value type: <class 'str'>",
      "\nDuring handling of the above exception, another exception occurred:\n",
      "\u001b[0;31mValueError\u001b[0m                                Traceback (most recent call last)",
      "\u001b[0;32m~/DSi6+/Share/p0h4y/ipynb/python-code/nlp.py\u001b[0m in \u001b[0;36m<module>\u001b[0;34m\u001b[0m\n\u001b[0;32m----> 1\u001b[0;31m \u001b[0mframe\u001b[0m\u001b[0;34m[\u001b[0m\u001b[0;34m'date'\u001b[0m\u001b[0;34m]\u001b[0m \u001b[0;34m=\u001b[0m \u001b[0mpd\u001b[0m\u001b[0;34m.\u001b[0m\u001b[0mto_datetime\u001b[0m\u001b[0;34m(\u001b[0m\u001b[0mframe\u001b[0m\u001b[0;34m[\u001b[0m\u001b[0;34m'date'\u001b[0m\u001b[0;34m]\u001b[0m\u001b[0;34m)\u001b[0m\u001b[0;34m\u001b[0m\u001b[0;34m\u001b[0m\u001b[0m\n\u001b[0m",
      "\u001b[0;32m~/anaconda3/lib/python3.7/site-packages/pandas/core/tools/datetimes.py\u001b[0m in \u001b[0;36mto_datetime\u001b[0;34m(arg, errors, dayfirst, yearfirst, utc, box, format, exact, unit, infer_datetime_format, origin, cache)\u001b[0m\n\u001b[1;32m    449\u001b[0m         \u001b[0;32melse\u001b[0m\u001b[0;34m:\u001b[0m\u001b[0;34m\u001b[0m\u001b[0;34m\u001b[0m\u001b[0m\n\u001b[1;32m    450\u001b[0m             \u001b[0;32mfrom\u001b[0m \u001b[0mpandas\u001b[0m \u001b[0;32mimport\u001b[0m \u001b[0mSeries\u001b[0m\u001b[0;34m\u001b[0m\u001b[0;34m\u001b[0m\u001b[0m\n\u001b[0;32m--> 451\u001b[0;31m             \u001b[0mvalues\u001b[0m \u001b[0;34m=\u001b[0m \u001b[0m_convert_listlike\u001b[0m\u001b[0;34m(\u001b[0m\u001b[0marg\u001b[0m\u001b[0;34m.\u001b[0m\u001b[0m_values\u001b[0m\u001b[0;34m,\u001b[0m \u001b[0;32mTrue\u001b[0m\u001b[0;34m,\u001b[0m \u001b[0mformat\u001b[0m\u001b[0;34m)\u001b[0m\u001b[0;34m\u001b[0m\u001b[0;34m\u001b[0m\u001b[0m\n\u001b[0m\u001b[1;32m    452\u001b[0m             \u001b[0mresult\u001b[0m \u001b[0;34m=\u001b[0m \u001b[0mSeries\u001b[0m\u001b[0;34m(\u001b[0m\u001b[0mvalues\u001b[0m\u001b[0;34m,\u001b[0m \u001b[0mindex\u001b[0m\u001b[0;34m=\u001b[0m\u001b[0marg\u001b[0m\u001b[0;34m.\u001b[0m\u001b[0mindex\u001b[0m\u001b[0;34m,\u001b[0m \u001b[0mname\u001b[0m\u001b[0;34m=\u001b[0m\u001b[0marg\u001b[0m\u001b[0;34m.\u001b[0m\u001b[0mname\u001b[0m\u001b[0;34m)\u001b[0m\u001b[0;34m\u001b[0m\u001b[0;34m\u001b[0m\u001b[0m\n\u001b[1;32m    453\u001b[0m     \u001b[0;32melif\u001b[0m \u001b[0misinstance\u001b[0m\u001b[0;34m(\u001b[0m\u001b[0marg\u001b[0m\u001b[0;34m,\u001b[0m \u001b[0;34m(\u001b[0m\u001b[0mABCDataFrame\u001b[0m\u001b[0;34m,\u001b[0m \u001b[0mMutableMapping\u001b[0m\u001b[0;34m)\u001b[0m\u001b[0;34m)\u001b[0m\u001b[0;34m:\u001b[0m\u001b[0;34m\u001b[0m\u001b[0;34m\u001b[0m\u001b[0m\n",
      "\u001b[0;32m~/anaconda3/lib/python3.7/site-packages/pandas/core/tools/datetimes.py\u001b[0m in \u001b[0;36m_convert_listlike\u001b[0;34m(arg, box, format, name, tz)\u001b[0m\n\u001b[1;32m    378\u001b[0m                 \u001b[0;32mreturn\u001b[0m \u001b[0mDatetimeIndex\u001b[0m\u001b[0;34m.\u001b[0m\u001b[0m_simple_new\u001b[0m\u001b[0;34m(\u001b[0m\u001b[0mvalues\u001b[0m\u001b[0;34m,\u001b[0m \u001b[0mname\u001b[0m\u001b[0;34m=\u001b[0m\u001b[0mname\u001b[0m\u001b[0;34m,\u001b[0m \u001b[0mtz\u001b[0m\u001b[0;34m=\u001b[0m\u001b[0mtz\u001b[0m\u001b[0;34m)\u001b[0m\u001b[0;34m\u001b[0m\u001b[0;34m\u001b[0m\u001b[0m\n\u001b[1;32m    379\u001b[0m             \u001b[0;32mexcept\u001b[0m \u001b[0;34m(\u001b[0m\u001b[0mValueError\u001b[0m\u001b[0;34m,\u001b[0m \u001b[0mTypeError\u001b[0m\u001b[0;34m)\u001b[0m\u001b[0;34m:\u001b[0m\u001b[0;34m\u001b[0m\u001b[0;34m\u001b[0m\u001b[0m\n\u001b[0;32m--> 380\u001b[0;31m                 \u001b[0;32mraise\u001b[0m \u001b[0me\u001b[0m\u001b[0;34m\u001b[0m\u001b[0;34m\u001b[0m\u001b[0m\n\u001b[0m\u001b[1;32m    381\u001b[0m \u001b[0;34m\u001b[0m\u001b[0m\n\u001b[1;32m    382\u001b[0m     \u001b[0;32mif\u001b[0m \u001b[0marg\u001b[0m \u001b[0;32mis\u001b[0m \u001b[0;32mNone\u001b[0m\u001b[0;34m:\u001b[0m\u001b[0;34m\u001b[0m\u001b[0;34m\u001b[0m\u001b[0m\n",
      "\u001b[0;32m~/anaconda3/lib/python3.7/site-packages/pandas/core/tools/datetimes.py\u001b[0m in \u001b[0;36m_convert_listlike\u001b[0;34m(arg, box, format, name, tz)\u001b[0m\n\u001b[1;32m    366\u001b[0m                     \u001b[0mdayfirst\u001b[0m\u001b[0;34m=\u001b[0m\u001b[0mdayfirst\u001b[0m\u001b[0;34m,\u001b[0m\u001b[0;34m\u001b[0m\u001b[0;34m\u001b[0m\u001b[0m\n\u001b[1;32m    367\u001b[0m                     \u001b[0myearfirst\u001b[0m\u001b[0;34m=\u001b[0m\u001b[0myearfirst\u001b[0m\u001b[0;34m,\u001b[0m\u001b[0;34m\u001b[0m\u001b[0;34m\u001b[0m\u001b[0m\n\u001b[0;32m--> 368\u001b[0;31m                     \u001b[0mrequire_iso8601\u001b[0m\u001b[0;34m=\u001b[0m\u001b[0mrequire_iso8601\u001b[0m\u001b[0;34m\u001b[0m\u001b[0;34m\u001b[0m\u001b[0m\n\u001b[0m\u001b[1;32m    369\u001b[0m                 )\n\u001b[1;32m    370\u001b[0m \u001b[0;34m\u001b[0m\u001b[0m\n",
      "\u001b[0;32mpandas/_libs/tslib.pyx\u001b[0m in \u001b[0;36mpandas._libs.tslib.array_to_datetime\u001b[0;34m()\u001b[0m\n",
      "\u001b[0;32mpandas/_libs/tslib.pyx\u001b[0m in \u001b[0;36mpandas._libs.tslib.array_to_datetime\u001b[0;34m()\u001b[0m\n",
      "\u001b[0;32mpandas/_libs/tslib.pyx\u001b[0m in \u001b[0;36mpandas._libs.tslib.array_to_datetime\u001b[0;34m()\u001b[0m\n",
      "\u001b[0;32mpandas/_libs/tslibs/parsing.pyx\u001b[0m in \u001b[0;36mpandas._libs.tslibs.parsing.parse_datetime_string\u001b[0;34m()\u001b[0m\n",
      "\u001b[0;32m~/anaconda3/lib/python3.7/site-packages/dateutil/parser/_parser.py\u001b[0m in \u001b[0;36mparse\u001b[0;34m(timestr, parserinfo, **kwargs)\u001b[0m\n\u001b[1;32m   1354\u001b[0m         \u001b[0;32mreturn\u001b[0m \u001b[0mparser\u001b[0m\u001b[0;34m(\u001b[0m\u001b[0mparserinfo\u001b[0m\u001b[0;34m)\u001b[0m\u001b[0;34m.\u001b[0m\u001b[0mparse\u001b[0m\u001b[0;34m(\u001b[0m\u001b[0mtimestr\u001b[0m\u001b[0;34m,\u001b[0m \u001b[0;34m**\u001b[0m\u001b[0mkwargs\u001b[0m\u001b[0;34m)\u001b[0m\u001b[0;34m\u001b[0m\u001b[0;34m\u001b[0m\u001b[0m\n\u001b[1;32m   1355\u001b[0m     \u001b[0;32melse\u001b[0m\u001b[0;34m:\u001b[0m\u001b[0;34m\u001b[0m\u001b[0;34m\u001b[0m\u001b[0m\n\u001b[0;32m-> 1356\u001b[0;31m         \u001b[0;32mreturn\u001b[0m \u001b[0mDEFAULTPARSER\u001b[0m\u001b[0;34m.\u001b[0m\u001b[0mparse\u001b[0m\u001b[0;34m(\u001b[0m\u001b[0mtimestr\u001b[0m\u001b[0;34m,\u001b[0m \u001b[0;34m**\u001b[0m\u001b[0mkwargs\u001b[0m\u001b[0;34m)\u001b[0m\u001b[0;34m\u001b[0m\u001b[0;34m\u001b[0m\u001b[0m\n\u001b[0m\u001b[1;32m   1357\u001b[0m \u001b[0;34m\u001b[0m\u001b[0m\n\u001b[1;32m   1358\u001b[0m \u001b[0;34m\u001b[0m\u001b[0m\n",
      "\u001b[0;32m~/anaconda3/lib/python3.7/site-packages/dateutil/parser/_parser.py\u001b[0m in \u001b[0;36mparse\u001b[0;34m(self, timestr, default, ignoretz, tzinfos, **kwargs)\u001b[0m\n\u001b[1;32m    646\u001b[0m \u001b[0;34m\u001b[0m\u001b[0m\n\u001b[1;32m    647\u001b[0m         \u001b[0;32mif\u001b[0m \u001b[0mres\u001b[0m \u001b[0;32mis\u001b[0m \u001b[0;32mNone\u001b[0m\u001b[0;34m:\u001b[0m\u001b[0;34m\u001b[0m\u001b[0;34m\u001b[0m\u001b[0m\n\u001b[0;32m--> 648\u001b[0;31m             \u001b[0;32mraise\u001b[0m \u001b[0mValueError\u001b[0m\u001b[0;34m(\u001b[0m\u001b[0;34m\"Unknown string format:\"\u001b[0m\u001b[0;34m,\u001b[0m \u001b[0mtimestr\u001b[0m\u001b[0;34m)\u001b[0m\u001b[0;34m\u001b[0m\u001b[0;34m\u001b[0m\u001b[0m\n\u001b[0m\u001b[1;32m    649\u001b[0m \u001b[0;34m\u001b[0m\u001b[0m\n\u001b[1;32m    650\u001b[0m         \u001b[0;32mif\u001b[0m \u001b[0mlen\u001b[0m\u001b[0;34m(\u001b[0m\u001b[0mres\u001b[0m\u001b[0;34m)\u001b[0m \u001b[0;34m==\u001b[0m \u001b[0;36m0\u001b[0m\u001b[0;34m:\u001b[0m\u001b[0;34m\u001b[0m\u001b[0;34m\u001b[0m\u001b[0m\n",
      "\u001b[0;31mValueError\u001b[0m: ('Unknown string format:', 'date')"
     ]
    }
   ],
   "source": [
    "frame['date'] = pd.to_datetime(frame['date'])"
   ]
  },
  {
   "cell_type": "code",
   "execution_count": 14,
   "metadata": {
    "ExecuteTime": {
     "end_time": "2019-05-07T23:46:30.116495Z",
     "start_time": "2019-05-07T23:46:30.094532Z"
    }
   },
   "outputs": [
    {
     "data": {
      "text/plain": [
       "0        It's a warm afternoon in Miami, and 35-year-ol...\n",
       "1        California's health insurance marketplace, Cov...\n",
       "2        On Tuesday, the Food and Drug Administration r...\n",
       "3        This time last year, federal officials were sc...\n",
       "4        Ebola has cast a shadow over Liberia, but it c...\n",
       "5        Every week, Dr. Michael Poshkus visits the Joh...\n",
       "6        Imagine you live on a floating lake house. Ope...\n",
       "7        We know that you can be fat while still fit, b...\n",
       "8        We have received a bunch of questions about en...\n",
       "9        Garrett Peterson was born in 2012 with a defec...\n",
       "10       If your cardiologist is away at a conference w...\n",
       "11       A new study says that the mortality risk for p...\n",
       "12       Compared with other primates and our early hum...\n",
       "13       For a few weeks last year, Michael Tranfaglia ...\n",
       "14       Chronic pain affects tens of millions of Ameri...\n",
       "15       I'm a proud nurse from a proud family of nurse...\n",
       "16       I'm a proud nurse from a proud family of nurse...\n",
       "17       The number of people who have died from the wo...\n",
       "18       Stepping off the plane in Zimbabwe a quarter c...\n",
       "19       Melissa Block talks to Dr. Thomas Frieden, dir...\n",
       "20       A veritable jungle of organisms is helping kee...\n",
       "21       I found her curled up in the fetal position on...\n",
       "22       Most of us don't remember our first two or thr...\n",
       "23       Medicare has begun punishing 721 hospitals wit...\n",
       "24       On the eastern edge of St. Joseph, Mo., lies t...\n",
       "25       A pretty blonde gives a crumb of food to a bla...\n",
       "26       Some researchers who study the virus that caus...\n",
       "27       We're living longer.. And cardiovascular disea...\n",
       "28       California is battling the worst whooping coug...\n",
       "29       Ebola may have slid off the nation's worry lis...\n",
       "                               ...                        \n",
       "19959                                                Blank\n",
       "19960                                                Blank\n",
       "19961                                                Blank\n",
       "19962                                                Blank\n",
       "19963                                                Blank\n",
       "19964                                                Blank\n",
       "19965                                                Blank\n",
       "19966                                                Blank\n",
       "19967    Making breakfast a daily habit helps you ward ...\n",
       "19968    You don't need harsh chemicals—or tons of time...\n",
       "19969                                                Blank\n",
       "19970                                                Blank\n",
       "19971                                                Blank\n",
       "19972                                                Blank\n",
       "19973                                                Blank\n",
       "19974    For a good workout, you need to buy a hoop for...\n",
       "19975                                                Blank\n",
       "19976                                                Blank\n",
       "19977                                                Blank\n",
       "19978                                                Blank\n",
       "19979                                                Blank\n",
       "19980                                                Blank\n",
       "19981    While strawberries start to ripen as early as ...\n",
       "19982    Crohn's disease is a chronic, incurable inflam...\n",
       "19983    \\n                      .  To be determined. B...\n",
       "19984                                                Blank\n",
       "19985                                                Blank\n",
       "19986                                                Blank\n",
       "19987    Hot summer days call for refreshing drinks. Wh...\n",
       "19988                                                Blank\n",
       "Name: contents, Length: 19989, dtype: object"
      ]
     },
     "execution_count": 14,
     "metadata": {},
     "output_type": "execute_result"
    }
   ],
   "source": [
    "frame.fillna('Blank')"
   ]
  },
  {
   "cell_type": "code",
   "execution_count": 8,
   "metadata": {
    "ExecuteTime": {
     "end_time": "2019-05-07T23:42:42.251261Z",
     "start_time": "2019-05-07T23:42:42.239061Z"
    }
   },
   "outputs": [
    {
     "data": {
      "text/plain": [
       "author                                 NaN\n",
       "contents                               NaN\n",
       "date        Sun Dec 14 20:05:17 +0000 2014\n",
       "title                              Health \n",
       "tweetid              5.442216097419346e+17\n",
       "url                    http://n.pr/1BDX9hO\n",
       "Name: 59, dtype: object"
      ]
     },
     "execution_count": 8,
     "metadata": {},
     "output_type": "execute_result"
    }
   ],
   "source": [
    "frame.iloc[59]"
   ]
  },
  {
   "cell_type": "code",
   "execution_count": 16,
   "metadata": {
    "ExecuteTime": {
     "end_time": "2019-05-07T23:47:41.726458Z",
     "start_time": "2019-05-07T23:47:41.573731Z"
    }
   },
   "outputs": [
    {
     "name": "stdout",
     "output_type": "stream",
     "text": [
      "0  :  <class 'str'>\n",
      "1  :  <class 'str'>\n",
      "2  :  <class 'str'>\n",
      "3  :  <class 'str'>\n",
      "4  :  <class 'str'>\n",
      "5  :  <class 'str'>\n",
      "6  :  <class 'str'>\n",
      "7  :  <class 'str'>\n",
      "8  :  <class 'str'>\n",
      "9  :  <class 'str'>\n",
      "10  :  <class 'str'>\n",
      "11  :  <class 'str'>\n",
      "12  :  <class 'str'>\n",
      "13  :  <class 'str'>\n",
      "14  :  <class 'str'>\n",
      "15  :  <class 'str'>\n",
      "16  :  <class 'str'>\n",
      "17  :  <class 'str'>\n",
      "18  :  <class 'str'>\n",
      "19  :  <class 'str'>\n",
      "20  :  <class 'str'>\n",
      "21  :  <class 'str'>\n",
      "22  :  <class 'str'>\n",
      "23  :  <class 'str'>\n",
      "24  :  <class 'str'>\n",
      "25  :  <class 'str'>\n",
      "26  :  <class 'str'>\n",
      "27  :  <class 'str'>\n",
      "28  :  <class 'str'>\n",
      "29  :  <class 'str'>\n",
      "30  :  <class 'str'>\n",
      "31  :  <class 'str'>\n",
      "32  :  <class 'str'>\n",
      "33  :  <class 'str'>\n",
      "34  :  <class 'str'>\n",
      "35  :  <class 'str'>\n",
      "36  :  <class 'str'>\n",
      "37  :  <class 'str'>\n",
      "38  :  <class 'str'>\n",
      "39  :  <class 'str'>\n",
      "40  :  <class 'str'>\n",
      "41  :  <class 'str'>\n",
      "42  :  <class 'str'>\n",
      "43  :  <class 'str'>\n",
      "44  :  <class 'str'>\n",
      "45  :  <class 'str'>\n",
      "46  :  <class 'str'>\n",
      "47  :  <class 'str'>\n",
      "48  :  <class 'str'>\n",
      "49  :  <class 'str'>\n",
      "50  :  <class 'str'>\n",
      "51  :  <class 'str'>\n",
      "52  :  <class 'str'>\n",
      "53  :  <class 'str'>\n",
      "54  :  <class 'str'>\n",
      "55  :  <class 'str'>\n",
      "56  :  <class 'str'>\n",
      "57  :  <class 'str'>\n",
      "58  :  <class 'str'>\n",
      "59  :  <class 'float'>\n",
      "60  :  <class 'str'>\n",
      "61  :  <class 'str'>\n",
      "62  :  <class 'str'>\n",
      "63  :  <class 'str'>\n",
      "64  :  <class 'str'>\n",
      "65  :  <class 'str'>\n",
      "66  :  <class 'str'>\n",
      "67  :  <class 'str'>\n",
      "68  :  <class 'str'>\n",
      "69  :  <class 'str'>\n",
      "70  :  <class 'str'>\n",
      "71  :  <class 'str'>\n",
      "72  :  <class 'str'>\n",
      "73  :  <class 'str'>\n",
      "74  :  <class 'str'>\n",
      "75  :  <class 'str'>\n",
      "76  :  <class 'str'>\n",
      "77  :  <class 'str'>\n",
      "78  :  <class 'str'>\n",
      "79  :  <class 'str'>\n",
      "80  :  <class 'str'>\n",
      "81  :  <class 'str'>\n",
      "82  :  <class 'str'>\n",
      "83  :  <class 'str'>\n",
      "84  :  <class 'str'>\n",
      "85  :  <class 'str'>\n",
      "86  :  <class 'str'>\n",
      "87  :  <class 'str'>\n",
      "88  :  <class 'str'>\n",
      "89  :  <class 'str'>\n",
      "90  :  <class 'str'>\n",
      "91  :  <class 'str'>\n",
      "92  :  <class 'str'>\n",
      "93  :  <class 'str'>\n",
      "94  :  <class 'str'>\n",
      "95  :  <class 'str'>\n",
      "96  :  <class 'str'>\n",
      "97  :  <class 'str'>\n",
      "98  :  <class 'str'>\n",
      "99  :  <class 'str'>\n"
     ]
    }
   ],
   "source": [
    "# Write to file txt\n",
    "file_names = frame['tweetid'].values\n",
    "\n",
    "for key, name in enumerate(file_names[:100]):\n",
    "    \n",
    "    # Construct the file name\n",
    "    located_file = './training/' + str(name) + '.txt'\n",
    "    \n",
    "    # Open file for writing\n",
    "    f= open(located_file,\"w+\")\n",
    "    \n",
    "    try:\n",
    "    \n",
    "        # Writing on file\n",
    "        contents = str(frame['contents'].iloc[key])\n",
    "        print(key, ' : ' ,type(contents))\n",
    "        if contents is not 'blank':\n",
    "            f.write(contents)\n",
    "        else:\n",
    "            print(len(contents))\n",
    "\n",
    "        # close file connection\n",
    "        f.close()\n",
    "    except:\n",
    "        pass"
   ]
  },
  {
   "cell_type": "code",
   "execution_count": null,
   "metadata": {
    "ExecuteTime": {
     "end_time": "2019-05-07T23:42:02.469483Z",
     "start_time": "2019-05-07T23:41:55.445Z"
    }
   },
   "outputs": [],
   "source": [
    "frame.info()"
   ]
  },
  {
   "cell_type": "code",
   "execution_count": null,
   "metadata": {
    "ExecuteTime": {
     "end_time": "2019-05-07T23:42:02.472450Z",
     "start_time": "2019-05-07T23:41:55.451Z"
    }
   },
   "outputs": [],
   "source": [
    "df = frame[['date']].copy()\n",
    "df.head()"
   ]
  },
  {
   "cell_type": "code",
   "execution_count": null,
   "metadata": {
    "ExecuteTime": {
     "end_time": "2019-05-07T23:42:02.475640Z",
     "start_time": "2019-05-07T23:41:55.455Z"
    }
   },
   "outputs": [],
   "source": [
    "df['year'] = df['date'].dt.year\n",
    "df['month'] = df['date'].dt.strftime('%b')\n",
    "df['weekday'] = df['date'].dt.strftime('%A')\n",
    "df['hour'] = df['date'].dt.hour\n",
    "df['minutes'] = df['date'].dt.strftime('%M')"
   ]
  },
  {
   "cell_type": "code",
   "execution_count": null,
   "metadata": {
    "ExecuteTime": {
     "end_time": "2019-05-07T23:42:02.478719Z",
     "start_time": "2019-05-07T23:41:55.461Z"
    }
   },
   "outputs": [],
   "source": [
    "df.head()"
   ]
  },
  {
   "cell_type": "code",
   "execution_count": null,
   "metadata": {
    "ExecuteTime": {
     "end_time": "2019-05-07T23:42:02.481708Z",
     "start_time": "2019-05-07T23:41:55.466Z"
    }
   },
   "outputs": [],
   "source": [
    "df['weekday'].value_counts()"
   ]
  },
  {
   "cell_type": "code",
   "execution_count": null,
   "metadata": {
    "ExecuteTime": {
     "end_time": "2019-05-07T23:42:02.484073Z",
     "start_time": "2019-05-07T23:41:55.471Z"
    }
   },
   "outputs": [],
   "source": [
    "df['month'].value_counts()"
   ]
  },
  {
   "cell_type": "code",
   "execution_count": null,
   "metadata": {
    "ExecuteTime": {
     "end_time": "2019-05-07T23:42:02.486632Z",
     "start_time": "2019-05-07T23:41:55.476Z"
    }
   },
   "outputs": [],
   "source": [
    "df['hour'].value_counts().sort_index()"
   ]
  },
  {
   "cell_type": "code",
   "execution_count": null,
   "metadata": {
    "ExecuteTime": {
     "end_time": "2019-05-07T23:42:02.492137Z",
     "start_time": "2019-05-07T23:41:55.482Z"
    }
   },
   "outputs": [],
   "source": [
    "test_txt = \"\"\"\n",
    "Students were urged to make sure their vaccinations were up to date following reports of cases of mumps at Cardiff Metropolitan University in April.\n",
    "\n",
    "Last year, Public Health Wales asked parents to get their children vaccinated after outbreaks of measles around south east Wales.\n",
    "\n",
    "The report also looks at the threat from resistance to antibiotics.\n",
    "\n",
    "Global overuse of antibiotics has led to a reduction in their effectiveness, as bacteria grow immune to them.\n",
    "\n",
    "The report says this has already led to a small number of difficult to treat infections, leading to \"failed therapy and potential complications\".\n",
    "\n",
    "A focus on reducing antibiotic use in GPs' surgeries saw a fall of nearly 12% in their use over five years, the report added.\n",
    "\n",
    "\"\"\"\n",
    "\n",
    "tnlp = NLP(test_txt)\n",
    "tnlp.tokenizer()\n",
    "\n",
    "tnlp.stemming()"
   ]
  },
  {
   "cell_type": "code",
   "execution_count": null,
   "metadata": {},
   "outputs": [],
   "source": []
  }
 ],
 "metadata": {
  "kernelspec": {
   "display_name": "Python 3",
   "language": "python",
   "name": "python3"
  },
  "language_info": {
   "codemirror_mode": {
    "name": "ipython",
    "version": 3
   },
   "file_extension": ".py",
   "mimetype": "text/x-python",
   "name": "python",
   "nbconvert_exporter": "python",
   "pygments_lexer": "ipython3",
   "version": "3.7.1"
  },
  "toc": {
   "base_numbering": 1,
   "nav_menu": {},
   "number_sections": true,
   "sideBar": true,
   "skip_h1_title": false,
   "title_cell": "Table of Contents",
   "title_sidebar": "Contents",
   "toc_cell": false,
   "toc_position": {},
   "toc_section_display": true,
   "toc_window_display": false
  }
 },
 "nbformat": 4,
 "nbformat_minor": 2
}
