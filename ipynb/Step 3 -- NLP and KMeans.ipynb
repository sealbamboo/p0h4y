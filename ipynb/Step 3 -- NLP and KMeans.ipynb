{
 "cells": [
  {
   "cell_type": "code",
   "execution_count": 1,
   "metadata": {
    "ExecuteTime": {
     "end_time": "2019-05-22T05:18:18.954359Z",
     "start_time": "2019-05-22T05:18:09.578742Z"
    }
   },
   "outputs": [],
   "source": [
    "import os, re\n",
    "import spacy\n",
    "import numpy as np \n",
    "import pandas as pd \n",
    "import matplotlib.pyplot as plt\n",
    "import seaborn as sns\n",
    "\n",
    "from sklearn.feature_extraction import text\n",
    "from sklearn.feature_extraction.text import TfidfVectorizer\n",
    "from sklearn.cluster import KMeans\n",
    "from nltk.tokenize import RegexpTokenizer\n",
    "from nltk.stem.snowball import SnowballStemmer\n",
    "from sklearn.base import TransformerMixin\n",
    "\n",
    "# Folder path\n",
    "folder = './run_data/'\n",
    "folder_traing = './training/'\n",
    "dest_file = './final/final_content.csv'\n",
    "\n",
    "%matplotlib inline"
   ]
  },
  {
   "cell_type": "code",
   "execution_count": 2,
   "metadata": {
    "ExecuteTime": {
     "end_time": "2019-05-22T05:18:19.152458Z",
     "start_time": "2019-05-22T05:18:18.981017Z"
    }
   },
   "outputs": [
    {
     "name": "stdout",
     "output_type": "stream",
     "text": [
      "Total files:  25737\n",
      "['501510283588685824.txt', '564880695911124992.txt', '328599052881121280.txt', '454427476240769025.txt', '489080940820701184.txt']\n"
     ]
    }
   ],
   "source": [
    "entries = os.listdir(folder_traing)\n",
    "print(\"Total files: \", len(entries))\n",
    "\n",
    "# Print out file names\n",
    "print([entry for entry in entries[:5]])"
   ]
  },
  {
   "cell_type": "code",
   "execution_count": 3,
   "metadata": {
    "ExecuteTime": {
     "end_time": "2019-05-22T05:18:34.057205Z",
     "start_time": "2019-05-22T05:18:19.171850Z"
    }
   },
   "outputs": [],
   "source": [
    "# Read file and push to list\\n\",\n",
    "list_text = []\n",
    "# list_text.append([f.read() with open(file,'r') as f for file in entries\"]\n",
    "\n",
    "for entry in entries:\n",
    "    file = folder_traing + entry\n",
    "    with open(file, 'r') as f:\n",
    "        data = f.read()\n",
    "#         print(\"Read: \", len(data))\n",
    "        list_text.append(data)\n",
    "#         print(\"====================\\n\")"
   ]
  },
  {
   "cell_type": "code",
   "execution_count": 4,
   "metadata": {
    "ExecuteTime": {
     "end_time": "2019-05-22T05:18:34.104032Z",
     "start_time": "2019-05-22T05:18:34.065482Z"
    }
   },
   "outputs": [],
   "source": [
    "# Split data into training & testing\n",
    "X_train = list_text[:11000]\n",
    "X_test = list_text[11001::]"
   ]
  },
  {
   "cell_type": "markdown",
   "metadata": {},
   "source": [
    "### 1. CleanText (Spacy)"
   ]
  },
  {
   "cell_type": "code",
   "execution_count": 5,
   "metadata": {
    "ExecuteTime": {
     "end_time": "2019-05-22T05:18:35.734379Z",
     "start_time": "2019-05-22T05:18:34.114896Z"
    }
   },
   "outputs": [],
   "source": [
    "nlp = spacy.load(\"en_core_web_sm\")\n",
    "stemmer = SnowballStemmer('english',ignore_stopwords=True)"
   ]
  },
  {
   "cell_type": "code",
   "execution_count": 6,
   "metadata": {
    "ExecuteTime": {
     "end_time": "2019-05-22T05:18:35.762343Z",
     "start_time": "2019-05-22T05:18:35.745447Z"
    }
   },
   "outputs": [],
   "source": [
    "punc = ['.', ',', '\"', \"'\", '?', '!', ':', ';', '(', ')', '[', ']', '{', '}',\"%\"]\n",
    "STOPLIST = text.ENGLISH_STOP_WORDS.union(punc)\n",
    "# STOPLIST = STOPLIST.union(extra)\n",
    "SYMBOLS = \"?:!.,;(){}[]%\""
   ]
  },
  {
   "cell_type": "code",
   "execution_count": 7,
   "metadata": {
    "ExecuteTime": {
     "end_time": "2019-05-22T05:18:35.841153Z",
     "start_time": "2019-05-22T05:18:35.791699Z"
    }
   },
   "outputs": [],
   "source": [
    "def cleanText(text):\n",
    "    text = text.strip().replace(\"\\n\", \" \").replace(\"\\r\", \" \")\n",
    "    text = text.lower()\n",
    "    return text\n",
    "def tokenizeText(sample):\n",
    "    tokens = nlp(sample)\n",
    "    lemmas = []\n",
    "    for tok in tokens:\n",
    "        lemmas.append(tok.lemma_.lower().strip() if tok.lemma_ != \"-PRON-\" else tok.lower_)\n",
    "    tokens = lemmas\n",
    "    tokens = [re.sub(r\"([0-9]+)\",\"\",tok) for tok in tokens]\n",
    "    tokens = [tok for tok in tokens if tok not in STOPLIST]\n",
    "    tokens = [tok for tok in tokens if tok not in SYMBOLS]\n",
    "    return tokens"
   ]
  },
  {
   "cell_type": "code",
   "execution_count": 8,
   "metadata": {
    "ExecuteTime": {
     "end_time": "2019-05-22T05:18:35.904606Z",
     "start_time": "2019-05-22T05:18:35.864817Z"
    }
   },
   "outputs": [],
   "source": [
    "class CleanTextTransformer(TransformerMixin):\n",
    "    def transform(self, X, **transform_params):\n",
    "        return [cleanText(text) for text in X]\n",
    "    def fit(self, X, y=None, **fit_params):\n",
    "        return self\n",
    "    def get_params(self, deep=True):\n",
    "        return {}"
   ]
  },
  {
   "cell_type": "markdown",
   "metadata": {},
   "source": [
    "### 2. Stopwords & TfidfVectorizer"
   ]
  },
  {
   "cell_type": "code",
   "execution_count": null,
   "metadata": {
    "ExecuteTime": {
     "start_time": "2019-05-22T05:18:09.690Z"
    }
   },
   "outputs": [],
   "source": [
    "vectorizer = TfidfVectorizer(stop_words = STOPLIST)\n",
    "X = vectorizer.fit_transform(X_train)"
   ]
  },
  {
   "cell_type": "code",
   "execution_count": null,
   "metadata": {
    "ExecuteTime": {
     "start_time": "2019-05-22T05:18:09.700Z"
    }
   },
   "outputs": [
    {
     "data": {
      "text/plain": [
       "65330"
      ]
     },
     "execution_count": 10,
     "metadata": {},
     "output_type": "execute_result"
    }
   ],
   "source": [
    "word_features = vectorizer.get_feature_names()\n",
    "len(word_features)"
   ]
  },
  {
   "cell_type": "code",
   "execution_count": null,
   "metadata": {
    "ExecuteTime": {
     "start_time": "2019-05-22T05:18:09.709Z"
    }
   },
   "outputs": [],
   "source": [
    "tokenizer = RegexpTokenizer(r'[a-zA-Z\\']+')\n",
    "\n",
    "def mf_tokenize(text):\n",
    "    return [stemmer.stem(word) for word in tokenizer.tokenize(text.lower())]"
   ]
  },
  {
   "cell_type": "code",
   "execution_count": null,
   "metadata": {
    "ExecuteTime": {
     "start_time": "2019-05-22T05:18:09.725Z"
    }
   },
   "outputs": [
    {
     "name": "stderr",
     "output_type": "stream",
     "text": [
      "/home/shayne/Anaconda3/envs/caps_env/lib/python3.6/site-packages/sklearn/feature_extraction/text.py:301: UserWarning: Your stop_words may be inconsistent with your preprocessing. Tokenizing the stop words generated tokens ['make'] not in stop_words.\n",
      "  'stop_words.' % sorted(inconsistent))\n"
     ]
    }
   ],
   "source": [
    "vectorizer2 = TfidfVectorizer(stop_words=STOPLIST,tokenizer=tokenizeText)\n",
    "X2 = vectorizer2.fit_transform(X_train)\n",
    "word_features2 = vectorizer2.get_feature_names()\n",
    "len(word_features2)"
   ]
  },
  {
   "cell_type": "code",
   "execution_count": null,
   "metadata": {
    "ExecuteTime": {
     "start_time": "2019-05-22T05:18:09.735Z"
    }
   },
   "outputs": [],
   "source": [
    "vectorizer3 = TfidfVectorizer(stop_words=STOPLIST, tokenizer=tokenizeText,max_features=2000)\n",
    "X3 = vectorizer3.fit_transform(X_train)\n",
    "word_features3 = vectorizer3.get_feature_names()\n",
    "len(word_features3)"
   ]
  },
  {
   "cell_type": "markdown",
   "metadata": {
    "ExecuteTime": {
     "end_time": "2019-05-14T12:17:19.104746Z",
     "start_time": "2019-05-14T12:17:19.100758Z"
    }
   },
   "source": [
    "### 2. KMeans"
   ]
  },
  {
   "cell_type": "code",
   "execution_count": null,
   "metadata": {
    "ExecuteTime": {
     "start_time": "2019-05-22T05:18:09.754Z"
    }
   },
   "outputs": [],
   "source": [
    "kmeans = KMeans(n_clusters = 10, n_init = 5, n_jobs = -1)\n",
    "kmeans.fit(X3)"
   ]
  },
  {
   "cell_type": "code",
   "execution_count": null,
   "metadata": {
    "ExecuteTime": {
     "start_time": "2019-05-22T05:18:09.765Z"
    }
   },
   "outputs": [],
   "source": [
    "predicted = kmeans.labels_\n",
    "centroids = kmeans.cluster_centers_"
   ]
  },
  {
   "cell_type": "code",
   "execution_count": null,
   "metadata": {
    "ExecuteTime": {
     "start_time": "2019-05-22T05:18:09.775Z"
    }
   },
   "outputs": [],
   "source": [
    "common_words = centroids.argsort()[:,-1:-11:-1]\n",
    "for num, centroid in enumerate(common_words):\n",
    "    print(str(num) + ' : ' + ', '.join(word_features3[word] for word in centroid))"
   ]
  },
  {
   "cell_type": "code",
   "execution_count": null,
   "metadata": {
    "ExecuteTime": {
     "start_time": "2019-05-22T05:18:09.791Z"
    }
   },
   "outputs": [],
   "source": [
    "X3"
   ]
  },
  {
   "cell_type": "code",
   "execution_count": null,
   "metadata": {
    "ExecuteTime": {
     "start_time": "2019-05-22T05:18:09.802Z"
    }
   },
   "outputs": [],
   "source": [
    "type(predicted)"
   ]
  },
  {
   "cell_type": "code",
   "execution_count": null,
   "metadata": {
    "ExecuteTime": {
     "start_time": "2019-05-22T05:18:09.810Z"
    }
   },
   "outputs": [],
   "source": [
    "frame = pd.DataFrame(predicted,columns=['label'])\n",
    "frame.to_csv('./final/label.csv',sep='|',index=None)"
   ]
  },
  {
   "cell_type": "code",
   "execution_count": null,
   "metadata": {
    "ExecuteTime": {
     "start_time": "2019-05-22T05:18:09.818Z"
    }
   },
   "outputs": [],
   "source": [
    "frame = pd.DataFrame(centroids)\n",
    "frame.to_csv('./final/centroids.csv',sep='|',index=None)"
   ]
  },
  {
   "cell_type": "code",
   "execution_count": null,
   "metadata": {},
   "outputs": [],
   "source": []
  }
 ],
 "metadata": {
  "kernelspec": {
   "display_name": "Python 3",
   "language": "python",
   "name": "python3"
  },
  "language_info": {
   "codemirror_mode": {
    "name": "ipython",
    "version": 3
   },
   "file_extension": ".py",
   "mimetype": "text/x-python",
   "name": "python",
   "nbconvert_exporter": "python",
   "pygments_lexer": "ipython3",
   "version": "3.6.8"
  },
  "toc": {
   "base_numbering": 1,
   "nav_menu": {},
   "number_sections": true,
   "sideBar": true,
   "skip_h1_title": false,
   "title_cell": "Table of Contents",
   "title_sidebar": "Contents",
   "toc_cell": false,
   "toc_position": {},
   "toc_section_display": true,
   "toc_window_display": false
  }
 },
 "nbformat": 4,
 "nbformat_minor": 2
}
