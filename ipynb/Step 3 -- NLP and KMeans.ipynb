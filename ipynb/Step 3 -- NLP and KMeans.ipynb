{
 "cells": [
  {
   "cell_type": "code",
   "execution_count": 3,
   "metadata": {
    "ExecuteTime": {
     "end_time": "2019-05-14T11:24:21.969498Z",
     "start_time": "2019-05-14T11:24:21.961502Z"
    }
   },
   "outputs": [],
   "source": [
    "import os\n",
    "\n",
    "import numpy as np \n",
    "import pandas as pd \n",
    "import matplotlib.pyplot as plt\n",
    "import seaborn as sns\n",
    "\n",
    "from sklearn.feature_extraction import text\n",
    "from sklearn.feature_extraction.text import TfidfVectorizer\n",
    "from sklearn.cluster import KMeans\n",
    "from nltk.tokenize import RegexpTokenizer\n",
    "from nltk.stem.snowball import SnowballStemmer\n",
    "\n",
    "# Folder path\n",
    "folder = './run_data/'\n",
    "folder_traing = './training/'\n",
    "dest_file = './final/final_content.csv'\n",
    "\n",
    "%matplotlib inline"
   ]
  },
  {
   "cell_type": "code",
   "execution_count": 4,
   "metadata": {
    "ExecuteTime": {
     "end_time": "2019-05-14T11:24:22.587547Z",
     "start_time": "2019-05-14T11:24:22.529575Z"
    }
   },
   "outputs": [
    {
     "name": "stdout",
     "output_type": "stream",
     "text": [
      "Total files:  21512\n",
      "['100634927493693440.txt', '100691512974778368.txt', '100997287899172864.txt', '101321977507229696.txt', '101340793482125312.txt']\n"
     ]
    }
   ],
   "source": [
    "entries = os.listdir(folder_traing)\n",
    "print(\"Total files: \", len(entries))\n",
    "\n",
    "# Print out file names\n",
    "print([entry for entry in entries[:5]])"
   ]
  },
  {
   "cell_type": "code",
   "execution_count": 5,
   "metadata": {
    "ExecuteTime": {
     "end_time": "2019-05-14T11:25:13.971530Z",
     "start_time": "2019-05-14T11:24:37.629982Z"
    }
   },
   "outputs": [],
   "source": [
    "# Read file and push to list\\n\",\n",
    "list_text = []\n",
    "# list_text.append([f.read() with open(file,'r') as f for file in entries\"]\n",
    "\n",
    "for entry in entries:\n",
    "    file = folder_traing + entry\n",
    "    with open(file, 'r') as f:\n",
    "        data = f.read()\n",
    "#         print(\"Read: \", len(data))\n",
    "        list_text.append(data)\n",
    "#         print(\"====================\\n\")"
   ]
  },
  {
   "cell_type": "code",
   "execution_count": 6,
   "metadata": {
    "ExecuteTime": {
     "end_time": "2019-05-14T11:25:13.985523Z",
     "start_time": "2019-05-14T11:25:13.973530Z"
    }
   },
   "outputs": [],
   "source": [
    "# Split data into training & testing\n",
    "X_train = list_text[:11000]\n",
    "X_test = list_text[11001::]"
   ]
  },
  {
   "cell_type": "markdown",
   "metadata": {},
   "source": [
    "### 1. Stopwords & TfidfVectorizer"
   ]
  },
  {
   "cell_type": "code",
   "execution_count": 8,
   "metadata": {
    "ExecuteTime": {
     "end_time": "2019-05-14T11:28:10.407712Z",
     "start_time": "2019-05-14T11:28:03.346940Z"
    }
   },
   "outputs": [],
   "source": [
    "punc = ['.', ',', '\"', \"'\", '?', '!', ':', ';', '(', ')', '[', ']', '{', '}',\"%\"]\n",
    "m_stopwords = text.ENGLISH_STOP_WORDS.union(punc)\n",
    "\n",
    "vectorizer = TfidfVectorizer(stop_words = m_stopwords)\n",
    "X = vectorizer.fit_transform(X_train)"
   ]
  },
  {
   "cell_type": "code",
   "execution_count": 10,
   "metadata": {
    "ExecuteTime": {
     "end_time": "2019-05-14T11:28:24.107547Z",
     "start_time": "2019-05-14T11:28:23.998610Z"
    }
   },
   "outputs": [
    {
     "data": {
      "text/plain": [
       "81468"
      ]
     },
     "execution_count": 10,
     "metadata": {},
     "output_type": "execute_result"
    }
   ],
   "source": [
    "word_features = vectorizer.get_feature_names()\n",
    "len(word_features)"
   ]
  },
  {
   "cell_type": "code",
   "execution_count": 12,
   "metadata": {
    "ExecuteTime": {
     "end_time": "2019-05-14T11:29:08.620077Z",
     "start_time": "2019-05-14T11:29:08.615080Z"
    }
   },
   "outputs": [],
   "source": [
    "stemmer = SnowballStemmer('english')\n",
    "tokenizer = RegexpTokenizer(r'[a-zA-Z\\']+')\n",
    "\n",
    "def mf_tokenize(text):\n",
    "    return [stemmer.stem(word) for word in tokenizer.tokenize(text.lower())]"
   ]
  },
  {
   "cell_type": "code",
   "execution_count": 13,
   "metadata": {
    "ExecuteTime": {
     "end_time": "2019-05-14T11:31:47.609061Z",
     "start_time": "2019-05-14T11:29:49.841820Z"
    }
   },
   "outputs": [
    {
     "name": "stderr",
     "output_type": "stream",
     "text": [
      "C:\\Users\\Shaynie\\Anaconda3\\envs\\capstone_app\\lib\\site-packages\\sklearn\\feature_extraction\\text.py:301: UserWarning: Your stop_words may be inconsistent with your preprocessing. Tokenizing the stop words generated tokens ['abov', 'afterward', 'alon', 'alreadi', 'alway', 'ani', 'anoth', 'anyon', 'anyth', 'anywher', 'becam', 'becaus', 'becom', 'befor', 'besid', 'cri', 'describ', 'dure', 'els', 'elsewher', 'empti', 'everi', 'everyon', 'everyth', 'everywher', 'fifti', 'forti', 'henc', 'hereaft', 'herebi', 'howev', 'hundr', 'inde', 'mani', 'meanwhil', 'moreov', 'nobodi', 'noon', 'noth', 'nowher', 'onc', 'onli', 'otherwis', 'ourselv', 'perhap', 'pleas', 'sever', 'sinc', 'sincer', 'sixti', 'someon', 'someth', 'sometim', 'somewher', 'themselv', 'thenc', 'thereaft', 'therebi', 'therefor', 'togeth', 'twelv', 'twenti', 'veri', 'whatev', 'whenc', 'whenev', 'wherea', 'whereaft', 'wherebi', 'wherev', 'whi', 'yourselv'] not in stop_words.\n",
      "  'stop_words.' % sorted(inconsistent))\n"
     ]
    },
    {
     "data": {
      "text/plain": [
       "57107"
      ]
     },
     "execution_count": 13,
     "metadata": {},
     "output_type": "execute_result"
    }
   ],
   "source": [
    "vectorizer2 = TfidfVectorizer(stop_words=m_stopwords,tokenizer=mf_tokenize)\n",
    "X2 = vectorizer2.fit_transform(X_train)\n",
    "word_features2 = vectorizer2.get_feature_names()\n",
    "len(word_features2)"
   ]
  },
  {
   "cell_type": "code",
   "execution_count": 15,
   "metadata": {
    "ExecuteTime": {
     "end_time": "2019-05-14T11:57:42.149464Z",
     "start_time": "2019-05-14T11:55:45.806244Z"
    }
   },
   "outputs": [
    {
     "name": "stderr",
     "output_type": "stream",
     "text": [
      "C:\\Users\\Shaynie\\Anaconda3\\envs\\capstone_app\\lib\\site-packages\\sklearn\\feature_extraction\\text.py:301: UserWarning: Your stop_words may be inconsistent with your preprocessing. Tokenizing the stop words generated tokens ['abov', 'afterward', 'alon', 'alreadi', 'alway', 'ani', 'anoth', 'anyon', 'anyth', 'anywher', 'becam', 'becaus', 'becom', 'befor', 'besid', 'cri', 'describ', 'dure', 'els', 'elsewher', 'empti', 'everi', 'everyon', 'everyth', 'everywher', 'fifti', 'forti', 'henc', 'hereaft', 'herebi', 'howev', 'hundr', 'inde', 'mani', 'meanwhil', 'moreov', 'nobodi', 'noon', 'noth', 'nowher', 'onc', 'onli', 'otherwis', 'ourselv', 'perhap', 'pleas', 'sever', 'sinc', 'sincer', 'sixti', 'someon', 'someth', 'sometim', 'somewher', 'themselv', 'thenc', 'thereaft', 'therebi', 'therefor', 'togeth', 'twelv', 'twenti', 'veri', 'whatev', 'whenc', 'whenev', 'wherea', 'whereaft', 'wherebi', 'wherev', 'whi', 'yourselv'] not in stop_words.\n",
      "  'stop_words.' % sorted(inconsistent))\n"
     ]
    },
    {
     "data": {
      "text/plain": [
       "2000"
      ]
     },
     "execution_count": 15,
     "metadata": {},
     "output_type": "execute_result"
    }
   ],
   "source": [
    "vectorizer3 = TfidfVectorizer(stop_words=m_stopwords, tokenizer=mf_tokenize,max_features=2000)\n",
    "X3 = vectorizer3.fit_transform(X_train)\n",
    "word_features3 = vectorizer3.get_feature_names()\n",
    "len(word_features3)"
   ]
  },
  {
   "cell_type": "markdown",
   "metadata": {
    "ExecuteTime": {
     "end_time": "2019-05-14T12:17:19.104746Z",
     "start_time": "2019-05-14T12:17:19.100758Z"
    }
   },
   "source": [
    "### 2. KMeans"
   ]
  },
  {
   "cell_type": "code",
   "execution_count": 16,
   "metadata": {
    "ExecuteTime": {
     "end_time": "2019-05-14T12:03:06.780141Z",
     "start_time": "2019-05-14T11:57:48.595580Z"
    }
   },
   "outputs": [
    {
     "data": {
      "text/plain": [
       "KMeans(algorithm='auto', copy_x=True, init='k-means++', max_iter=300,\n",
       "    n_clusters=15, n_init=5, n_jobs=-1, precompute_distances='auto',\n",
       "    random_state=None, tol=0.0001, verbose=0)"
      ]
     },
     "execution_count": 16,
     "metadata": {},
     "output_type": "execute_result"
    }
   ],
   "source": [
    "kmeans = KMeans(n_clusters = 8, n_init = 5, n_jobs = -1)\n",
    "kmeans.fit(X3)"
   ]
  },
  {
   "cell_type": "code",
   "execution_count": 22,
   "metadata": {
    "ExecuteTime": {
     "end_time": "2019-05-14T12:09:38.235195Z",
     "start_time": "2019-05-14T12:09:38.231196Z"
    }
   },
   "outputs": [],
   "source": [
    "predicted = kmeans.labels_\n",
    "centroids = kmeans.cluster_centers_"
   ]
  },
  {
   "cell_type": "code",
   "execution_count": 28,
   "metadata": {
    "ExecuteTime": {
     "end_time": "2019-05-14T12:12:53.674208Z",
     "start_time": "2019-05-14T12:12:53.666212Z"
    }
   },
   "outputs": [
    {
     "name": "stdout",
     "output_type": "stream",
     "text": [
      "0 : exercis, workout, weight, run, fit, muscl, bodi, minut, say, train\n",
      "1 : patient, hospit, doctor, care, medic, said, say, surgeri, physician, medicar\n",
      "2 : vaccin, polio, flu, measl, children, case, outbreak, immun, diseas, said\n",
      "3 : ebola, virus, outbreak, liberia, said, west, africa, infect, sierra, leon\n",
      "4 : brain, cell, research, gene, alzheim, studi, say, mice, said, scientist\n",
      "5 : insur, coverag, health, law, plan, exchang, care, enrol, afford, state\n",
      "6 : food, eat, obes, diet, weight, calori, fat, sugar, studi, say\n",
      "7 : drug, compani, fda, patient, use, said, pharmaceut, say, prescript, medic\n",
      "8 : recip, pepper, oil, chees, dish, oliv, tomato, salt, protein, calori\n",
      "9 : cancer, breast, women, screen, studi, patient, risk, test, said, research\n",
      "10 : say, children, women, studi, parent, said, peopl, research, like, babi\n",
      "11 : virus, infect, mer, case, hiv, cdc, said, flu, peopl, diseas\n",
      "12 : nhs, said, hospit, care, servic, patient, trust, health, staff, england\n",
      "13 : smoke, tobacco, cigarett, ecigarett, smoker, nicotin, ban, product, said, health\n",
      "14 : said, say, peopl, year, health, use, new, studi, research, like\n"
     ]
    }
   ],
   "source": [
    "common_words = centroids.argsort()[:,-1:-11:-1]\n",
    "for num, centroid in enumerate(common_words):\n",
    "    print(str(num) + ' : ' + ', '.join(word_features3[word] for word in centroid))"
   ]
  },
  {
   "cell_type": "code",
   "execution_count": 36,
   "metadata": {
    "ExecuteTime": {
     "end_time": "2019-05-14T12:26:05.309356Z",
     "start_time": "2019-05-14T12:26:05.306357Z"
    }
   },
   "outputs": [
    {
     "data": {
      "text/plain": [
       "<15000x2000 sparse matrix of type '<class 'numpy.float64'>'\n",
       "\twith 1887169 stored elements in Compressed Sparse Row format>"
      ]
     },
     "execution_count": 36,
     "metadata": {},
     "output_type": "execute_result"
    }
   ],
   "source": [
    "X3"
   ]
  },
  {
   "cell_type": "code",
   "execution_count": 37,
   "metadata": {
    "ExecuteTime": {
     "end_time": "2019-05-14T12:43:02.274885Z",
     "start_time": "2019-05-14T12:43:02.269887Z"
    }
   },
   "outputs": [
    {
     "data": {
      "text/plain": [
       "numpy.ndarray"
      ]
     },
     "execution_count": 37,
     "metadata": {},
     "output_type": "execute_result"
    }
   ],
   "source": [
    "type(predicted)"
   ]
  },
  {
   "cell_type": "code",
   "execution_count": 40,
   "metadata": {
    "ExecuteTime": {
     "end_time": "2019-05-14T12:47:14.134301Z",
     "start_time": "2019-05-14T12:47:14.099322Z"
    }
   },
   "outputs": [],
   "source": [
    "# frame = pd.DataFrame(predicted,columns=['label'])\n",
    "# frame.to_csv('./final/label.csv',sep='|',index=None)"
   ]
  },
  {
   "cell_type": "code",
   "execution_count": 42,
   "metadata": {
    "ExecuteTime": {
     "end_time": "2019-05-14T12:48:16.064450Z",
     "start_time": "2019-05-14T12:48:15.996472Z"
    }
   },
   "outputs": [],
   "source": [
    "# frame = pd.DataFrame(centroids)\n",
    "# frame.to_csv('./final/centroids.csv',sep='|',index=None)"
   ]
  },
  {
   "cell_type": "code",
   "execution_count": null,
   "metadata": {},
   "outputs": [],
   "source": []
  }
 ],
 "metadata": {
  "kernelspec": {
   "display_name": "Python 3",
   "language": "python",
   "name": "python3"
  },
  "language_info": {
   "codemirror_mode": {
    "name": "ipython",
    "version": 3
   },
   "file_extension": ".py",
   "mimetype": "text/x-python",
   "name": "python",
   "nbconvert_exporter": "python",
   "pygments_lexer": "ipython3",
   "version": "3.6.5"
  },
  "toc": {
   "base_numbering": 1,
   "nav_menu": {},
   "number_sections": true,
   "sideBar": true,
   "skip_h1_title": false,
   "title_cell": "Table of Contents",
   "title_sidebar": "Contents",
   "toc_cell": false,
   "toc_position": {},
   "toc_section_display": true,
   "toc_window_display": false
  }
 },
 "nbformat": 4,
 "nbformat_minor": 2
}
