{
 "cells": [
  {
   "cell_type": "code",
   "execution_count": 1,
   "metadata": {
    "ExecuteTime": {
     "end_time": "2019-05-04T05:21:36.291081Z",
     "start_time": "2019-05-04T05:21:34.009867Z"
    }
   },
   "outputs": [],
   "source": [
    "# Library Package\n",
    "from selenium import webdriver\n",
    "from selenium.webdriver.common.keys import Keys\n",
    "from time import sleep  \n",
    "\n",
    "browser = webdriver.Chrome('../../chromedriver')"
   ]
  },
  {
   "cell_type": "code",
   "execution_count": 2,
   "metadata": {
    "ExecuteTime": {
     "end_time": "2019-05-04T05:21:38.128846Z",
     "start_time": "2019-05-04T05:21:36.291081Z"
    }
   },
   "outputs": [],
   "source": [
    "# Navigate to target website\n",
    "website = 'https://au.jora.com/'\n",
    "\n",
    "# Controlled Website\n",
    "browser.get(website)\n",
    "\n",
    "# Set Keyword\n",
    "# keys = 'Data Science or Data analytics'\n",
    "keys = 'Data Science'\n",
    "where = 'Australia'\n",
    "\n",
    "# Jobs per pages\n",
    "jpp = 10\n",
    "\n",
    "# Jobs in totals\n",
    "total = 0"
   ]
  },
  {
   "cell_type": "code",
   "execution_count": 4,
   "metadata": {
    "ExecuteTime": {
     "end_time": "2019-05-04T05:22:06.836904Z",
     "start_time": "2019-05-04T05:22:05.996385Z"
    }
   },
   "outputs": [],
   "source": [
    "# Start Searching\n",
    "searchBar = browser.find_element_by_id(\"text-input-what\")\n",
    "searchBar.send_keys(keys)\n",
    "# searchWhere = browser.find_element_by_id(\"text-input-where\").getAttribute(\"placeholder\")\n",
    "# searchWhere.send_keys('')\n",
    "searchBar.send_keys(Keys.ENTER)"
   ]
  },
  {
   "cell_type": "code",
   "execution_count": null,
   "metadata": {
    "ExecuteTime": {
     "end_time": "2019-05-04T05:21:38.456656Z",
     "start_time": "2019-05-04T05:21:34.022Z"
    }
   },
   "outputs": [],
   "source": [
    "def check_exists_by_id(id_selector):\n",
    "    try:\n",
    "        browser.find_element_by_id(id_selector)\n",
    "    except:\n",
    "        return False\n",
    "    return True\n",
    "\n",
    "for index in range(3):\n",
    "    \n",
    "    # Deal with Modal  \n",
    "    modal_id = 'job_alert_modal'\n",
    "    if check_exists_by_id(modal_id):\n",
    "        modal_link = browser.find_element_by_id(modal_id)\n",
    "        modal_link.click()\n",
    "\n",
    "    \n",
    "    # Navigate to container of list jobs\n",
    "    css_selector_text = 'ul#jobresults > li:nth-child('+ str(index+1) +') h2'\n",
    "    print(css_selector_text)\n",
    "    print(\"---------------------------------\")\n",
    "    link = browser.find_element_by_xpath('//*[@id=\"app\"]/div/div[2]/div[2]/div/div[2]/section/div[2]/div/div[2]/div[1]/div/div[2]/div/div[2]/div[1]/article/span[2]/span/h1/a')\n",
    "    link.click()\n",
    "    \n",
    "    # Put focus on current window which will, in fact, put focus on the current visible tab\n",
    "    browser.switch_to_window(main_window)\n",
    "\n",
    "    # ==============================================================\n",
    "    # Analytics the content\n",
    "    # ==============================================================\n",
    "    sleep(2)\n",
    "    # Switch to newly open tab\n",
    "    browser.switch_to_window(browser.window_handles[1]) #assuming new tab is at index 1\n",
    "    \n",
    "\n",
    "    # Title\n",
    "    j_title = browser.find_element_by_css_selector('h1')\n",
    "    print(j_title.text)\n",
    "\n",
    "    # Company\n",
    "    job_company = browser.find_element_by_class_name('company')\n",
    "    print(job_company.text)\n",
    "\n",
    "    # Location\n",
    "    j_location = browser.find_element_by_class_name('location')\n",
    "    print(j_location.text)\n",
    "\n",
    "    # print(browser.find_elements_by_xpath('//div[@class=\"js_first_column\"]/p'))\n",
    "    j_summary_k = browser.find_elements_by_xpath('//div[@class=\"js_first_column\"]/p')\n",
    "    for e in j_summary_k:\n",
    "        text= e.text\n",
    "        print(text)\n",
    "    print(\"\\n\")\n",
    "\n",
    "    j_summary_v = browser.find_elements_by_xpath('//div[@class=\"js_first_column\"]/following-sibling::div/p')\n",
    "    for e in j_summary_v:\n",
    "        text= e.text\n",
    "        print(text)\n",
    "\n",
    "    # P-TEXT: About us - The opportunity\n",
    "    list_p_title = ['About us','The opportunity','Culture']\n",
    "    j_about_p = browser.find_elements_by_css_selector('div.summary p')\n",
    "    for p in j_about_p:\n",
    "        print(p.text)\n",
    "\n",
    "    # UL-LI: Responsibilities - Experience/Qualifications - Benefits \n",
    "    list_ul_title = ['Responsibilities','Experience/Qualifications','Benefits']\n",
    "    j_responsibilities = browser.find_elements_by_css_selector('div.summary ul')\n",
    "    for res in j_responsibilities:\n",
    "        print(res.text)\n",
    "    \n",
    "    # do whatever you have to do on this page, we will just got to sleep for now\n",
    "    sleep(2)\n",
    "    \n",
    "    # Close current tab\n",
    "    browser.close()\n",
    "    \n",
    "    # Save the window opener (current window, do not mistaken with tab... not the same)\n",
    "    browser.switch_to_window(main_window)"
   ]
  },
  {
   "cell_type": "code",
   "execution_count": null,
   "metadata": {},
   "outputs": [],
   "source": []
  }
 ],
 "metadata": {
  "kernelspec": {
   "display_name": "Python 3",
   "language": "python",
   "name": "python3"
  },
  "language_info": {
   "codemirror_mode": {
    "name": "ipython",
    "version": 3
   },
   "file_extension": ".py",
   "mimetype": "text/x-python",
   "name": "python",
   "nbconvert_exporter": "python",
   "pygments_lexer": "ipython3",
   "version": "3.6.5"
  },
  "toc": {
   "base_numbering": 1,
   "nav_menu": {},
   "number_sections": true,
   "sideBar": true,
   "skip_h1_title": false,
   "title_cell": "Table of Contents",
   "title_sidebar": "Contents",
   "toc_cell": false,
   "toc_position": {},
   "toc_section_display": true,
   "toc_window_display": false
  }
 },
 "nbformat": 4,
 "nbformat_minor": 2
}
