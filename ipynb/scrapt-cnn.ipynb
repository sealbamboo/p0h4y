{
 "cells": [
  {
   "cell_type": "code",
   "execution_count": 1,
   "metadata": {
    "ExecuteTime": {
     "end_time": "2019-05-02T05:52:31.434562Z",
     "start_time": "2019-05-02T05:52:29.694837Z"
    }
   },
   "outputs": [],
   "source": [
    "import pandas as pd\n",
    "import numpy as np\n",
    "\n",
    "from bs4 import BeautifulSoup\n",
    "from scrapy.selector import Selector\n",
    "\n",
    "import re, requests, csv\n",
    "import lxml\n",
    "\n",
    "file_url = '../datasets/cnnhealth.txt'\n",
    "csvfile = './mycsv.csv'\n",
    "\n",
    "\n",
    "rows = []\n",
    "csv_header = ['tweetid','date','title']\n",
    "frame_header = ['tweetid','date','title','what']\n",
    "\n",
    "# csv_header = ['user', 'item', 'time', 'rating', 'review']\n",
    "# frame_header = ['user', 'item', 'rating', 'review']"
   ]
  },
  {
   "cell_type": "code",
   "execution_count": 2,
   "metadata": {
    "ExecuteTime": {
     "end_time": "2019-05-02T05:52:31.490981Z",
     "start_time": "2019-05-02T05:52:31.439618Z"
    }
   },
   "outputs": [],
   "source": [
    "# with open(file_url, 'r') as infile, open(csvfile, 'w') as outfile:\n",
    "#      stripped = (line.strip() for line in infile)\n",
    "#      lines = (line.split(\"|\") for line in stripped if line)\n",
    "#      writer = csv.writer(outfile)\n",
    "#      writer.writerows(lines)"
   ]
  },
  {
   "cell_type": "code",
   "execution_count": 3,
   "metadata": {
    "ExecuteTime": {
     "end_time": "2019-05-02T05:52:31.505711Z",
     "start_time": "2019-05-02T05:52:31.500379Z"
    }
   },
   "outputs": [],
   "source": [
    "# Merge column 2 & 3\n",
    "def join_txt(list_txt):\n",
    "    # Join list of content into 1 simple paragraph\n",
    "    seperator = ', '\n",
    "    return seperator.join(list_txt)"
   ]
  },
  {
   "cell_type": "code",
   "execution_count": 11,
   "metadata": {
    "ExecuteTime": {
     "end_time": "2019-05-02T05:53:21.611182Z",
     "start_time": "2019-05-02T05:53:21.537189Z"
    },
    "scrolled": false
   },
   "outputs": [
    {
     "name": "stdout",
     "output_type": "stream",
     "text": [
      "                       0                               1  \\\n",
      "0     576880531301801984  Sat Mar 14 23:00:11 +0000 2015   \n",
      "1     576820122666471424  Sat Mar 14 19:00:08 +0000 2015   \n",
      "2     576744652717461504  Sat Mar 14 14:00:15 +0000 2015   \n",
      "3     576736754436304896  Sat Mar 14 13:28:52 +0000 2015   \n",
      "4     576736614766010368  Sat Mar 14 13:28:18 +0000 2015   \n",
      "5     576548368740052992  Sat Mar 14 01:00:17 +0000 2015   \n",
      "6     576518190286536704  Fri Mar 13 23:00:22 +0000 2015   \n",
      "7     576494177971732480  Fri Mar 13 21:24:57 +0000 2015   \n",
      "8     576472874946433024  Fri Mar 13 20:00:18 +0000 2015   \n",
      "9     576464606551490560  Fri Mar 13 19:27:27 +0000 2015   \n",
      "10    576442698963415041  Fri Mar 13 18:00:23 +0000 2015   \n",
      "11    576412516927954945  Fri Mar 13 16:00:27 +0000 2015   \n",
      "12    576406186955780097  Fri Mar 13 15:35:18 +0000 2015   \n",
      "13    576382337170051072  Fri Mar 13 14:00:32 +0000 2015   \n",
      "14    576365075541409792  Fri Mar 13 12:51:57 +0000 2015   \n",
      "15    576361069280681985  Fri Mar 13 12:36:01 +0000 2015   \n",
      "16    576353776036024320  Fri Mar 13 12:07:02 +0000 2015   \n",
      "17    576353658184450048  Fri Mar 13 12:06:34 +0000 2015   \n",
      "18    576345455149318144  Fri Mar 13 11:33:59 +0000 2015   \n",
      "19    576345292443951104  Fri Mar 13 11:33:20 +0000 2015   \n",
      "20    576342990446288896  Fri Mar 13 11:24:11 +0000 2015   \n",
      "21    576266964114374656  Fri Mar 13 06:22:05 +0000 2015   \n",
      "22    576201036483833856  Fri Mar 13 02:00:07 +0000 2015   \n",
      "23    576170879509352449  Fri Mar 13 00:00:17 +0000 2015   \n",
      "24    576140688326193152  Thu Mar 12 22:00:18 +0000 2015   \n",
      "25    576125571828076544  Thu Mar 12 21:00:14 +0000 2015   \n",
      "26    576110503887425536  Thu Mar 12 20:00:22 +0000 2015   \n",
      "27    576105132053667840  Thu Mar 12 19:39:01 +0000 2015   \n",
      "28    576095417663819776  Thu Mar 12 19:00:25 +0000 2015   \n",
      "29    576050122825420800  Thu Mar 12 16:00:26 +0000 2015   \n",
      "...                  ...                             ...   \n",
      "4027  240972085667708928  Thu Aug 30 00:39:56 +0000 2012   \n",
      "4028  240916843722833920  Wed Aug 29 21:00:26 +0000 2012   \n",
      "4029  240891504908967936  Wed Aug 29 19:19:44 +0000 2012   \n",
      "4030  240869745694482432  Wed Aug 29 17:53:17 +0000 2012   \n",
      "4031  240844469568692224  Wed Aug 29 16:12:50 +0000 2012   \n",
      "4032  240773432558628864  Wed Aug 29 11:30:34 +0000 2012   \n",
      "4033  240661048670158848  Wed Aug 29 04:03:59 +0000 2012   \n",
      "4034  240626500817276928  Wed Aug 29 01:46:43 +0000 2012   \n",
      "4035  240594725902630913  Tue Aug 28 23:40:27 +0000 2012   \n",
      "4036  240578847609864193  Tue Aug 28 22:37:21 +0000 2012   \n",
      "4037  240568606415536128  Tue Aug 28 21:56:39 +0000 2012   \n",
      "4038  240553127118516225  Tue Aug 28 20:55:09 +0000 2012   \n",
      "4039  240528940874211329  Tue Aug 28 19:19:02 +0000 2012   \n",
      "4040  240475399178579968  Tue Aug 28 15:46:17 +0000 2012   \n",
      "4041  240460222819364865  Tue Aug 28 14:45:59 +0000 2012   \n",
      "4042  240432596687933440  Tue Aug 28 12:56:12 +0000 2012   \n",
      "4043  240386991848579072  Tue Aug 28 09:54:59 +0000 2012   \n",
      "4044  240311747272122368  Tue Aug 28 04:55:59 +0000 2012   \n",
      "4045  240241878925189121  Tue Aug 28 00:18:22 +0000 2012   \n",
      "4046  240218974795730944  Mon Aug 27 22:47:21 +0000 2012   \n",
      "4047  240198174172651520  Mon Aug 27 21:24:42 +0000 2012   \n",
      "4048  240181455991500803  Mon Aug 27 20:18:16 +0000 2012   \n",
      "4049  240102469240229889  Mon Aug 27 15:04:24 +0000 2012   \n",
      "4050  239933657417125889  Mon Aug 27 03:53:36 +0000 2012   \n",
      "4051  239828643533164544  Sun Aug 26 20:56:19 +0000 2012   \n",
      "4052  239699936671854593  Sun Aug 26 12:24:52 +0000 2012   \n",
      "4053  239504620710420480  Sat Aug 25 23:28:46 +0000 2012   \n",
      "4054  239410205757145088  Sat Aug 25 17:13:35 +0000 2012   \n",
      "4055  239386320416428032  Sat Aug 25 15:38:41 +0000 2012   \n",
      "4056  239366825018806272  Sat Aug 25 14:21:12 +0000 2012   \n",
      "\n",
      "                                                      2  3  \n",
      "0     An abundance of online info can turn us into e...     \n",
      "1     A plant-based diet that incorporates fish may ...     \n",
      "2     It doesn't take much to damage your hearing at...     \n",
      "3     RT @CNN: Forever young? Discover this island’s...     \n",
      "4     RT @CNN: Is post-traumatic stress disorder in ...     \n",
      "5     Maysoon Zayid, a touring standup comic with Ce...     \n",
      "6     How women can wipe out Alzheimer's, from @mari...     \n",
      "7     RT @CNNOpinion: Women can defeat #Alzheimers, ...     \n",
      "8     Is it time to raise the legal smoking age? htt...     \n",
      "9     CDC: Misuse of garments may have led to releas...     \n",
      "10    Losing a brain tumor, gaining perspective: CNN...     \n",
      "11    You may be your germs: Microbe genes slipped i...     \n",
      "12    RT @CNN: A plant-based diet that incorporates ...     \n",
      "13    #FitNation: Finding the right life balance bet...     \n",
      "14    Robert Downey Jr. presents a child with his ow...     \n",
      "15    RT @cnntech: Tim Cook tried to give Steve Jobs...     \n",
      "16    RT @drsanjaygupta: what are you having for din...     \n",
      "17    RT @cnnbrk: U.S. Ebola patient headed to Natio...     \n",
      "18    RT @cnni: Eat yourself healthy with these amaz...     \n",
      "19    RT @CNNMoney: This computer can diagnose cance...     \n",
      "20    RT @CNN: .@RobertDowneyJr presented a child wi...     \n",
      "21    RT @TIME: The hidden dangers of being ‘skinny ...     \n",
      "22    Kids = constant ear infections. Save yourself ...     \n",
      "23    Are you an e-hypochondriac? Searching symptoms...     \n",
      "24    Training for a triathlon? These yoga poses can...     \n",
      "25    Battling to eliminate elephantiasis, a parasit...     \n",
      "26    Could a simple blood test someday tell if you'...     \n",
      "27    RT @CNN: Explore the secrets of Ikaria on #The...     \n",
      "28    Ear trouble? Save yourself a trip to the ER. O...     \n",
      "29    Is mustard better for you than ketchup? @drsan...     \n",
      "...                                                 ... ..  \n",
      "4027  Restricting calories may not prolong your life...     \n",
      "4028  Could branding in schools actually promote hea...     \n",
      "4029  BREAKING: West Nile cases continue to rise; 66...     \n",
      "4030  Hurricane safety: What to do when the lights g...     \n",
      "4031  One-handed kid meets his baseball idol Chipper...     \n",
      "4032  iReporters triumph over multiple sclerosis htt...     \n",
      "4033  Mom: Why I chose circumcision for my sons http...     \n",
      "4034  Could pro-anorexia websites help heal eating d...     \n",
      "4035  The first to take on Harvard in a wheelchair h...     \n",
      "4036   Could IVF be outlawed? http://at.cnn.com/bcUoG5T     \n",
      "4037  iReporters struggle to triumph over MS #cnn #h...     \n",
      "4038  Should Little League ban curveballs? Experts s...     \n",
      "4039  Something on your mind? Know of a topic you'd ...     \n",
      "4040  Legionnaires' disease outbreak kills 2 at Chic...     \n",
      "4041  One more dead after contracting hantavirus at ...     \n",
      "4042  Pot smoking may leave mark on teen brains http...     \n",
      "4043  Doctor refuses to treat obese patients http://...     \n",
      "4044  Dad: Why I didn't circumcise my sons http://at...     \n",
      "4045  Cute photos alert!! Kids race to finish their ...     \n",
      "4046  Genetic ties to the way you vote?  http://at.c...     \n",
      "4047  Lance Armstrong's cancer foundation still goin...     \n",
      "4048  AAP says health benefits of circumcision outwe...     \n",
      "4049  Can meditation fight loneliness? @amandaenayat...     \n",
      "4050  RT @PreventionMag: Ever had those \"feeling fat...     \n",
      "4051  RT @SELFmagazine: On of our favorite piece of ...     \n",
      "4052  RT @EverydayHealth: Want killer abs? @JillianM...     \n",
      "4053  Medicare at stake -- @sanjayguptaCNN talks abo...     \n",
      "4054  Ann Romney talks about her experience with MS ...     \n",
      "4055  Make sure your first marathon isn't your last!...     \n",
      "4056  Robin Roberts' cancer diagnosis http://at.cnn....     \n",
      "\n",
      "[4057 rows x 4 columns]\n"
     ]
    }
   ],
   "source": [
    "rows = []\n",
    "csv_header = ['tweetid','date','title']\n",
    "frame_header = ['tweetid','date','title','what']\n",
    "\n",
    "with open(file_url, 'rt', encoding='utf8') as f_input:\n",
    "    for row in csv.DictReader(f_input, delimiter='|', fieldnames=csv_header[:-1], restkey=csv_header[-1], skipinitialspace=True):\n",
    "        try:\n",
    "            temp_title = join_txt(row['title'])\n",
    "            rows.append([row['tweetid'], row['date'], temp_title,' '.join(row['what'])])\n",
    "        except KeyError:\n",
    "#             print(\"Hello\")\n",
    "            rows.append([row['tweetid'], row['date'], temp_title,' '])\n",
    "\n",
    "frame = pd.DataFrame(rows)\n",
    "print(frame)"
   ]
  },
  {
   "cell_type": "code",
   "execution_count": 12,
   "metadata": {
    "ExecuteTime": {
     "end_time": "2019-05-02T05:53:33.588858Z",
     "start_time": "2019-05-02T05:53:33.569394Z"
    }
   },
   "outputs": [
    {
     "data": {
      "text/html": [
       "<div>\n",
       "<style scoped>\n",
       "    .dataframe tbody tr th:only-of-type {\n",
       "        vertical-align: middle;\n",
       "    }\n",
       "\n",
       "    .dataframe tbody tr th {\n",
       "        vertical-align: top;\n",
       "    }\n",
       "\n",
       "    .dataframe thead th {\n",
       "        text-align: right;\n",
       "    }\n",
       "</style>\n",
       "<table border=\"1\" class=\"dataframe\">\n",
       "  <thead>\n",
       "    <tr style=\"text-align: right;\">\n",
       "      <th></th>\n",
       "      <th>tweetid</th>\n",
       "      <th>date</th>\n",
       "      <th>title</th>\n",
       "      <th>what</th>\n",
       "    </tr>\n",
       "  </thead>\n",
       "  <tbody>\n",
       "    <tr>\n",
       "      <th>0</th>\n",
       "      <td>576880531301801984</td>\n",
       "      <td>Sat Mar 14 23:00:11 +0000 2015</td>\n",
       "      <td>An abundance of online info can turn us into e...</td>\n",
       "      <td></td>\n",
       "    </tr>\n",
       "    <tr>\n",
       "      <th>1</th>\n",
       "      <td>576820122666471424</td>\n",
       "      <td>Sat Mar 14 19:00:08 +0000 2015</td>\n",
       "      <td>A plant-based diet that incorporates fish may ...</td>\n",
       "      <td></td>\n",
       "    </tr>\n",
       "    <tr>\n",
       "      <th>2</th>\n",
       "      <td>576744652717461504</td>\n",
       "      <td>Sat Mar 14 14:00:15 +0000 2015</td>\n",
       "      <td>It doesn't take much to damage your hearing at...</td>\n",
       "      <td></td>\n",
       "    </tr>\n",
       "    <tr>\n",
       "      <th>3</th>\n",
       "      <td>576736754436304896</td>\n",
       "      <td>Sat Mar 14 13:28:52 +0000 2015</td>\n",
       "      <td>RT @CNN: Forever young? Discover this island’s...</td>\n",
       "      <td></td>\n",
       "    </tr>\n",
       "    <tr>\n",
       "      <th>4</th>\n",
       "      <td>576736614766010368</td>\n",
       "      <td>Sat Mar 14 13:28:18 +0000 2015</td>\n",
       "      <td>RT @CNN: Is post-traumatic stress disorder in ...</td>\n",
       "      <td></td>\n",
       "    </tr>\n",
       "  </tbody>\n",
       "</table>\n",
       "</div>"
      ],
      "text/plain": [
       "              tweetid                            date  \\\n",
       "0  576880531301801984  Sat Mar 14 23:00:11 +0000 2015   \n",
       "1  576820122666471424  Sat Mar 14 19:00:08 +0000 2015   \n",
       "2  576744652717461504  Sat Mar 14 14:00:15 +0000 2015   \n",
       "3  576736754436304896  Sat Mar 14 13:28:52 +0000 2015   \n",
       "4  576736614766010368  Sat Mar 14 13:28:18 +0000 2015   \n",
       "\n",
       "                                               title what  \n",
       "0  An abundance of online info can turn us into e...       \n",
       "1  A plant-based diet that incorporates fish may ...       \n",
       "2  It doesn't take much to damage your hearing at...       \n",
       "3  RT @CNN: Forever young? Discover this island’s...       \n",
       "4  RT @CNN: Is post-traumatic stress disorder in ...       "
      ]
     },
     "execution_count": 12,
     "metadata": {},
     "output_type": "execute_result"
    }
   ],
   "source": [
    "frame.columns = frame_header\n",
    "frame.head()"
   ]
  },
  {
   "cell_type": "code",
   "execution_count": 18,
   "metadata": {
    "ExecuteTime": {
     "end_time": "2019-05-02T05:55:25.496998Z",
     "start_time": "2019-05-02T05:55:25.486293Z"
    }
   },
   "outputs": [
    {
     "data": {
      "text/plain": [
       "array([' '], dtype=object)"
      ]
     },
     "execution_count": 18,
     "metadata": {},
     "output_type": "execute_result"
    }
   ],
   "source": [
    "frame['what'].unique()"
   ]
  },
  {
   "cell_type": "code",
   "execution_count": 19,
   "metadata": {
    "ExecuteTime": {
     "end_time": "2019-05-02T05:55:38.620811Z",
     "start_time": "2019-05-02T05:55:38.612173Z"
    }
   },
   "outputs": [],
   "source": [
    "frame.drop(labels='what',axis=1, inplace=True)"
   ]
  },
  {
   "cell_type": "code",
   "execution_count": 20,
   "metadata": {
    "ExecuteTime": {
     "end_time": "2019-05-02T05:55:39.307928Z",
     "start_time": "2019-05-02T05:55:39.301249Z"
    }
   },
   "outputs": [
    {
     "data": {
      "text/plain": [
       "(4057, 3)"
      ]
     },
     "execution_count": 20,
     "metadata": {},
     "output_type": "execute_result"
    }
   ],
   "source": [
    "frame.shape"
   ]
  },
  {
   "cell_type": "code",
   "execution_count": 30,
   "metadata": {
    "ExecuteTime": {
     "end_time": "2019-05-02T06:03:20.217119Z",
     "start_time": "2019-05-02T06:03:20.184182Z"
    }
   },
   "outputs": [],
   "source": [
    "# frame.iloc[:,2][1470]\n",
    "frame.to_csv('./backup_data/cnn_dataFrame.csv', sep='|', encoding='utf-8',index=False)"
   ]
  },
  {
   "cell_type": "code",
   "execution_count": null,
   "metadata": {},
   "outputs": [],
   "source": [
    "### Regex\n",
    "# /div[@class=\"zn-body__read-all\"]/div/text()\n",
    "\n",
    "# --> Selenium Support"
   ]
  }
 ],
 "metadata": {
  "kernelspec": {
   "display_name": "Python 3",
   "language": "python",
   "name": "python3"
  },
  "language_info": {
   "codemirror_mode": {
    "name": "ipython",
    "version": 3
   },
   "file_extension": ".py",
   "mimetype": "text/x-python",
   "name": "python",
   "nbconvert_exporter": "python",
   "pygments_lexer": "ipython3",
   "version": "3.7.1"
  },
  "toc": {
   "base_numbering": 1,
   "nav_menu": {},
   "number_sections": true,
   "sideBar": true,
   "skip_h1_title": false,
   "title_cell": "Table of Contents",
   "title_sidebar": "Contents",
   "toc_cell": false,
   "toc_position": {},
   "toc_section_display": true,
   "toc_window_display": false
  }
 },
 "nbformat": 4,
 "nbformat_minor": 2
}
