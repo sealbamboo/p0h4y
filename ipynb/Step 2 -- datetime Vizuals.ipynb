{
 "cells": [
  {
   "cell_type": "code",
   "execution_count": 1,
   "metadata": {
    "ExecuteTime": {
     "end_time": "2019-05-16T23:46:44.931560Z",
     "start_time": "2019-05-16T23:46:42.064276Z"
    }
   },
   "outputs": [],
   "source": [
    "import os\n",
    "import pandas as pd\n",
    "import numpy as np\n",
    "import calendar\n",
    "import base64\n",
    "import matplotlib.pyplot as plt\n",
    "import seaborn as sns\n",
    "\n",
    "from sklearn.datasets import fetch_20newsgroups\n",
    "from sklearn.feature_extraction.text import CountVectorizer\n",
    "from sklearn.feature_extraction.text import TfidfVectorizer\n",
    "from sklearn.feature_extraction import stop_words\n",
    "# from sklearn.grid_search import GridSearchCV\n",
    "# import SGD classifier\n",
    "from sklearn.linear_model import SGDClassifier\n",
    "# pipeline\n",
    "from sklearn.pipeline import Pipeline\n",
    "# define pipeline\n",
    "pipeline = Pipeline([\n",
    "                        ('vect',CountVectorizer()),\n",
    "                         ('tfidf',TfidfVectorizer()),\n",
    "                        ('clf',SGDClassifier())\n",
    "                   ])\n",
    "\n",
    "import gensim\n",
    "import pyLDAvis.gensim\n",
    "from gensim.utils import simple_preprocess\n",
    "from gensim.parsing.preprocessing import STOPWORDS\n",
    "from nltk.stem import WordNetLemmatizer, SnowballStemmer,PorterStemmer\n",
    "from nltk.stem.porter import *\n",
    "import nltk\n",
    "\n",
    "np.random.seed(400)\n",
    "\n",
    "# External running pythons\n",
    "# %run -i python-code/nlp.py\n",
    "\n",
    "# Folder path\n",
    "folder = './run_data/'\n",
    "folder_traing = './training/'\n",
    "dest_file = './final/final_content.csv'\n",
    "\n",
    "%matplotlib inline"
   ]
  },
  {
   "cell_type": "markdown",
   "metadata": {},
   "source": [
    "## Datetime"
   ]
  },
  {
   "cell_type": "code",
   "execution_count": 2,
   "metadata": {
    "ExecuteTime": {
     "end_time": "2019-05-16T23:46:46.640191Z",
     "start_time": "2019-05-16T23:46:44.934898Z"
    }
   },
   "outputs": [
    {
     "name": "stdout",
     "output_type": "stream",
     "text": [
      "Total:  12\n",
      "./run_data/wsj_scrapt_v2.csv\n",
      "dates:  1897\n",
      "================\n",
      "\n",
      "./run_data/reuters_scrapt_v2.csv\n",
      "dates:  3089\n",
      "================\n",
      "\n",
      "./run_data/nytimes_scrapt_v2.csv\n",
      "dates:  5312\n",
      "================\n",
      "\n",
      "./run_data/cbc_scrapt_v2.csv\n",
      "dates:  8745\n",
      "================\n",
      "\n",
      "./run_data/latimes_scrapt_v2.csv\n",
      "dates:  10235\n",
      "================\n",
      "\n",
      "./run_data/bbc_scrapt_v2.csv\n",
      "dates:  13148\n",
      "================\n",
      "\n",
      "./run_data/nbc_scrapt_v2.csv\n",
      "dates:  15045\n",
      "================\n",
      "\n",
      "./run_data/everyday_scrapt_v2.csv\n",
      "dates:  16357\n",
      "================\n",
      "\n",
      "./run_data/goodhealth_scrapt_v2.csv\n",
      "dates:  17780\n",
      "================\n",
      "\n",
      "./run_data/cnn_scrapt_v2.csv\n",
      "dates:  18789\n",
      "================\n",
      "\n",
      "./run_data/npr_scrapt_v2.csv\n",
      "dates:  23467\n",
      "================\n",
      "\n",
      "./run_data/gdnhealth_scrapt_v2.csv\n",
      "dates:  25504\n",
      "================\n",
      "\n"
     ]
    }
   ],
   "source": [
    "files = os.listdir(folder)\n",
    "print(\"Total: \", len(files))\n",
    "\n",
    "dates = []\n",
    "texts = []\n",
    "for f_ in files:\n",
    "    file = folder + f_\n",
    "    print(file)\n",
    "    df_temp = pd.read_csv(file,sep='|')    \n",
    "    df_temp = df_temp[pd.notnull(df_temp['contents'])]\n",
    "    \n",
    "    # Push datetime with content to list\n",
    "    contents = df_temp['date'].values\n",
    "    contents2 = df_temp['contents'].values\n",
    "    \n",
    "    dates.extend(contents)\n",
    "    texts.extend(contents2)\n",
    "\n",
    "    print(\"dates: \", len(dates))\n",
    "    print(\"================\\n\")\n"
   ]
  },
  {
   "cell_type": "code",
   "execution_count": 3,
   "metadata": {
    "ExecuteTime": {
     "end_time": "2019-05-16T23:46:55.791240Z",
     "start_time": "2019-05-16T23:46:46.644398Z"
    }
   },
   "outputs": [
    {
     "name": "stdout",
     "output_type": "stream",
     "text": [
      "<class 'pandas.core.frame.DataFrame'>\n",
      "Int64Index: 24540 entries, 0 to 25503\n",
      "Data columns (total 3 columns):\n",
      "date       24540 non-null datetime64[ns, UTC]\n",
      "content    24540 non-null object\n",
      "length     24540 non-null int64\n",
      "dtypes: datetime64[ns, UTC](1), int64(1), object(1)\n",
      "memory usage: 766.9+ KB\n"
     ]
    }
   ],
   "source": [
    "df_datetime = pd.DataFrame(zip(dates,texts),columns=['date','content'])\n",
    "df_datetime['date'] = pd.to_datetime(df_datetime['date']) \n",
    "df_datetime['length'] = df_datetime['content'].apply(lambda row: len(row))\n",
    "df_datetime = df_datetime[df_datetime['length'] > 200]\n",
    "\n",
    "df_datetime.info()"
   ]
  },
  {
   "cell_type": "code",
   "execution_count": 4,
   "metadata": {
    "ExecuteTime": {
     "end_time": "2019-05-16T23:46:57.546413Z",
     "start_time": "2019-05-16T23:46:55.796070Z"
    }
   },
   "outputs": [
    {
     "data": {
      "text/html": [
       "<div>\n",
       "<style scoped>\n",
       "    .dataframe tbody tr th:only-of-type {\n",
       "        vertical-align: middle;\n",
       "    }\n",
       "\n",
       "    .dataframe tbody tr th {\n",
       "        vertical-align: top;\n",
       "    }\n",
       "\n",
       "    .dataframe thead th {\n",
       "        text-align: right;\n",
       "    }\n",
       "</style>\n",
       "<table border=\"1\" class=\"dataframe\">\n",
       "  <thead>\n",
       "    <tr style=\"text-align: right;\">\n",
       "      <th></th>\n",
       "      <th>date</th>\n",
       "      <th>content</th>\n",
       "      <th>length</th>\n",
       "      <th>year</th>\n",
       "      <th>month</th>\n",
       "      <th>day</th>\n",
       "      <th>weekday</th>\n",
       "      <th>hour</th>\n",
       "      <th>minutes</th>\n",
       "    </tr>\n",
       "  </thead>\n",
       "  <tbody>\n",
       "    <tr>\n",
       "      <th>0</th>\n",
       "      <td>2014-12-27 02:15:25+00:00</td>\n",
       "      <td>For years, Brad Margus has juggled two goals a...</td>\n",
       "      <td>349</td>\n",
       "      <td>2014</td>\n",
       "      <td>12</td>\n",
       "      <td>27</td>\n",
       "      <td>6</td>\n",
       "      <td>2</td>\n",
       "      <td>15</td>\n",
       "    </tr>\n",
       "    <tr>\n",
       "      <th>1</th>\n",
       "      <td>2014-12-26 18:22:17+00:00</td>\n",
       "      <td>More healthcare mergers ahead? The sector cert...</td>\n",
       "      <td>278</td>\n",
       "      <td>2014</td>\n",
       "      <td>12</td>\n",
       "      <td>26</td>\n",
       "      <td>5</td>\n",
       "      <td>18</td>\n",
       "      <td>22</td>\n",
       "    </tr>\n",
       "    <tr>\n",
       "      <th>2</th>\n",
       "      <td>2014-12-26 14:41:33+00:00</td>\n",
       "      <td>A new year always brings new challenges, and t...</td>\n",
       "      <td>387</td>\n",
       "      <td>2014</td>\n",
       "      <td>12</td>\n",
       "      <td>26</td>\n",
       "      <td>5</td>\n",
       "      <td>14</td>\n",
       "      <td>41</td>\n",
       "    </tr>\n",
       "    <tr>\n",
       "      <th>3</th>\n",
       "      <td>2014-12-26 04:36:49+00:00</td>\n",
       "      <td>A new year always brings new challenges, and t...</td>\n",
       "      <td>387</td>\n",
       "      <td>2014</td>\n",
       "      <td>12</td>\n",
       "      <td>26</td>\n",
       "      <td>5</td>\n",
       "      <td>4</td>\n",
       "      <td>36</td>\n",
       "    </tr>\n",
       "    <tr>\n",
       "      <th>4</th>\n",
       "      <td>2014-12-26 02:18:43+00:00</td>\n",
       "      <td>NOTE TO READERS: In April 2014, Medicare rel...</td>\n",
       "      <td>591</td>\n",
       "      <td>2014</td>\n",
       "      <td>12</td>\n",
       "      <td>26</td>\n",
       "      <td>5</td>\n",
       "      <td>2</td>\n",
       "      <td>18</td>\n",
       "    </tr>\n",
       "  </tbody>\n",
       "</table>\n",
       "</div>"
      ],
      "text/plain": [
       "                       date  \\\n",
       "0 2014-12-27 02:15:25+00:00   \n",
       "1 2014-12-26 18:22:17+00:00   \n",
       "2 2014-12-26 14:41:33+00:00   \n",
       "3 2014-12-26 04:36:49+00:00   \n",
       "4 2014-12-26 02:18:43+00:00   \n",
       "\n",
       "                                             content  length  year month day  \\\n",
       "0  For years, Brad Margus has juggled two goals a...     349  2014    12  27   \n",
       "1  More healthcare mergers ahead? The sector cert...     278  2014    12  26   \n",
       "2  A new year always brings new challenges, and t...     387  2014    12  26   \n",
       "3  A new year always brings new challenges, and t...     387  2014    12  26   \n",
       "4    NOTE TO READERS: In April 2014, Medicare rel...     591  2014    12  26   \n",
       "\n",
       "  weekday  hour minutes  \n",
       "0       6     2      15  \n",
       "1       5    18      22  \n",
       "2       5    14      41  \n",
       "3       5     4      36  \n",
       "4       5     2      18  "
      ]
     },
     "execution_count": 4,
     "metadata": {},
     "output_type": "execute_result"
    }
   ],
   "source": [
    "# Ref: http://strftime.org/\n",
    "df_datetime['year'] = df_datetime['date'].dt.strftime(\"%Y\")\n",
    "df_datetime['month'] = df_datetime['date'].dt.strftime('%m')\n",
    "df_datetime['day'] = df_datetime['date'].dt.strftime('%d')\n",
    "df_datetime['weekday'] = df_datetime['date'].dt.strftime('%w')\n",
    "df_datetime['hour'] = df_datetime['date'].dt.hour\n",
    "df_datetime['minutes'] = df_datetime['date'].dt.strftime('%M')\n",
    "df_datetime.head()"
   ]
  },
  {
   "cell_type": "code",
   "execution_count": 5,
   "metadata": {
    "ExecuteTime": {
     "end_time": "2019-05-16T23:46:58.494405Z",
     "start_time": "2019-05-16T23:46:57.549773Z"
    }
   },
   "outputs": [
    {
     "data": {
      "text/plain": [
       "Text(0.5, 0.98, 'Distributions of content over the year')"
      ]
     },
     "execution_count": 5,
     "metadata": {},
     "output_type": "execute_result"
    },
    {
     "data": {
      "image/png": "[encoded data removed]",
      "text/plain": [
       "<Figure size 1440x720 with 1 Axes>"
      ]
     },
     "metadata": {
      "needs_background": "light"
     },
     "output_type": "display_data"
    }
   ],
   "source": [
    "fig, ax = plt.subplots(1,1, figsize=(20,10))\n",
    "sns.set(style=\"whitegrid\", color_codes=True, font_scale=1.2)\n",
    "# sns.countplot(x='year', data=df_datetime, orient='h')\n",
    "sns.countplot(x='year',hue='month', data=df_datetime, orient='h')\n",
    "fig.suptitle('Distributions of content over the year')"
   ]
  },
  {
   "cell_type": "code",
   "execution_count": 6,
   "metadata": {
    "ExecuteTime": {
     "end_time": "2019-05-16T23:46:58.966596Z",
     "start_time": "2019-05-16T23:46:58.497803Z"
    }
   },
   "outputs": [
    {
     "data": {
      "text/plain": [
       "Text(0.5, 0.98, 'Distributions of content over month')"
      ]
     },
     "execution_count": 6,
     "metadata": {},
     "output_type": "execute_result"
    },
    {
     "data": {
      "image/png": "[encoded data removed]",
      "text/plain": [
       "<Figure size 1440x720 with 1 Axes>"
      ]
     },
     "metadata": {},
     "output_type": "display_data"
    }
   ],
   "source": [
    "# order=['Jan','Feb','Mar','Apr','May','Jun','Jul','Aug','Sep','Oct','Nov','Dec']\n",
    "fig, ax = plt.subplots(1,1, figsize=(20,10))\n",
    "\n",
    "dict_month = df_datetime['month'].value_counts().sort_index().to_dict()\n",
    "sns.countplot(x='month',data=df_datetime)\n",
    "\"\\n\",\n",
    "fig.suptitle('Distributions of content over month')"
   ]
  },
  {
   "cell_type": "code",
   "execution_count": 7,
   "metadata": {
    "ExecuteTime": {
     "end_time": "2019-05-16T23:46:59.351666Z",
     "start_time": "2019-05-16T23:46:58.971119Z"
    }
   },
   "outputs": [
    {
     "data": {
      "text/plain": [
       "<matplotlib.axes._subplots.AxesSubplot at 0x7f46f2bc3f60>"
      ]
     },
     "execution_count": 7,
     "metadata": {},
     "output_type": "execute_result"
    },
    {
     "data": {
      "image/png": "[encoded data removed]",
      "text/plain": [
       "<Figure size 1440x720 with 1 Axes>"
      ]
     },
     "metadata": {},
     "output_type": "display_data"
    }
   ],
   "source": [
    "fig, ax = plt.subplots(1,1, figsize=(20,10))\n",
    "sns.countplot(x='year',data=df_datetime)"
   ]
  },
  {
   "cell_type": "code",
   "execution_count": 8,
   "metadata": {
    "ExecuteTime": {
     "end_time": "2019-05-16T23:46:59.781939Z",
     "start_time": "2019-05-16T23:46:59.357181Z"
    }
   },
   "outputs": [
    {
     "data": {
      "text/plain": [
       "<matplotlib.axes._subplots.AxesSubplot at 0x7f46f28417f0>"
      ]
     },
     "execution_count": 8,
     "metadata": {},
     "output_type": "execute_result"
    },
    {
     "data": {
      "image/png": "[encoded data removed]",
      "text/plain": [
       "<Figure size 1440x720 with 1 Axes>"
      ]
     },
     "metadata": {},
     "output_type": "display_data"
    }
   ],
   "source": [
    "fig, ax = plt.subplots(1,1, figsize=(20,10))\n",
    "\n",
    "sns.countplot(x='weekday', data=df_datetime)"
   ]
  },
  {
   "cell_type": "code",
   "execution_count": 9,
   "metadata": {
    "ExecuteTime": {
     "end_time": "2019-05-16T23:47:01.782125Z",
     "start_time": "2019-05-16T23:46:59.785777Z"
    }
   },
   "outputs": [
    {
     "data": {
      "text/plain": [
       "Text(0.5, 0.98, 'Distributions of text during a day')"
      ]
     },
     "execution_count": 9,
     "metadata": {},
     "output_type": "execute_result"
    },
    {
     "data": {
      "image/png": "[encoded data removed]",
      "text/plain": [
       "<Figure size 1440x720 with 1 Axes>"
      ]
     },
     "metadata": {},
     "output_type": "display_data"
    }
   ],
   "source": [
    "fig, ax = plt.subplots(1,1, figsize=(20,10))\n",
    "sns.lineplot(x='hour', y='length', data=df_datetime,  color='C0')\n",
    "fig.suptitle('Distributions of text during a day')"
   ]
  },
  {
   "cell_type": "code",
   "execution_count": 10,
   "metadata": {
    "ExecuteTime": {
     "end_time": "2019-05-16T23:47:02.125276Z",
     "start_time": "2019-05-16T23:47:01.787361Z"
    }
   },
   "outputs": [
    {
     "data": {
      "text/plain": [
       "Text(0.5, 0.98, 'Length of text for each title')"
      ]
     },
     "execution_count": 10,
     "metadata": {},
     "output_type": "execute_result"
    },
    {
     "data": {
      "image/png": "[encoded data removed]",
      "text/plain": [
       "<Figure size 1440x504 with 1 Axes>"
      ]
     },
     "metadata": {},
     "output_type": "display_data"
    }
   ],
   "source": [
    "fig, ax = plt.subplots(1,1, figsize=(20,7))\n",
    "sns.boxplot(data=df_datetime['length'], orient='h',notch=True)\n",
    "fig.suptitle('Length of text for each title')"
   ]
  },
  {
   "cell_type": "markdown",
   "metadata": {},
   "source": [
    "## Working with text"
   ]
  },
  {
   "cell_type": "code",
   "execution_count": 11,
   "metadata": {
    "ExecuteTime": {
     "end_time": "2019-05-16T23:47:02.167146Z",
     "start_time": "2019-05-16T23:47:02.130497Z"
    }
   },
   "outputs": [
    {
     "name": "stdout",
     "output_type": "stream",
     "text": [
      "Total files:  23318\n",
      "['501510283588685824.txt', '564880695911124992.txt', '454427476240769025.txt', '489080940820701184.txt', '296124319132708864.txt']\n"
     ]
    }
   ],
   "source": [
    "entries = os.listdir(folder_traing)\n",
    "print(\"Total files: \", len(entries))\n",
    "\n",
    "# Print out file names\n",
    "print([entry for entry in entries[:5]])"
   ]
  },
  {
   "cell_type": "code",
   "execution_count": 12,
   "metadata": {
    "ExecuteTime": {
     "end_time": "2019-05-16T23:47:10.522043Z",
     "start_time": "2019-05-16T23:47:02.171484Z"
    }
   },
   "outputs": [],
   "source": [
    "# Read file and push to list\\n\",\n",
    "list_text = []\n",
    "# list_text.append([f.read() with open(file,'r') as f for file in entries\"]\n",
    "\n",
    "for entry in entries:\n",
    "    file = folder_traing + entry\n",
    "    with open(file, 'r') as f:\n",
    "        data = f.read()\n",
    "#         print(\"Read: \", len(data))\n",
    "#         print(\"====================\")\n",
    "#         print(data)        \n",
    "        list_text.append(data)\n",
    "#         print(\"====================\\n\")"
   ]
  },
  {
   "cell_type": "code",
   "execution_count": 13,
   "metadata": {
    "ExecuteTime": {
     "end_time": "2019-05-16T23:47:10.529559Z",
     "start_time": "2019-05-16T23:47:10.524515Z"
    }
   },
   "outputs": [],
   "source": [
    "# Split data into training & testing\n",
    "X_train = list_text[:15000]\n",
    "X_test = list_text[15001::]"
   ]
  },
  {
   "cell_type": "markdown",
   "metadata": {},
   "source": [
    "## TF-IDF"
   ]
  },
  {
   "cell_type": "markdown",
   "metadata": {},
   "source": [
    "### Tokenizer"
   ]
  },
  {
   "cell_type": "code",
   "execution_count": 14,
   "metadata": {
    "ExecuteTime": {
     "end_time": "2019-05-16T23:47:10.636131Z",
     "start_time": "2019-05-16T23:47:10.533338Z"
    }
   },
   "outputs": [],
   "source": [
    "cap_stopwords = stop_words.ENGLISH_STOP_WORDS"
   ]
  },
  {
   "cell_type": "code",
   "execution_count": 15,
   "metadata": {
    "ExecuteTime": {
     "end_time": "2019-05-16T23:47:18.726190Z",
     "start_time": "2019-05-16T23:47:10.638762Z"
    }
   },
   "outputs": [],
   "source": [
    "tvec = TfidfVectorizer(stop_words=cap_stopwords)\n",
    "X_train_cv = tvec.fit(X_train)"
   ]
  },
  {
   "cell_type": "code",
   "execution_count": 16,
   "metadata": {
    "ExecuteTime": {
     "end_time": "2019-05-16T23:47:27.221391Z",
     "start_time": "2019-05-16T23:47:18.729034Z"
    }
   },
   "outputs": [
    {
     "ename": "MemoryError",
     "evalue": "",
     "output_type": "error",
     "traceback": [
      "\u001b[0;31m---------------------------------------------------------------------------\u001b[0m",
      "\u001b[0;31mMemoryError\u001b[0m                               Traceback (most recent call last)",
      "\u001b[0;32m<ipython-input-16-0e2c5dadb7ab>\u001b[0m in \u001b[0;36m<module>\u001b[0;34m\u001b[0m\n\u001b[0;32m----> 1\u001b[0;31m \u001b[0mdf\u001b[0m \u001b[0;34m=\u001b[0m \u001b[0mpd\u001b[0m\u001b[0;34m.\u001b[0m\u001b[0mDataFrame\u001b[0m\u001b[0;34m(\u001b[0m\u001b[0mtvec\u001b[0m\u001b[0;34m.\u001b[0m\u001b[0mtransform\u001b[0m\u001b[0;34m(\u001b[0m\u001b[0mX_train\u001b[0m\u001b[0;34m)\u001b[0m\u001b[0;34m.\u001b[0m\u001b[0mtodense\u001b[0m\u001b[0;34m(\u001b[0m\u001b[0;34m)\u001b[0m\u001b[0;34m,\u001b[0m\u001b[0mcolumns\u001b[0m \u001b[0;34m=\u001b[0m \u001b[0mtvec\u001b[0m\u001b[0;34m.\u001b[0m\u001b[0mget_feature_names\u001b[0m\u001b[0;34m(\u001b[0m\u001b[0;34m)\u001b[0m\u001b[0;34m)\u001b[0m\u001b[0;34m\u001b[0m\u001b[0;34m\u001b[0m\u001b[0m\n\u001b[0m\u001b[1;32m      2\u001b[0m \u001b[0mlen\u001b[0m\u001b[0;34m(\u001b[0m\u001b[0mtvec\u001b[0m\u001b[0;34m.\u001b[0m\u001b[0mget_feature_names\u001b[0m\u001b[0;34m(\u001b[0m\u001b[0;34m)\u001b[0m\u001b[0;34m)\u001b[0m\u001b[0;34m\u001b[0m\u001b[0;34m\u001b[0m\u001b[0m\n",
      "\u001b[0;32m~/Anaconda3/envs/caps_env/lib/python3.6/site-packages/scipy/sparse/base.py\u001b[0m in \u001b[0;36mtodense\u001b[0;34m(self, order, out)\u001b[0m\n\u001b[1;32m    847\u001b[0m             \u001b[0;31m`\u001b[0m\u001b[0mnumpy\u001b[0m\u001b[0;34m.\u001b[0m\u001b[0mmatrix\u001b[0m\u001b[0;31m`\u001b[0m \u001b[0mobject\u001b[0m \u001b[0mthat\u001b[0m \u001b[0mshares\u001b[0m \u001b[0mthe\u001b[0m \u001b[0msame\u001b[0m \u001b[0mmemory\u001b[0m\u001b[0;34m.\u001b[0m\u001b[0;34m\u001b[0m\u001b[0;34m\u001b[0m\u001b[0m\n\u001b[1;32m    848\u001b[0m         \"\"\"\n\u001b[0;32m--> 849\u001b[0;31m         \u001b[0;32mreturn\u001b[0m \u001b[0mnp\u001b[0m\u001b[0;34m.\u001b[0m\u001b[0masmatrix\u001b[0m\u001b[0;34m(\u001b[0m\u001b[0mself\u001b[0m\u001b[0;34m.\u001b[0m\u001b[0mtoarray\u001b[0m\u001b[0;34m(\u001b[0m\u001b[0morder\u001b[0m\u001b[0;34m=\u001b[0m\u001b[0morder\u001b[0m\u001b[0;34m,\u001b[0m \u001b[0mout\u001b[0m\u001b[0;34m=\u001b[0m\u001b[0mout\u001b[0m\u001b[0;34m)\u001b[0m\u001b[0;34m)\u001b[0m\u001b[0;34m\u001b[0m\u001b[0;34m\u001b[0m\u001b[0m\n\u001b[0m\u001b[1;32m    850\u001b[0m \u001b[0;34m\u001b[0m\u001b[0m\n\u001b[1;32m    851\u001b[0m     \u001b[0;32mdef\u001b[0m \u001b[0mtoarray\u001b[0m\u001b[0;34m(\u001b[0m\u001b[0mself\u001b[0m\u001b[0;34m,\u001b[0m \u001b[0morder\u001b[0m\u001b[0;34m=\u001b[0m\u001b[0;32mNone\u001b[0m\u001b[0;34m,\u001b[0m \u001b[0mout\u001b[0m\u001b[0;34m=\u001b[0m\u001b[0;32mNone\u001b[0m\u001b[0;34m)\u001b[0m\u001b[0;34m:\u001b[0m\u001b[0;34m\u001b[0m\u001b[0;34m\u001b[0m\u001b[0m\n",
      "\u001b[0;32m~/Anaconda3/envs/caps_env/lib/python3.6/site-packages/scipy/sparse/compressed.py\u001b[0m in \u001b[0;36mtoarray\u001b[0;34m(self, order, out)\u001b[0m\n\u001b[1;32m    960\u001b[0m         \u001b[0;32mif\u001b[0m \u001b[0mout\u001b[0m \u001b[0;32mis\u001b[0m \u001b[0;32mNone\u001b[0m \u001b[0;32mand\u001b[0m \u001b[0morder\u001b[0m \u001b[0;32mis\u001b[0m \u001b[0;32mNone\u001b[0m\u001b[0;34m:\u001b[0m\u001b[0;34m\u001b[0m\u001b[0;34m\u001b[0m\u001b[0m\n\u001b[1;32m    961\u001b[0m             \u001b[0morder\u001b[0m \u001b[0;34m=\u001b[0m \u001b[0mself\u001b[0m\u001b[0;34m.\u001b[0m\u001b[0m_swap\u001b[0m\u001b[0;34m(\u001b[0m\u001b[0;34m'cf'\u001b[0m\u001b[0;34m)\u001b[0m\u001b[0;34m[\u001b[0m\u001b[0;36m0\u001b[0m\u001b[0;34m]\u001b[0m\u001b[0;34m\u001b[0m\u001b[0;34m\u001b[0m\u001b[0m\n\u001b[0;32m--> 962\u001b[0;31m         \u001b[0mout\u001b[0m \u001b[0;34m=\u001b[0m \u001b[0mself\u001b[0m\u001b[0;34m.\u001b[0m\u001b[0m_process_toarray_args\u001b[0m\u001b[0;34m(\u001b[0m\u001b[0morder\u001b[0m\u001b[0;34m,\u001b[0m \u001b[0mout\u001b[0m\u001b[0;34m)\u001b[0m\u001b[0;34m\u001b[0m\u001b[0;34m\u001b[0m\u001b[0m\n\u001b[0m\u001b[1;32m    963\u001b[0m         \u001b[0;32mif\u001b[0m \u001b[0;32mnot\u001b[0m \u001b[0;34m(\u001b[0m\u001b[0mout\u001b[0m\u001b[0;34m.\u001b[0m\u001b[0mflags\u001b[0m\u001b[0;34m.\u001b[0m\u001b[0mc_contiguous\u001b[0m \u001b[0;32mor\u001b[0m \u001b[0mout\u001b[0m\u001b[0;34m.\u001b[0m\u001b[0mflags\u001b[0m\u001b[0;34m.\u001b[0m\u001b[0mf_contiguous\u001b[0m\u001b[0;34m)\u001b[0m\u001b[0;34m:\u001b[0m\u001b[0;34m\u001b[0m\u001b[0;34m\u001b[0m\u001b[0m\n\u001b[1;32m    964\u001b[0m             \u001b[0;32mraise\u001b[0m \u001b[0mValueError\u001b[0m\u001b[0;34m(\u001b[0m\u001b[0;34m'Output array must be C or F contiguous'\u001b[0m\u001b[0;34m)\u001b[0m\u001b[0;34m\u001b[0m\u001b[0;34m\u001b[0m\u001b[0m\n",
      "\u001b[0;32m~/Anaconda3/envs/caps_env/lib/python3.6/site-packages/scipy/sparse/base.py\u001b[0m in \u001b[0;36m_process_toarray_args\u001b[0;34m(self, order, out)\u001b[0m\n\u001b[1;32m   1185\u001b[0m             \u001b[0;32mreturn\u001b[0m \u001b[0mout\u001b[0m\u001b[0;34m\u001b[0m\u001b[0;34m\u001b[0m\u001b[0m\n\u001b[1;32m   1186\u001b[0m         \u001b[0;32melse\u001b[0m\u001b[0;34m:\u001b[0m\u001b[0;34m\u001b[0m\u001b[0;34m\u001b[0m\u001b[0m\n\u001b[0;32m-> 1187\u001b[0;31m             \u001b[0;32mreturn\u001b[0m \u001b[0mnp\u001b[0m\u001b[0;34m.\u001b[0m\u001b[0mzeros\u001b[0m\u001b[0;34m(\u001b[0m\u001b[0mself\u001b[0m\u001b[0;34m.\u001b[0m\u001b[0mshape\u001b[0m\u001b[0;34m,\u001b[0m \u001b[0mdtype\u001b[0m\u001b[0;34m=\u001b[0m\u001b[0mself\u001b[0m\u001b[0;34m.\u001b[0m\u001b[0mdtype\u001b[0m\u001b[0;34m,\u001b[0m \u001b[0morder\u001b[0m\u001b[0;34m=\u001b[0m\u001b[0morder\u001b[0m\u001b[0;34m)\u001b[0m\u001b[0;34m\u001b[0m\u001b[0;34m\u001b[0m\u001b[0m\n\u001b[0m\u001b[1;32m   1188\u001b[0m \u001b[0;34m\u001b[0m\u001b[0m\n\u001b[1;32m   1189\u001b[0m \u001b[0;34m\u001b[0m\u001b[0m\n",
      "\u001b[0;31mMemoryError\u001b[0m: "
     ]
    }
   ],
   "source": [
    "df = pd.DataFrame(tvec.transform(X_train).todense(),columns = tvec.get_feature_names())\n",
    "len(tvec.get_feature_names())"
   ]
  },
  {
   "cell_type": "code",
   "execution_count": null,
   "metadata": {
    "ExecuteTime": {
     "end_time": "2019-05-16T23:47:27.225429Z",
     "start_time": "2019-05-16T23:46:42.151Z"
    }
   },
   "outputs": [],
   "source": [
    "tvec.vocabulary_"
   ]
  },
  {
   "cell_type": "markdown",
   "metadata": {},
   "source": [
    "### Stemming"
   ]
  },
  {
   "cell_type": "code",
   "execution_count": null,
   "metadata": {
    "ExecuteTime": {
     "end_time": "2019-05-16T23:47:27.227333Z",
     "start_time": "2019-05-16T23:46:42.156Z"
    }
   },
   "outputs": [],
   "source": [
    "# Create an object of class PorterStemmer\",\n",
    "porter_stemmer = PorterStemmer()"
   ]
  },
  {
   "cell_type": "code",
   "execution_count": null,
   "metadata": {
    "ExecuteTime": {
     "end_time": "2019-05-16T23:47:27.229607Z",
     "start_time": "2019-05-16T23:46:42.161Z"
    }
   },
   "outputs": [],
   "source": [
    "def stemming_tokenizer(str_input):\n",
    "    # http://jonathansoma.com/lede/foundations/classes/text%20processing/tf-idf/\n",
    "    words = re.sub(r\"[^A-Za-z0-9\\-]\", \" \", str_input).lower().split()\n",
    "    words = [porter_stemmer.stem(word) for word in words]\n",
    "    return words\n",
    "\n",
    "def lemmatize_stemming(text):\n",
    "    stemmer = SnowballStemmer(\"english\")\n",
    "    print(stemmer)\n",
    "    return stemmer.stem(WordNetLemmatizer().lemmatize(text, pos='v'))\n",
    "\n",
    "# Tokenize and lemmatize\n",
    "def preprocess(text):\n",
    "    result=[]\n",
    "    for token in gensim.utils.simple_preprocess(text):\n",
    "        # Give word . Return the fequency of word\\\\n\\\",\n",
    "        # Exclude STOPWORD, everything very less then 3\\\\n\\\",\n",
    "        print(\"Token: \", len(token))\n",
    "        if token not in gensim.parsing.preprocessing.STOPWORDS and len(token) > 3:\n",
    "            result.append(lemmatize_stemming(token))\n",
    "            \n",
    "    return result"
   ]
  },
  {
   "cell_type": "code",
   "execution_count": null,
   "metadata": {
    "ExecuteTime": {
     "end_time": "2019-05-16T23:47:27.232272Z",
     "start_time": "2019-05-16T23:46:42.165Z"
    }
   },
   "outputs": [],
   "source": [
    "tvec = TfidfVectorizer(stop_words=cap_stopwords, tokenizer=stemming_tokenizer)\n",
    "X_train_stem = tvec.fit_transform(X_train)\n",
    "len(tvec.get_feature_names())"
   ]
  },
  {
   "cell_type": "code",
   "execution_count": null,
   "metadata": {
    "ExecuteTime": {
     "end_time": "2019-05-16T23:47:27.234366Z",
     "start_time": "2019-05-16T23:46:42.170Z"
    }
   },
   "outputs": [],
   "source": [
    "tvec.vocabulary_"
   ]
  },
  {
   "cell_type": "code",
   "execution_count": null,
   "metadata": {
    "ExecuteTime": {
     "end_time": "2019-05-16T23:47:27.236439Z",
     "start_time": "2019-05-16T23:46:42.173Z"
    }
   },
   "outputs": [],
   "source": [
    "# pd.DataFrame(X_train_stem.toarray(), columns=tvec.get_feature_names())"
   ]
  },
  {
   "cell_type": "code",
   "execution_count": null,
   "metadata": {
    "ExecuteTime": {
     "end_time": "2019-05-16T23:47:27.238392Z",
     "start_time": "2019-05-16T23:46:42.176Z"
    }
   },
   "outputs": [],
   "source": [
    "cap_stopwords.append(['make','help','nice'])"
   ]
  },
  {
   "cell_type": "markdown",
   "metadata": {
    "ExecuteTime": {
     "end_time": "2019-05-13T14:08:54.127265Z",
     "start_time": "2019-05-13T14:08:22.249Z"
    }
   },
   "source": [
    "### cbchealth content"
   ]
  },
  {
   "cell_type": "code",
   "execution_count": 99,
   "metadata": {
    "ExecuteTime": {
     "end_time": "2019-05-17T00:41:01.169274Z",
     "start_time": "2019-05-17T00:41:00.812738Z"
    },
    "scrolled": true
   },
   "outputs": [
    {
     "data": {
      "text/html": [
       "<div>\n",
       "<style scoped>\n",
       "    .dataframe tbody tr th:only-of-type {\n",
       "        vertical-align: middle;\n",
       "    }\n",
       "\n",
       "    .dataframe tbody tr th {\n",
       "        vertical-align: top;\n",
       "    }\n",
       "\n",
       "    .dataframe thead th {\n",
       "        text-align: right;\n",
       "    }\n",
       "</style>\n",
       "<table border=\"1\" class=\"dataframe\">\n",
       "  <thead>\n",
       "    <tr style=\"text-align: right;\">\n",
       "      <th></th>\n",
       "      <th>author</th>\n",
       "      <th>contents</th>\n",
       "      <th>date</th>\n",
       "      <th>tags</th>\n",
       "      <th>title</th>\n",
       "      <th>tweetid</th>\n",
       "      <th>url</th>\n",
       "    </tr>\n",
       "  </thead>\n",
       "  <tbody>\n",
       "    <tr>\n",
       "      <th>0</th>\n",
       "      <td>NaN</td>\n",
       "      <td>&lt;div class=\"story\"&gt;&lt;span&gt;&lt;p&gt;Expired medication...</td>\n",
       "      <td>Thu Apr 09 20:37:25 +0000 2015</td>\n",
       "      <td>NaN</td>\n",
       "      <td>Drugs need careful monitoring for expiry dates...</td>\n",
       "      <td>5.862667e+17</td>\n",
       "      <td>http://www.cbc.ca/news/health/drugs-need-caref...</td>\n",
       "    </tr>\n",
       "    <tr>\n",
       "      <th>1</th>\n",
       "      <td>NaN</td>\n",
       "      <td>&lt;div class=\"story\"&gt;&lt;span&gt;&lt;p&gt;About 30,000 cases...</td>\n",
       "      <td>Thu Apr 09 20:37:25 +0000 2015</td>\n",
       "      <td>NaN</td>\n",
       "      <td>Sabra hummus recalled in U.S. =rss</td>\n",
       "      <td>5.862667e+17</td>\n",
       "      <td>http://www.cbc.ca/news/health/sabra-hummus-rec...</td>\n",
       "    </tr>\n",
       "    <tr>\n",
       "      <th>2</th>\n",
       "      <td>NaN</td>\n",
       "      <td>&lt;div class=\"story\"&gt;&lt;span&gt;&lt;p&gt;A U.S. sperm bank ...</td>\n",
       "      <td>Thu Apr 09 20:37:24 +0000 2015</td>\n",
       "      <td>NaN</td>\n",
       "      <td>U.S. sperm bank sued by Canadian couple didn't...</td>\n",
       "      <td>5.862667e+17</td>\n",
       "      <td>http://www.cbc.ca/news/canada/toronto/sperm-ba...</td>\n",
       "    </tr>\n",
       "    <tr>\n",
       "      <th>3</th>\n",
       "      <td>NaN</td>\n",
       "      <td>&lt;div class=\"story\"&gt;&lt;span&gt;&lt;p&gt;Some Manitoba phar...</td>\n",
       "      <td>Thu Apr 09 17:57:00 +0000 2015</td>\n",
       "      <td>NaN</td>\n",
       "      <td>Manitoba pharmacists want clampdown on Tylenol...</td>\n",
       "      <td>5.862263e+17</td>\n",
       "      <td>http://www.cbc.ca/news/canada/manitoba/manitob...</td>\n",
       "    </tr>\n",
       "    <tr>\n",
       "      <th>4</th>\n",
       "      <td>NaN</td>\n",
       "      <td>&lt;div class=\"story\"&gt;&lt;span&gt;&lt;p&gt;An Ottawa mother o...</td>\n",
       "      <td>Thu Apr 09 13:50:44 +0000 2015</td>\n",
       "      <td>NaN</td>\n",
       "      <td>Mom of 7 'spooked' by vaccinations reverses st...</td>\n",
       "      <td>5.861643e+17</td>\n",
       "      <td>http://www.cbc.ca/news/canada/ottawa/tara-hill...</td>\n",
       "    </tr>\n",
       "  </tbody>\n",
       "</table>\n",
       "</div>"
      ],
      "text/plain": [
       "  author                                           contents  \\\n",
       "0    NaN  <div class=\"story\"><span><p>Expired medication...   \n",
       "1    NaN  <div class=\"story\"><span><p>About 30,000 cases...   \n",
       "2    NaN  <div class=\"story\"><span><p>A U.S. sperm bank ...   \n",
       "3    NaN  <div class=\"story\"><span><p>Some Manitoba phar...   \n",
       "4    NaN  <div class=\"story\"><span><p>An Ottawa mother o...   \n",
       "\n",
       "                             date  tags  \\\n",
       "0  Thu Apr 09 20:37:25 +0000 2015   NaN   \n",
       "1  Thu Apr 09 20:37:25 +0000 2015   NaN   \n",
       "2  Thu Apr 09 20:37:24 +0000 2015   NaN   \n",
       "3  Thu Apr 09 17:57:00 +0000 2015   NaN   \n",
       "4  Thu Apr 09 13:50:44 +0000 2015   NaN   \n",
       "\n",
       "                                               title       tweetid  \\\n",
       "0  Drugs need careful monitoring for expiry dates...  5.862667e+17   \n",
       "1                 Sabra hummus recalled in U.S. =rss  5.862667e+17   \n",
       "2  U.S. sperm bank sued by Canadian couple didn't...  5.862667e+17   \n",
       "3  Manitoba pharmacists want clampdown on Tylenol...  5.862263e+17   \n",
       "4  Mom of 7 'spooked' by vaccinations reverses st...  5.861643e+17   \n",
       "\n",
       "                                                 url  \n",
       "0  http://www.cbc.ca/news/health/drugs-need-caref...  \n",
       "1  http://www.cbc.ca/news/health/sabra-hummus-rec...  \n",
       "2  http://www.cbc.ca/news/canada/toronto/sperm-ba...  \n",
       "3  http://www.cbc.ca/news/canada/manitoba/manitob...  \n",
       "4  http://www.cbc.ca/news/canada/ottawa/tara-hill...  "
      ]
     },
     "execution_count": 99,
     "metadata": {},
     "output_type": "execute_result"
    }
   ],
   "source": [
    "cbc_file = './run_data/cbc_scrapt_v2.csv'\n",
    "df = pd.read_csv(cbc_file, sep='|')\n",
    "df.head()"
   ]
  },
  {
   "cell_type": "code",
   "execution_count": 100,
   "metadata": {
    "ExecuteTime": {
     "end_time": "2019-05-17T00:41:01.845687Z",
     "start_time": "2019-05-17T00:41:01.827804Z"
    }
   },
   "outputs": [
    {
     "name": "stdout",
     "output_type": "stream",
     "text": [
      "<class 'pandas.core.frame.DataFrame'>\n",
      "RangeIndex: 3741 entries, 0 to 3740\n",
      "Data columns (total 7 columns):\n",
      "author      514 non-null object\n",
      "contents    3433 non-null object\n",
      "date        3741 non-null object\n",
      "tags        0 non-null float64\n",
      "title       3741 non-null object\n",
      "tweetid     3741 non-null float64\n",
      "url         3588 non-null object\n",
      "dtypes: float64(2), object(5)\n",
      "memory usage: 204.7+ KB\n"
     ]
    }
   ],
   "source": [
    "df.info()"
   ]
  },
  {
   "cell_type": "code",
   "execution_count": 111,
   "metadata": {
    "ExecuteTime": {
     "end_time": "2019-05-17T00:44:13.319502Z",
     "start_time": "2019-05-17T00:44:13.286155Z"
    },
    "scrolled": false
   },
   "outputs": [
    {
     "name": "stdout",
     "output_type": "stream",
     "text": [
      "<class 'pandas.core.frame.DataFrame'>\n",
      "Int64Index: 3433 entries, 0 to 3740\n",
      "Data columns (total 7 columns):\n",
      "author      514 non-null object\n",
      "contents    3433 non-null object\n",
      "date        3433 non-null object\n",
      "tags        0 non-null float64\n",
      "title       3433 non-null object\n",
      "tweetid     3433 non-null float64\n",
      "url         3433 non-null object\n",
      "dtypes: float64(2), object(5)\n",
      "memory usage: 214.6+ KB\n"
     ]
    }
   ],
   "source": [
    "import re\n",
    "import unicodedata\n",
    "def clear_html(text):\n",
    "#     print(text)\n",
    "    text = str(text)\n",
    "    if text:\n",
    "        result = re.sub(r\"(<[^>]+>)\",\" \",text)\n",
    "        result = unicodedata.normalize('NFKD', result).encode('ascii', 'ignore').decode('ascii')\n",
    "        result = re.sub(r'[^a-zA-z0-9\\s\\']','',result)\n",
    "        result = re.sub(r\"([\\r|\\n|\\r\\n]+)\",\" \",result)\n",
    "        result = re.sub(r'( +)', ' ', result)\n",
    "    else:\n",
    "        result = ''\n",
    "    return result\n",
    "\n",
    "# print(df['contents'][0])\n",
    "# clear_html(df['contents'][0])\n",
    "\n",
    "df1 = df[pd.notnull(df[\"contents\"])] \n",
    "df1.info()"
   ]
  },
  {
   "cell_type": "code",
   "execution_count": 112,
   "metadata": {
    "ExecuteTime": {
     "end_time": "2019-05-17T00:44:14.483923Z",
     "start_time": "2019-05-17T00:44:13.898412Z"
    }
   },
   "outputs": [
    {
     "name": "stderr",
     "output_type": "stream",
     "text": [
      "/home/shayne/Anaconda3/envs/caps_env/lib/python3.6/site-packages/ipykernel_launcher.py:1: SettingWithCopyWarning: \n",
      "A value is trying to be set on a copy of a slice from a DataFrame.\n",
      "Try using .loc[row_indexer,col_indexer] = value instead\n",
      "\n",
      "See the caveats in the documentation: http://pandas.pydata.org/pandas-docs/stable/indexing.html#indexing-view-versus-copy\n",
      "  \"\"\"Entry point for launching an IPython kernel.\n"
     ]
    }
   ],
   "source": [
    "df1['length'] = df['contents'].map(lambda row: len(str(row)))\n",
    "df2 = df1[df1['length'] > 200]"
   ]
  },
  {
   "cell_type": "code",
   "execution_count": 113,
   "metadata": {
    "ExecuteTime": {
     "end_time": "2019-05-17T00:44:16.922457Z",
     "start_time": "2019-05-17T00:44:14.488548Z"
    }
   },
   "outputs": [
    {
     "name": "stderr",
     "output_type": "stream",
     "text": [
      "/home/shayne/Anaconda3/envs/caps_env/lib/python3.6/site-packages/ipykernel_launcher.py:1: SettingWithCopyWarning: \n",
      "A value is trying to be set on a copy of a slice from a DataFrame.\n",
      "Try using .loc[row_indexer,col_indexer] = value instead\n",
      "\n",
      "See the caveats in the documentation: http://pandas.pydata.org/pandas-docs/stable/indexing.html#indexing-view-versus-copy\n",
      "  \"\"\"Entry point for launching an IPython kernel.\n"
     ]
    }
   ],
   "source": [
    "df2['contents'] = df2['contents'].map(clear_html)"
   ]
  },
  {
   "cell_type": "code",
   "execution_count": 114,
   "metadata": {
    "ExecuteTime": {
     "end_time": "2019-05-17T00:44:16.961189Z",
     "start_time": "2019-05-17T00:44:16.926756Z"
    },
    "scrolled": true
   },
   "outputs": [
    {
     "data": {
      "text/html": [
       "<div>\n",
       "<style scoped>\n",
       "    .dataframe tbody tr th:only-of-type {\n",
       "        vertical-align: middle;\n",
       "    }\n",
       "\n",
       "    .dataframe tbody tr th {\n",
       "        vertical-align: top;\n",
       "    }\n",
       "\n",
       "    .dataframe thead th {\n",
       "        text-align: right;\n",
       "    }\n",
       "</style>\n",
       "<table border=\"1\" class=\"dataframe\">\n",
       "  <thead>\n",
       "    <tr style=\"text-align: right;\">\n",
       "      <th></th>\n",
       "      <th>author</th>\n",
       "      <th>contents</th>\n",
       "      <th>date</th>\n",
       "      <th>tags</th>\n",
       "      <th>title</th>\n",
       "      <th>tweetid</th>\n",
       "      <th>url</th>\n",
       "      <th>length</th>\n",
       "    </tr>\n",
       "  </thead>\n",
       "  <tbody>\n",
       "    <tr>\n",
       "      <th>0</th>\n",
       "      <td>NaN</td>\n",
       "      <td>Expired medications should be taken off the s...</td>\n",
       "      <td>Thu Apr 09 20:37:25 +0000 2015</td>\n",
       "      <td>NaN</td>\n",
       "      <td>Drugs need careful monitoring for expiry dates...</td>\n",
       "      <td>5.862667e+17</td>\n",
       "      <td>http://www.cbc.ca/news/health/drugs-need-caref...</td>\n",
       "      <td>4321</td>\n",
       "    </tr>\n",
       "    <tr>\n",
       "      <th>1</th>\n",
       "      <td>NaN</td>\n",
       "      <td>About 30000 cases of Sabra hummus sold in the...</td>\n",
       "      <td>Thu Apr 09 20:37:25 +0000 2015</td>\n",
       "      <td>NaN</td>\n",
       "      <td>Sabra hummus recalled in U.S. =rss</td>\n",
       "      <td>5.862667e+17</td>\n",
       "      <td>http://www.cbc.ca/news/health/sabra-hummus-rec...</td>\n",
       "      <td>1426</td>\n",
       "    </tr>\n",
       "    <tr>\n",
       "      <th>2</th>\n",
       "      <td>NaN</td>\n",
       "      <td>A US sperm bank said Thursday it did not veri...</td>\n",
       "      <td>Thu Apr 09 20:37:24 +0000 2015</td>\n",
       "      <td>NaN</td>\n",
       "      <td>U.S. sperm bank sued by Canadian couple didn't...</td>\n",
       "      <td>5.862667e+17</td>\n",
       "      <td>http://www.cbc.ca/news/canada/toronto/sperm-ba...</td>\n",
       "      <td>4615</td>\n",
       "    </tr>\n",
       "    <tr>\n",
       "      <th>3</th>\n",
       "      <td>NaN</td>\n",
       "      <td>Some Manitoba pharmacists are calling on the ...</td>\n",
       "      <td>Thu Apr 09 17:57:00 +0000 2015</td>\n",
       "      <td>NaN</td>\n",
       "      <td>Manitoba pharmacists want clampdown on Tylenol...</td>\n",
       "      <td>5.862263e+17</td>\n",
       "      <td>http://www.cbc.ca/news/canada/manitoba/manitob...</td>\n",
       "      <td>7811</td>\n",
       "    </tr>\n",
       "    <tr>\n",
       "      <th>4</th>\n",
       "      <td>NaN</td>\n",
       "      <td>An Ottawa mother of seven defected from the a...</td>\n",
       "      <td>Thu Apr 09 13:50:44 +0000 2015</td>\n",
       "      <td>NaN</td>\n",
       "      <td>Mom of 7 'spooked' by vaccinations reverses st...</td>\n",
       "      <td>5.861643e+17</td>\n",
       "      <td>http://www.cbc.ca/news/canada/ottawa/tara-hill...</td>\n",
       "      <td>3632</td>\n",
       "    </tr>\n",
       "  </tbody>\n",
       "</table>\n",
       "</div>"
      ],
      "text/plain": [
       "  author                                           contents  \\\n",
       "0    NaN   Expired medications should be taken off the s...   \n",
       "1    NaN   About 30000 cases of Sabra hummus sold in the...   \n",
       "2    NaN   A US sperm bank said Thursday it did not veri...   \n",
       "3    NaN   Some Manitoba pharmacists are calling on the ...   \n",
       "4    NaN   An Ottawa mother of seven defected from the a...   \n",
       "\n",
       "                             date  tags  \\\n",
       "0  Thu Apr 09 20:37:25 +0000 2015   NaN   \n",
       "1  Thu Apr 09 20:37:25 +0000 2015   NaN   \n",
       "2  Thu Apr 09 20:37:24 +0000 2015   NaN   \n",
       "3  Thu Apr 09 17:57:00 +0000 2015   NaN   \n",
       "4  Thu Apr 09 13:50:44 +0000 2015   NaN   \n",
       "\n",
       "                                               title       tweetid  \\\n",
       "0  Drugs need careful monitoring for expiry dates...  5.862667e+17   \n",
       "1                 Sabra hummus recalled in U.S. =rss  5.862667e+17   \n",
       "2  U.S. sperm bank sued by Canadian couple didn't...  5.862667e+17   \n",
       "3  Manitoba pharmacists want clampdown on Tylenol...  5.862263e+17   \n",
       "4  Mom of 7 'spooked' by vaccinations reverses st...  5.861643e+17   \n",
       "\n",
       "                                                 url  length  \n",
       "0  http://www.cbc.ca/news/health/drugs-need-caref...    4321  \n",
       "1  http://www.cbc.ca/news/health/sabra-hummus-rec...    1426  \n",
       "2  http://www.cbc.ca/news/canada/toronto/sperm-ba...    4615  \n",
       "3  http://www.cbc.ca/news/canada/manitoba/manitob...    7811  \n",
       "4  http://www.cbc.ca/news/canada/ottawa/tara-hill...    3632  "
      ]
     },
     "execution_count": 114,
     "metadata": {},
     "output_type": "execute_result"
    }
   ],
   "source": [
    "df2.head()"
   ]
  },
  {
   "cell_type": "code",
   "execution_count": 118,
   "metadata": {
    "ExecuteTime": {
     "end_time": "2019-05-17T01:04:18.002762Z",
     "start_time": "2019-05-17T01:04:17.994313Z"
    }
   },
   "outputs": [
    {
     "data": {
      "text/plain": [
       "'<div class=\"story\"><span><p>Expired medications should be taken off the shelf before they have a chance of reaching consumers, say pharmacists who stress manual checks of the expiry dates.</p><p>After Shoppers Drug Mart recalled one\\xa0lot of\\xa0Alesse\\xa021 birth control pills that expired in September 2014 and were sold to about 100 women, a Richmond, B.C., resident sent CBC News photos of a newly purchased non-prescription allergy medication stamped with an expiry date of August 2014. A CBC producer found more on the shelf at the same store.</p><p>When CBC News checked a dozen drug stores from three\\xa0chains in Toronto, journalists found a diabetic nutritional supplement that expired last October, other past due allergy medications, an expired sleep medication\\xa0and a number of products that expire this month.</p><p></p><p>Expired medications, both prescription and non-prescription, should be taken off the shelf before they have a chance of reaching consumers, said Phil Emberley,\\xa0director of pharmacy innovation at Canadian Pharmacists Association in Ottawa.</p><p>\"In a well-run pharmacy and drug store, there is a procedure for ensuring expired drug products are taken off the shelf before they expire,\"\\xa0Emberley said.</p><p>\"Consumers would not find expired product if they were to go, if they were to pick a product from the shelf. Further, in the dispensary part, there would be a fairly routine procedure, for example, once a month, to identify products that were soon to expire so that they would not be inadvertently dispensed by someone.\"</p><p>Regarding the Alesse recall, Emberley speculated that pharmacists made an assumption about newly arrived stock. \\xa0</p><p>\"They may have assumed it was well within its expiry, when in fact it arrived at the store already expired. I think there may have been that false sense of comfort that this product was still dispensable, when in fact it wasn\\'t.\"</p><p>Shoppers Drug Mart said it is reviewing its practices to prevent a recurrence.</p><p>In response to questions about the expired medications CBC News found on shelves, Shoppers said,\\xa0\"As a standard practice in our stores, our store teams regularly rotate in new product and check the expiry dates on the product on our shelves.\\xa0Our policy is to remove expired product and note future expiry dates so that products can be culled before they expire.</p><p></p><p>\"If any of our customers discover that they purchased expired product, we will refund it.\"</p><p>The\\xa0other\\xa0pharmacy chains did not respond to CBC News\\'s requests for comment about their expired non-prescription products.</p><p>Guardian Pharmacy told CBC they were just made aware of the medication being available for sale on Thursday, and that they\\'re taking the matter seriously.</p><p>\"Guardian and I.D.A. are working with the store owner/operator to ensure that this particular product is removed and no longer available for sale,\" they said.</p><h2>Manual checks needed</h2><p>Julie Greenall, director of projects and education at the Institute for Safe Medication Practice Canada,\\xa0said the Alesse recall illustrates how technology is not fail-safe and manual checks of expiry dates by pharmacists remain paramount.</p><p>\"I think as we move to electronic systems that we do have an increasing reliance on those electronic systems and also we sort of take that for granted that that\\'s already checked,\"\\xa0Greenall said.</p><p>Currently, electronic inventory systems may include the drug name and strength in the bar code, but not the lot number and expiry date, an advance Greenall expects will come.</p><p>\"There have been a number of studies done on expired medications that have found that they do tend to hold their potency over extended periods of time, but every medication is different. What we do know is that [most] expired medications are unlikely to be harmful,\"\\xa0Greenall said.</p><p>Given that\\xa0pharmacists are fallible, Greenall\\'s institute recommends ways to prevent errors, including:</p><ul><li>An alphanumeric system for expiry dates that includes letters to make the numbers stand out.</li><li>Expiry labels with the full four digits for the year.</li><li>Printing EXP clearly to indicate the expiry date rather than the lot number.</li><li>Have consumers check the expiry date themselves when possible.</li></ul></span></div>'"
      ]
     },
     "execution_count": 118,
     "metadata": {},
     "output_type": "execute_result"
    }
   ],
   "source": [
    "df['contents'][0]"
   ]
  },
  {
   "cell_type": "code",
   "execution_count": null,
   "metadata": {},
   "outputs": [],
   "source": []
  }
 ],
 "metadata": {
  "kernelspec": {
   "display_name": "Python 3",
   "language": "python",
   "name": "python3"
  },
  "language_info": {
   "codemirror_mode": {
    "name": "ipython",
    "version": 3
   },
   "file_extension": ".py",
   "mimetype": "text/x-python",
   "name": "python",
   "nbconvert_exporter": "python",
   "pygments_lexer": "ipython3",
   "version": "3.6.5"
  },
  "toc": {
   "base_numbering": 1,
   "nav_menu": {},
   "number_sections": true,
   "sideBar": true,
   "skip_h1_title": false,
   "title_cell": "Table of Contents",
   "title_sidebar": "Contents",
   "toc_cell": false,
   "toc_position": {},
   "toc_section_display": true,
   "toc_window_display": false
  }
 },
 "nbformat": 4,
 "nbformat_minor": 2
}
