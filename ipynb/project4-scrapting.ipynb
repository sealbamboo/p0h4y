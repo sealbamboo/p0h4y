{
 "cells": [
  {
   "cell_type": "code",
   "execution_count": 22,
   "metadata": {
    "ExecuteTime": {
     "end_time": "2019-05-05T12:31:40.598286Z",
     "start_time": "2019-05-05T12:31:38.422026Z"
    }
   },
   "outputs": [],
   "source": [
    "# Library Package\n",
    "from selenium import webdriver\n",
    "from selenium.webdriver.support.ui import WebDriverWait\n",
    "from selenium.webdriver.support import expected_conditions as EC\n",
    "from selenium.webdriver.common.keys import Keys\n",
    "from time import sleep  \n",
    "\n",
    "browser = webdriver.Chrome('../../chromedriver')"
   ]
  },
  {
   "cell_type": "code",
   "execution_count": 23,
   "metadata": {
    "ExecuteTime": {
     "end_time": "2019-05-05T12:31:44.561844Z",
     "start_time": "2019-05-05T12:31:40.599262Z"
    }
   },
   "outputs": [],
   "source": [
    "# Navigate to target website\n",
    "website = 'https://au.jora.com/'\n",
    "\n",
    "# Controlled Website\n",
    "browser.get(website)\n",
    "\n",
    "# Set Keyword\n",
    "keys = 'Data Science or Data analytics'\n",
    "\n",
    "# Jobs per pages\n",
    "jpp = 10\n",
    "\n",
    "# Jobs in totals\n",
    "total = 0"
   ]
  },
  {
   "cell_type": "code",
   "execution_count": 24,
   "metadata": {
    "ExecuteTime": {
     "end_time": "2019-05-05T12:31:46.973155Z",
     "start_time": "2019-05-05T12:31:44.562843Z"
    }
   },
   "outputs": [],
   "source": [
    "# Start Searching\n",
    "searchBar = browser.find_element_by_id(\"q\")\n",
    "searchBar.send_keys(keys)\n",
    "searchBar.send_keys(Keys.ENTER)"
   ]
  },
  {
   "cell_type": "code",
   "execution_count": 25,
   "metadata": {
    "ExecuteTime": {
     "end_time": "2019-05-05T12:31:47.023127Z",
     "start_time": "2019-05-05T12:31:46.975155Z"
    }
   },
   "outputs": [
    {
     "name": "stdout",
     "output_type": "stream",
     "text": [
      "13,192\n"
     ]
    }
   ],
   "source": [
    "# Assign the totals job\n",
    "total = browser.find_element_by_css_selector('div.page-entries-info span:last-of-type').text\n",
    "print(total)"
   ]
  },
  {
   "cell_type": "code",
   "execution_count": 26,
   "metadata": {
    "ExecuteTime": {
     "end_time": "2019-05-05T12:31:47.034120Z",
     "start_time": "2019-05-05T12:31:47.024127Z"
    }
   },
   "outputs": [],
   "source": [
    "# Save the window opener (current window, do not mistaken with tab... not the same)\n",
    "main_window = browser.current_window_handle"
   ]
  },
  {
   "cell_type": "code",
   "execution_count": 27,
   "metadata": {
    "ExecuteTime": {
     "end_time": "2019-05-05T12:31:47.039118Z",
     "start_time": "2019-05-05T12:31:47.036120Z"
    }
   },
   "outputs": [],
   "source": [
    "list_urls = []"
   ]
  },
  {
   "cell_type": "code",
   "execution_count": 28,
   "metadata": {
    "ExecuteTime": {
     "end_time": "2019-05-05T12:32:36.567598Z",
     "start_time": "2019-05-05T12:31:47.041117Z"
    },
    "scrolled": false
   },
   "outputs": [
    {
     "name": "stdout",
     "output_type": "stream",
     "text": [
      "https://au.jora.com/job/Data-Science-Analytics-Engineer-8650e498e1f12552e632e8a714bf490f?from_url=https%3A%2F%2Fau.jora.com%2Fj%3Fl%3D%26q%3DData%2BScience%2Bor%2BData%2Banalytics%26sp%3Dhomepage&sl=&sol_srt=4fed288e-f607-444f-b71f-2dd3046d48d8&sp=serp&sponsored=false&sq=Data+Science+or+Data+analytics&sr=1&tk=GIdd5PvQHPA36QEdi2Es-8mh9qYkStXbY4HkvJMGF\n",
      "10\n",
      "[index]:  0\n",
      "IN IF\n",
      "https://au.jora.com/job/Analytics-Consultant-664c4f299dccd6755868016196f4f0f7?from_url=https%3A%2F%2Fau.jora.com%2Fj%3Fl%3D%26p%3D2%26q%3DData%2BScience%2Bor%2BData%2Banalytics%26sp%3Dhomepage%26surl%3D0%26tk%3DGIdd5PvQHPA36QEdi2Es-8mh9qYkStXbY4HkvJMGF&sl=&sol_srt=911e43ca-1652-4c91-8424-51c333526f37&sp=serp&sponsored=false&sq=Data+Science+or+Data+analytics&sr=11&tk=GIdd5PvQHPA36QEdi2Es-ebphO_ceSgFPIvOq8YFD\n",
      "20\n",
      "[index]:  1\n",
      "https://au.jora.com/job/Research-Scientist-ad166258fda7732dfa1ef2436d340fc7?from_url=https%3A%2F%2Fau.jora.com%2Fj%3Fl%3D%26p%3D3%26q%3DData%2BScience%2Bor%2BData%2Banalytics%26sp%3Dhomepage%26surl%3D0%26tk%3D36_65hm3dZ3rs7ah43hA-dQB88fVfc71DFumFr1D6&sl=&sol_srt=458711d1-01ee-44d8-adb8-227ff21b9b6e&sp=serp&sponsored=false&sq=Data+Science+or+Data+analytics&sr=21&tk=36_65hm3dZ3rs7ah43hA-RmDU6WvRpKeNoDSE7O8V\n",
      "30\n",
      "[index]:  2\n",
      "https://au.jora.com/job/Senior-Manager-f1b121f0c64c19d46706e2bbe90f9002?from_url=https%3A%2F%2Fau.jora.com%2Fj%3Fl%3D%26p%3D4%26q%3DData%2BScience%2Bor%2BData%2Banalytics%26sp%3Dhomepage%26surl%3D0%26tk%3Dwx7QZiN5BvqMqgzmyERA-y37bF8AG2xsJRPQxwlmU&sl=&sol_srt=99eeca08-ee60-4b3d-83d4-1b1951586f0b&sp=serp&sponsored=false&sq=Data+Science+or+Data+analytics&sr=31&tk=wx7QZiN5BvqMqgzmyERA-F6iiRCiJuLN1DYR6x9qz\n",
      "40\n",
      "[index]:  3\n",
      "https://au.jora.com/job/Program-Manager-71cc28be87bd1effee069a6ce8eee267?from_url=https%3A%2F%2Fau.jora.com%2Fj%3Fl%3D%26p%3D5%26q%3DData%2BScience%2Bor%2BData%2Banalytics%26sp%3Dhomepage%26surl%3D0%26tk%3DxpzT_xw5PuV6EeljBsQA-YuRsGSGKA0e7gxYexQK3&sl=&sol_srt=ff1b8c3c-b3e2-4130-8942-50c65e338fda&sp=serp&sponsored=false&sq=Data+Science+or+Data+analytics&sr=41&tk=xpzT_xw5PuV6EeljBsQA-dj7UCc8qo9Q1VrpghWu7\n",
      "50\n",
      "[index]:  4\n",
      "https://au.jora.com/job/Analytics-Consultant-664c4f299dccd6755868016196f4f0f7?from_url=https%3A%2F%2Fau.jora.com%2Fj%3Fl%3D%26p%3D2%26q%3DData%2BScience%2Bor%2BData%2Banalytics%26sp%3Dhomepage%26surl%3D0%26tk%3DMcQsxHfTIkkjxCDeDxbk-ADvtgbeZ6QH92WtnzuKm&sl=&sol_srt=e48ad96f-16e8-4b28-ba72-f2241714ffd7&sp=serp&sponsored=false&sq=Data+Science+or+Data+analytics&sr=11&tk=McQsxHfTIkkjxCDeDxbk-7G5LqRHubWi2mzov9Y2l\n",
      "60\n",
      "[index]:  5\n"
     ]
    },
    {
     "ename": "JavascriptException",
     "evalue": "Message: javascript error: elem.remove is not a function\n  (Session info: chrome=73.0.3683.103)\n  (Driver info: chromedriver=73.0.3683.68 (47787ec04b6e38e22703e856e101e840b65afe72),platform=Windows NT 10.0.17134 x86_64)\n",
     "output_type": "error",
     "traceback": [
      "\u001b[1;31m---------------------------------------------------------------------------\u001b[0m",
      "\u001b[1;31mJavascriptException\u001b[0m                       Traceback (most recent call last)",
      "\u001b[1;32m<ipython-input-28-d7c23d8208c0>\u001b[0m in \u001b[0;36m<module>\u001b[1;34m()\u001b[0m\n\u001b[0;32m     44\u001b[0m         \u001b[0mpagination\u001b[0m \u001b[1;33m=\u001b[0m \u001b[0mbrowser\u001b[0m\u001b[1;33m.\u001b[0m\u001b[0mfind_element_by_css_selector\u001b[0m\u001b[1;33m(\u001b[0m\u001b[1;34m'div.pagination a:last-of-type'\u001b[0m\u001b[1;33m)\u001b[0m\u001b[1;33m\u001b[0m\u001b[0m\n\u001b[0;32m     45\u001b[0m \u001b[1;33m\u001b[0m\u001b[0m\n\u001b[1;32m---> 46\u001b[1;33m         \u001b[0mbrowser\u001b[0m\u001b[1;33m.\u001b[0m\u001b[0mexecute_script\u001b[0m\u001b[1;33m(\u001b[0m\u001b[1;34m\"var elem = document.getElementsByClassName('lean-overlay');elem.remove()\"\u001b[0m\u001b[1;33m)\u001b[0m\u001b[1;33m\u001b[0m\u001b[0m\n\u001b[0m\u001b[0;32m     47\u001b[0m         \u001b[0mpagination\u001b[0m\u001b[1;33m.\u001b[0m\u001b[0mclick\u001b[0m\u001b[1;33m(\u001b[0m\u001b[1;33m)\u001b[0m\u001b[1;33m\u001b[0m\u001b[0m\n\u001b[0;32m     48\u001b[0m \u001b[1;33m\u001b[0m\u001b[0m\n",
      "\u001b[1;32m~\\Anaconda3\\lib\\site-packages\\selenium\\webdriver\\remote\\webdriver.py\u001b[0m in \u001b[0;36mexecute_script\u001b[1;34m(self, script, *args)\u001b[0m\n\u001b[0;32m    634\u001b[0m         return self.execute(command, {\n\u001b[0;32m    635\u001b[0m             \u001b[1;34m'script'\u001b[0m\u001b[1;33m:\u001b[0m \u001b[0mscript\u001b[0m\u001b[1;33m,\u001b[0m\u001b[1;33m\u001b[0m\u001b[0m\n\u001b[1;32m--> 636\u001b[1;33m             'args': converted_args})['value']\n\u001b[0m\u001b[0;32m    637\u001b[0m \u001b[1;33m\u001b[0m\u001b[0m\n\u001b[0;32m    638\u001b[0m     \u001b[1;32mdef\u001b[0m \u001b[0mexecute_async_script\u001b[0m\u001b[1;33m(\u001b[0m\u001b[0mself\u001b[0m\u001b[1;33m,\u001b[0m \u001b[0mscript\u001b[0m\u001b[1;33m,\u001b[0m \u001b[1;33m*\u001b[0m\u001b[0margs\u001b[0m\u001b[1;33m)\u001b[0m\u001b[1;33m:\u001b[0m\u001b[1;33m\u001b[0m\u001b[0m\n",
      "\u001b[1;32m~\\Anaconda3\\lib\\site-packages\\selenium\\webdriver\\remote\\webdriver.py\u001b[0m in \u001b[0;36mexecute\u001b[1;34m(self, driver_command, params)\u001b[0m\n\u001b[0;32m    319\u001b[0m         \u001b[0mresponse\u001b[0m \u001b[1;33m=\u001b[0m \u001b[0mself\u001b[0m\u001b[1;33m.\u001b[0m\u001b[0mcommand_executor\u001b[0m\u001b[1;33m.\u001b[0m\u001b[0mexecute\u001b[0m\u001b[1;33m(\u001b[0m\u001b[0mdriver_command\u001b[0m\u001b[1;33m,\u001b[0m \u001b[0mparams\u001b[0m\u001b[1;33m)\u001b[0m\u001b[1;33m\u001b[0m\u001b[0m\n\u001b[0;32m    320\u001b[0m         \u001b[1;32mif\u001b[0m \u001b[0mresponse\u001b[0m\u001b[1;33m:\u001b[0m\u001b[1;33m\u001b[0m\u001b[0m\n\u001b[1;32m--> 321\u001b[1;33m             \u001b[0mself\u001b[0m\u001b[1;33m.\u001b[0m\u001b[0merror_handler\u001b[0m\u001b[1;33m.\u001b[0m\u001b[0mcheck_response\u001b[0m\u001b[1;33m(\u001b[0m\u001b[0mresponse\u001b[0m\u001b[1;33m)\u001b[0m\u001b[1;33m\u001b[0m\u001b[0m\n\u001b[0m\u001b[0;32m    322\u001b[0m             response['value'] = self._unwrap_value(\n\u001b[0;32m    323\u001b[0m                 response.get('value', None))\n",
      "\u001b[1;32m~\\Anaconda3\\lib\\site-packages\\selenium\\webdriver\\remote\\errorhandler.py\u001b[0m in \u001b[0;36mcheck_response\u001b[1;34m(self, response)\u001b[0m\n\u001b[0;32m    240\u001b[0m                 \u001b[0malert_text\u001b[0m \u001b[1;33m=\u001b[0m \u001b[0mvalue\u001b[0m\u001b[1;33m[\u001b[0m\u001b[1;34m'alert'\u001b[0m\u001b[1;33m]\u001b[0m\u001b[1;33m.\u001b[0m\u001b[0mget\u001b[0m\u001b[1;33m(\u001b[0m\u001b[1;34m'text'\u001b[0m\u001b[1;33m)\u001b[0m\u001b[1;33m\u001b[0m\u001b[0m\n\u001b[0;32m    241\u001b[0m             \u001b[1;32mraise\u001b[0m \u001b[0mexception_class\u001b[0m\u001b[1;33m(\u001b[0m\u001b[0mmessage\u001b[0m\u001b[1;33m,\u001b[0m \u001b[0mscreen\u001b[0m\u001b[1;33m,\u001b[0m \u001b[0mstacktrace\u001b[0m\u001b[1;33m,\u001b[0m \u001b[0malert_text\u001b[0m\u001b[1;33m)\u001b[0m\u001b[1;33m\u001b[0m\u001b[0m\n\u001b[1;32m--> 242\u001b[1;33m         \u001b[1;32mraise\u001b[0m \u001b[0mexception_class\u001b[0m\u001b[1;33m(\u001b[0m\u001b[0mmessage\u001b[0m\u001b[1;33m,\u001b[0m \u001b[0mscreen\u001b[0m\u001b[1;33m,\u001b[0m \u001b[0mstacktrace\u001b[0m\u001b[1;33m)\u001b[0m\u001b[1;33m\u001b[0m\u001b[0m\n\u001b[0m\u001b[0;32m    243\u001b[0m \u001b[1;33m\u001b[0m\u001b[0m\n\u001b[0;32m    244\u001b[0m     \u001b[1;32mdef\u001b[0m \u001b[0m_value_or_default\u001b[0m\u001b[1;33m(\u001b[0m\u001b[0mself\u001b[0m\u001b[1;33m,\u001b[0m \u001b[0mobj\u001b[0m\u001b[1;33m,\u001b[0m \u001b[0mkey\u001b[0m\u001b[1;33m,\u001b[0m \u001b[0mdefault\u001b[0m\u001b[1;33m)\u001b[0m\u001b[1;33m:\u001b[0m\u001b[1;33m\u001b[0m\u001b[0m\n",
      "\u001b[1;31mJavascriptException\u001b[0m: Message: javascript error: elem.remove is not a function\n  (Session info: chrome=73.0.3683.103)\n  (Driver info: chromedriver=73.0.3683.68 (47787ec04b6e38e22703e856e101e840b65afe72),platform=Windows NT 10.0.17134 x86_64)\n"
     ]
    }
   ],
   "source": [
    "# Save links\n",
    "for index in range(jpp):\n",
    "       \n",
    "    # Query all url accordingly to href    \n",
    "    print(browser.find_element_by_xpath('//div[@class=\"job\"]/h2/a').get_attribute(\"href\"))\n",
    "    query_links = browser.find_elements_by_xpath('//div[@class=\"job\"]/h2/a')\n",
    "    # Push to list\n",
    "    for value in query_links:\n",
    "        list_urls.append(value.get_attribute(\"href\"))\n",
    "        \n",
    "    print(len(list_urls))\n",
    "    print(\"[index]: \", index)\n",
    "    # Deal with modals\n",
    "    if index < 1:\n",
    "        \n",
    "        print(\"IN IF\")\n",
    "        #         browser.close()\n",
    "        # Move to next list search. Ex: a@href\n",
    "        pagination = browser.find_element_by_css_selector('div.pagination a:first-of-type')\n",
    "        pagination.click()\n",
    "\n",
    "    elif index < 5:\n",
    "        # Close the current Chrome\n",
    "        browser.close()\n",
    "        \n",
    "        # Controlled Website\n",
    "        browser = webdriver.Chrome('../../chromedriver')\n",
    "        browser.get(website)\n",
    "        \n",
    "        # Start Searching\n",
    "        searchBar = browser.find_element_by_id(\"q\")\n",
    "        searchBar.send_keys(keys)\n",
    "        searchBar.send_keys(Keys.ENTER)\n",
    "        \n",
    "#         browser.execute_script(\"var elem = document.getElementById('modal_id');elem.remove()\")\n",
    "#         browser.execute_script(\"var elem = document.getElementsByClassName('lean-overlay');elem.remove()\")\n",
    "        \n",
    "        # Then pagination to current index+1\n",
    "        nth_of_type = 'div.pagination a:nth-of-type('+ str(index+1) + ')'\n",
    "        pagination = browser.find_element_by_css_selector(nth_of_type)\n",
    "        pagination.click()\n",
    "    else:\n",
    "        # Deal with next button\n",
    "        pagination = browser.find_element_by_css_selector('div.pagination a:last-of-type')\n",
    "        \n",
    "        browser.execute_script(\"var elem = document.getElementsByClassName('lean-overlay');elem.remove()\")\n",
    "        pagination.click()\n",
    "    "
   ]
  },
  {
   "cell_type": "code",
   "execution_count": 6,
   "metadata": {
    "ExecuteTime": {
     "end_time": "2019-05-05T08:54:56.259393Z",
     "start_time": "2019-05-05T08:54:56.111478Z"
    }
   },
   "outputs": [
    {
     "ename": "JavascriptException",
     "evalue": "Message: javascript error: Cannot read property 'remove' of null\n  (Session info: chrome=73.0.3683.103)\n  (Driver info: chromedriver=73.0.3683.68 (47787ec04b6e38e22703e856e101e840b65afe72),platform=Windows NT 10.0.17134 x86_64)\n",
     "output_type": "error",
     "traceback": [
      "\u001b[1;31m---------------------------------------------------------------------------\u001b[0m",
      "\u001b[1;31mJavascriptException\u001b[0m                       Traceback (most recent call last)",
      "\u001b[1;32m<ipython-input-6-33b6e88336df>\u001b[0m in \u001b[0;36m<module>\u001b[1;34m()\u001b[0m\n\u001b[0;32m     36\u001b[0m \u001b[1;31m#         main_window = browser.current_window_handle\u001b[0m\u001b[1;33m\u001b[0m\u001b[1;33m\u001b[0m\u001b[0m\n\u001b[0;32m     37\u001b[0m \u001b[1;33m\u001b[0m\u001b[0m\n\u001b[1;32m---> 38\u001b[1;33m     \u001b[0mbrowser\u001b[0m\u001b[1;33m.\u001b[0m\u001b[0mexecute_script\u001b[0m\u001b[1;33m(\u001b[0m\u001b[1;34m\"var elem = document.getElementById('modal_id');elem.remove()\"\u001b[0m\u001b[1;33m)\u001b[0m\u001b[1;33m\u001b[0m\u001b[0m\n\u001b[0m\u001b[0;32m     39\u001b[0m     \u001b[0mbrowser\u001b[0m\u001b[1;33m.\u001b[0m\u001b[0mexecute_script\u001b[0m\u001b[1;33m(\u001b[0m\u001b[1;34m\"var elem = document.getElementsByClassName('lean-overlay');elem.remove()\"\u001b[0m\u001b[1;33m)\u001b[0m\u001b[1;33m\u001b[0m\u001b[0m\n\u001b[0;32m     40\u001b[0m \u001b[1;33m\u001b[0m\u001b[0m\n",
      "\u001b[1;32m~\\Anaconda3\\lib\\site-packages\\selenium\\webdriver\\remote\\webdriver.py\u001b[0m in \u001b[0;36mexecute_script\u001b[1;34m(self, script, *args)\u001b[0m\n\u001b[0;32m    634\u001b[0m         return self.execute(command, {\n\u001b[0;32m    635\u001b[0m             \u001b[1;34m'script'\u001b[0m\u001b[1;33m:\u001b[0m \u001b[0mscript\u001b[0m\u001b[1;33m,\u001b[0m\u001b[1;33m\u001b[0m\u001b[0m\n\u001b[1;32m--> 636\u001b[1;33m             'args': converted_args})['value']\n\u001b[0m\u001b[0;32m    637\u001b[0m \u001b[1;33m\u001b[0m\u001b[0m\n\u001b[0;32m    638\u001b[0m     \u001b[1;32mdef\u001b[0m \u001b[0mexecute_async_script\u001b[0m\u001b[1;33m(\u001b[0m\u001b[0mself\u001b[0m\u001b[1;33m,\u001b[0m \u001b[0mscript\u001b[0m\u001b[1;33m,\u001b[0m \u001b[1;33m*\u001b[0m\u001b[0margs\u001b[0m\u001b[1;33m)\u001b[0m\u001b[1;33m:\u001b[0m\u001b[1;33m\u001b[0m\u001b[0m\n",
      "\u001b[1;32m~\\Anaconda3\\lib\\site-packages\\selenium\\webdriver\\remote\\webdriver.py\u001b[0m in \u001b[0;36mexecute\u001b[1;34m(self, driver_command, params)\u001b[0m\n\u001b[0;32m    319\u001b[0m         \u001b[0mresponse\u001b[0m \u001b[1;33m=\u001b[0m \u001b[0mself\u001b[0m\u001b[1;33m.\u001b[0m\u001b[0mcommand_executor\u001b[0m\u001b[1;33m.\u001b[0m\u001b[0mexecute\u001b[0m\u001b[1;33m(\u001b[0m\u001b[0mdriver_command\u001b[0m\u001b[1;33m,\u001b[0m \u001b[0mparams\u001b[0m\u001b[1;33m)\u001b[0m\u001b[1;33m\u001b[0m\u001b[0m\n\u001b[0;32m    320\u001b[0m         \u001b[1;32mif\u001b[0m \u001b[0mresponse\u001b[0m\u001b[1;33m:\u001b[0m\u001b[1;33m\u001b[0m\u001b[0m\n\u001b[1;32m--> 321\u001b[1;33m             \u001b[0mself\u001b[0m\u001b[1;33m.\u001b[0m\u001b[0merror_handler\u001b[0m\u001b[1;33m.\u001b[0m\u001b[0mcheck_response\u001b[0m\u001b[1;33m(\u001b[0m\u001b[0mresponse\u001b[0m\u001b[1;33m)\u001b[0m\u001b[1;33m\u001b[0m\u001b[0m\n\u001b[0m\u001b[0;32m    322\u001b[0m             response['value'] = self._unwrap_value(\n\u001b[0;32m    323\u001b[0m                 response.get('value', None))\n",
      "\u001b[1;32m~\\Anaconda3\\lib\\site-packages\\selenium\\webdriver\\remote\\errorhandler.py\u001b[0m in \u001b[0;36mcheck_response\u001b[1;34m(self, response)\u001b[0m\n\u001b[0;32m    240\u001b[0m                 \u001b[0malert_text\u001b[0m \u001b[1;33m=\u001b[0m \u001b[0mvalue\u001b[0m\u001b[1;33m[\u001b[0m\u001b[1;34m'alert'\u001b[0m\u001b[1;33m]\u001b[0m\u001b[1;33m.\u001b[0m\u001b[0mget\u001b[0m\u001b[1;33m(\u001b[0m\u001b[1;34m'text'\u001b[0m\u001b[1;33m)\u001b[0m\u001b[1;33m\u001b[0m\u001b[0m\n\u001b[0;32m    241\u001b[0m             \u001b[1;32mraise\u001b[0m \u001b[0mexception_class\u001b[0m\u001b[1;33m(\u001b[0m\u001b[0mmessage\u001b[0m\u001b[1;33m,\u001b[0m \u001b[0mscreen\u001b[0m\u001b[1;33m,\u001b[0m \u001b[0mstacktrace\u001b[0m\u001b[1;33m,\u001b[0m \u001b[0malert_text\u001b[0m\u001b[1;33m)\u001b[0m\u001b[1;33m\u001b[0m\u001b[0m\n\u001b[1;32m--> 242\u001b[1;33m         \u001b[1;32mraise\u001b[0m \u001b[0mexception_class\u001b[0m\u001b[1;33m(\u001b[0m\u001b[0mmessage\u001b[0m\u001b[1;33m,\u001b[0m \u001b[0mscreen\u001b[0m\u001b[1;33m,\u001b[0m \u001b[0mstacktrace\u001b[0m\u001b[1;33m)\u001b[0m\u001b[1;33m\u001b[0m\u001b[0m\n\u001b[0m\u001b[0;32m    243\u001b[0m \u001b[1;33m\u001b[0m\u001b[0m\n\u001b[0;32m    244\u001b[0m     \u001b[1;32mdef\u001b[0m \u001b[0m_value_or_default\u001b[0m\u001b[1;33m(\u001b[0m\u001b[0mself\u001b[0m\u001b[1;33m,\u001b[0m \u001b[0mobj\u001b[0m\u001b[1;33m,\u001b[0m \u001b[0mkey\u001b[0m\u001b[1;33m,\u001b[0m \u001b[0mdefault\u001b[0m\u001b[1;33m)\u001b[0m\u001b[1;33m:\u001b[0m\u001b[1;33m\u001b[0m\u001b[0m\n",
      "\u001b[1;31mJavascriptException\u001b[0m: Message: javascript error: Cannot read property 'remove' of null\n  (Session info: chrome=73.0.3683.103)\n  (Driver info: chromedriver=73.0.3683.68 (47787ec04b6e38e22703e856e101e840b65afe72),platform=Windows NT 10.0.17134 x86_64)\n"
     ]
    }
   ],
   "source": [
    "def check_exists_by_id(id_selector):\n",
    "    try:\n",
    "        browser.find_element_by_id(id_selector)\n",
    "    except:\n",
    "        return False\n",
    "    return True\n",
    "\n",
    "for index in range(jpp):\n",
    "    \n",
    "    # Deal with Modal  \n",
    "    modal_id = 'job_alert_modal'\n",
    "    modal_close = 'close_box'\n",
    "    try:\n",
    "        if check_exists_by_id(modal_id):\n",
    "            print(\"[MODAL IS ON]\")\n",
    "            modal_link = browser.find_element_by_class_name('close_box')\n",
    "            modal_link.click()\n",
    "    except:\n",
    "        pass\n",
    "        \n",
    "#     if check_exists_by_id(modal_id):\n",
    "#         print(\"There are no modal\")\n",
    "#         modal_link = browser.find_element_by_class_name('close_box')\n",
    "#         modal_link.click()\n",
    "#     else:\n",
    "#         print(\"There are no checked!\")\n",
    "        \n",
    "#     if index == 2:\n",
    "#         # Controlled Website\n",
    "#         browser.get(website)\n",
    "        \n",
    "#         # Start Searching\n",
    "#         searchBar = browser.find_element_by_id(\"q\")\n",
    "#         searchBar.send_keys(keys)\n",
    "#         searchBar.send_keys(Keys.ENTER)\n",
    "#         main_window = browser.current_window_handle\n",
    "        \n",
    "    browser.execute_script(\"var elem = document.getElementById('modal_id');elem.remove()\")\n",
    "    browser.execute_script(\"var elem = document.getElementsByClassName('lean-overlay');elem.remove()\")\n",
    "    \n",
    "    # Navigate to container of list jobs\n",
    "    css_selector_text = 'ul#jobresults > li:nth-child('+ str(index+1) +') h2'\n",
    "    print(css_selector_text)\n",
    "    print(\"---------------------------------\")\n",
    "    link = browser.find_element_by_css_selector(css_selector_text) \n",
    "    link.click()\n",
    "    print(\"----------------------------click\")\n",
    "#     link.send_keys(Keys.ENTER)\n",
    "    \n",
    "    # Put focus on current window which will, in fact, put focus on the current visible tab\n",
    "#     browser.switch_to_window(main_window)\n",
    "\n",
    "    # ==============================================================\n",
    "    # Analytics the content\n",
    "    # ==============================================================\n",
    "    sleep(2)\n",
    "    print(\"---------------------------------\")\n",
    "    # Switch to newly open tab\n",
    "    window_after = browser.window_handles[1]\n",
    "    browser.switch_to_window(window_after) \n",
    "    #assuming new tab is at index 1    \n",
    "\n",
    "    # Title\n",
    "    j_title = browser.find_element_by_css_selector('h1')\n",
    "    print(j_title.text)\n",
    "\n",
    "    # Company\n",
    "    job_company = browser.find_element_by_class_name('company')\n",
    "    print(job_company.text)\n",
    "\n",
    "    # Location\n",
    "    j_location = browser.find_element_by_class_name('location')\n",
    "    print(j_location.text)\n",
    "\n",
    "    # print(browser.find_elements_by_xpath('//div[@class=\"js_first_column\"]/p'))\n",
    "    j_summary_k = browser.find_elements_by_xpath('//div[@class=\"js_first_column\"]/p')\n",
    "    for e in j_summary_k:\n",
    "        text= e.text\n",
    "#         print(text)\n",
    "    print(\"\\n\")\n",
    "\n",
    "    j_summary_v = browser.find_elements_by_xpath('//div[@class=\"js_first_column\"]/following-sibling::div/p')\n",
    "    for e in j_summary_v:\n",
    "        text= e.text\n",
    "        print(text)\n",
    "\n",
    "    # P-TEXT: About us - The opportunity\n",
    "    list_p_title = ['About us','The opportunity','Culture']\n",
    "    j_about_p = browser.find_elements_by_css_selector('div.summary p')\n",
    "    for p in j_about_p:\n",
    "        ptext = '. '.join(p.text)\n",
    "#         print(ptext)\n",
    "\n",
    "    # UL-LI: Responsibilities - Experience/Qualifications - Benefits \n",
    "    list_ul_title = ['Responsibilities','Experience/Qualifications','Benefits']\n",
    "    j_responsibilities = browser.find_elements_by_css_selector('div.summary ul')\n",
    "    for res in j_responsibilities:\n",
    "        responsibilities = '. '.join(res.text)\n",
    "#         print(responsibilities)\n",
    "    \n",
    "    # do whatever you have to do on this page, we will just got to sleep for now\n",
    "#     sleep(2)\n",
    "    \n",
    "    # Close current tab\n",
    "    browser.close()\n",
    "    \n",
    "    # Save the window opener (current window, do not mistaken with tab... not the same)\n",
    "    browser.switch_to_window(main_window)"
   ]
  },
  {
   "cell_type": "code",
   "execution_count": null,
   "metadata": {},
   "outputs": [],
   "source": []
  },
  {
   "cell_type": "code",
   "execution_count": null,
   "metadata": {
    "ExecuteTime": {
     "end_time": "2019-05-05T08:54:56.260393Z",
     "start_time": "2019-05-05T08:54:46.698Z"
    }
   },
   "outputs": [],
   "source": [
    "# # ==============================================================\n",
    "# # Analytics the content\n",
    "# # ==============================================================\n",
    "\n",
    "# searchBar = browser.find_element_by_id(\"q\")\n",
    "# searchBar.send_keys(keys)\n",
    "# searchBar.send_keys(Keys.ENTER)\n",
    "\n",
    "# # Navigate to container of list jobs\n",
    "# css_selector_text = 'ul#jobresults > li:nth-child(1) h2'\n",
    "# print(css_selector_text)\n",
    "# print(\"---------------------------------\")\n",
    "# link = browser.find_element_by_css_selector(css_selector_text)\n",
    "# link.click()\n",
    "\n",
    "# # ==============================================================\n",
    "# # Analytics the content\n",
    "# # ==============================================================\n",
    "# sleep(2)\n",
    "# # Switch to newly open tab\n",
    "# browser.switch_to_window(browser.window_handles[1]) #assuming new tab is at index 1\n",
    "\n",
    "\n",
    "# # Switch to newly open tab\n",
    "# browser.switch_to_window(browser.window_handles[1]) #assuming new tab is at index 1\n",
    "# sleep(1)\n",
    "\n",
    "# # Title\n",
    "# j_title = browser.find_element_by_css_selector('h1')\n",
    "# print(j_title.text)\n",
    "\n",
    "# # Company\n",
    "# job_company = browser.find_element_by_class_name('company')\n",
    "# print(job_company.text)\n",
    "\n",
    "# # Location\n",
    "# j_location = browser.find_element_by_class_name('location')\n",
    "# print(j_location.text)\n",
    "\n",
    "# # print(browser.find_elements_by_xpath('//div[@class=\"js_first_column\"]/p'))\n",
    "# j_summary_k = browser.find_elements_by_xpath('//div[@class=\"js_first_column\"]/p')\n",
    "# for e in j_summary_k:\n",
    "#     text= e.text\n",
    "#     print(text)\n",
    "# print(\"\\n\")\n",
    "\n",
    "# j_summary_v = browser.find_elements_by_xpath('//div[@class=\"js_first_column\"]/following-sibling::div/p')\n",
    "# for e in j_summary_v:\n",
    "#     text= e.text\n",
    "#     print(text)\n",
    "    \n",
    "# # P-TEXT: About us - The opportunity\n",
    "# list_p_title = ['About us','The opportunity','Culture']\n",
    "# j_about_p = browser.find_elements_by_css_selector('div.summary > div > div > p')\n",
    "# for p in j_about_p:\n",
    "#     print(p.text)\n",
    "    \n",
    "# # UL-LI: Responsibilities - Experience/Qualifications - Benefits \n",
    "# list_ul_title = ['Responsibilities','Experience/Qualifications','Benefits']\n",
    "# j_responsibilities = browser.find_elements_by_css_selector('div.summary ul')\n",
    "# for res in j_responsibilities:\n",
    "#     print(res.text)"
   ]
  },
  {
   "cell_type": "code",
   "execution_count": null,
   "metadata": {
    "ExecuteTime": {
     "end_time": "2019-05-05T08:54:56.264391Z",
     "start_time": "2019-05-05T08:54:46.700Z"
    }
   },
   "outputs": [],
   "source": [
    "# do whatever you have to do on this page, we will just got to sleep for now\n",
    "sleep(2)"
   ]
  },
  {
   "cell_type": "code",
   "execution_count": null,
   "metadata": {
    "ExecuteTime": {
     "end_time": "2019-05-05T08:54:56.266389Z",
     "start_time": "2019-05-05T08:54:46.701Z"
    }
   },
   "outputs": [],
   "source": [
    "# Close current tab\n",
    "# browser.switch_to_window(browser.window_handles[1]) #assuming new tab is at index 1\n",
    "browser.close() #closes new tab"
   ]
  },
  {
   "cell_type": "code",
   "execution_count": null,
   "metadata": {
    "ExecuteTime": {
     "end_time": "2019-05-05T08:54:56.267388Z",
     "start_time": "2019-05-05T08:54:46.703Z"
    }
   },
   "outputs": [],
   "source": [
    "# Save the window opener (current window, do not mistaken with tab... not the same)\n",
    "browser.switch_to_window(main_window)"
   ]
  },
  {
   "cell_type": "code",
   "execution_count": null,
   "metadata": {
    "ExecuteTime": {
     "end_time": "2019-05-05T08:54:56.269388Z",
     "start_time": "2019-05-05T08:54:46.706Z"
    }
   },
   "outputs": [],
   "source": [
    "# Move to next list search. Ex: a\n",
    "pagination = browser.find_element_by_css_selector('div.pagination a:first-of-type')\n",
    "pagination.click()"
   ]
  },
  {
   "cell_type": "code",
   "execution_count": null,
   "metadata": {
    "ExecuteTime": {
     "end_time": "2019-05-05T08:54:56.270387Z",
     "start_time": "2019-05-05T08:54:46.708Z"
    }
   },
   "outputs": [],
   "source": [
    "column_names = ['id', 'color', 'style','test']\n",
    "column_values = [1, 'red', 'bold','']\n",
    "name_to_value_dict = dict(zip(column_names, column_values))\n",
    "name_to_value_dict"
   ]
  },
  {
   "cell_type": "code",
   "execution_count": null,
   "metadata": {},
   "outputs": [],
   "source": []
  }
 ],
 "metadata": {
  "kernelspec": {
   "display_name": "Python 3",
   "language": "python",
   "name": "python3"
  },
  "language_info": {
   "codemirror_mode": {
    "name": "ipython",
    "version": 3
   },
   "file_extension": ".py",
   "mimetype": "text/x-python",
   "name": "python",
   "nbconvert_exporter": "python",
   "pygments_lexer": "ipython3",
   "version": "3.6.5"
  },
  "toc": {
   "base_numbering": 1,
   "nav_menu": {},
   "number_sections": true,
   "sideBar": true,
   "skip_h1_title": false,
   "title_cell": "Table of Contents",
   "title_sidebar": "Contents",
   "toc_cell": false,
   "toc_position": {},
   "toc_section_display": true,
   "toc_window_display": false
  }
 },
 "nbformat": 4,
 "nbformat_minor": 2
}
