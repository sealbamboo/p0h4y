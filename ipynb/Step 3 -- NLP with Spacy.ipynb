{
 "cells": [
  {
   "cell_type": "code",
   "execution_count": 15,
   "metadata": {
    "ExecuteTime": {
     "end_time": "2019-05-16T23:39:06.079802Z",
     "start_time": "2019-05-16T23:39:05.699724Z"
    }
   },
   "outputs": [],
   "source": [
    "import spacy\n",
    "from spacy import displacy\n",
    "from spacy.attrs import ORTH, LEMMA, NORM, TAG\n",
    "\n",
    "nlp = spacy.load('en_core_web_sm')"
   ]
  },
  {
   "cell_type": "code",
   "execution_count": 11,
   "metadata": {
    "ExecuteTime": {
     "end_time": "2019-05-16T23:06:32.541753Z",
     "start_time": "2019-05-16T23:06:32.509872Z"
    }
   },
   "outputs": [
    {
     "name": "stdout",
     "output_type": "stream",
     "text": [
      "I'am - PROPN - nsubj\n",
      "gon - VERB - ROOT\n",
      "na - PART - aux\n",
      "say - VERB - xcomp\n",
      "hello - INTJ - intj\n",
      "world - NOUN - dobj\n",
      "to - ADP - dative\n",
      "everyone - NOUN - pobj\n",
      "! - PUNCT - punct\n"
     ]
    }
   ],
   "source": [
    "doc = nlp(\"I'am gonna say hello world to everyone!\")\n",
    "\n",
    "for token in doc:\n",
    "    print(\"{} - {} - {}\".format(token.text, token.pos_, token.dep_))"
   ]
  },
  {
   "cell_type": "code",
   "execution_count": 19,
   "metadata": {
    "ExecuteTime": {
     "end_time": "2019-05-16T23:40:52.270771Z",
     "start_time": "2019-05-16T23:40:52.262702Z"
    }
   },
   "outputs": [
    {
     "data": {
      "text/plain": [
       "\"I'am\""
      ]
     },
     "execution_count": 19,
     "metadata": {},
     "output_type": "execute_result"
    }
   ],
   "source": [
    "doc[0].lemma_"
   ]
  },
  {
   "cell_type": "code",
   "execution_count": 16,
   "metadata": {
    "ExecuteTime": {
     "end_time": "2019-05-16T23:39:08.372629Z",
     "start_time": "2019-05-16T23:39:08.295091Z"
    }
   },
   "outputs": [
    {
     "name": "stdout",
     "output_type": "stream",
     "text": [
      "Oh oh INTJ\n",
      "no no INTJ\n",
      "he -PRON- PRON\n",
      "did do VERB\n",
      "n't not ADV\n",
      ". . PUNCT\n",
      "I -PRON- PRON\n",
      "ca can AUX\n",
      "n't not ADV\n",
      "and and CCONJ\n",
      "I -PRON- PRON\n",
      "wo will AUX\n",
      "n't not ADV\n",
      ". . PUNCT\n",
      "I -PRON- PRON\n",
      "'ll will AUX\n",
      "know know VERB\n",
      "what what PRON\n",
      "I -PRON- PRON\n",
      "'m be VERB\n",
      "gon go VERB\n",
      "na to PART\n",
      "do do VERB\n",
      ". . PUNCT\n"
     ]
    }
   ],
   "source": [
    "TOKENIZER_EXCEPTIONS = {\n",
    "# do\n",
    "    \"don't\": [\n",
    "        {ORTH: \"do\", LEMMA: \"do\"},\n",
    "        {ORTH: \"n't\", LEMMA: \"not\", NORM: \"not\", TAG: \"RB\"}],\n",
    "    \"doesn't\": [\n",
    "        {ORTH: \"does\", LEMMA: \"do\"},\n",
    "        {ORTH: \"n't\", LEMMA: \"not\", NORM: \"not\", TAG: \"RB\"}],\n",
    "    \"didn't\": [\n",
    "        {ORTH: \"did\", LEMMA: \"do\"},\n",
    "        {ORTH: \"n't\", LEMMA: \"not\", NORM: \"not\", TAG: \"RB\"}],\n",
    "# can\n",
    "    \"can't\": [\n",
    "        {ORTH: \"ca\", LEMMA: \"can\"},\n",
    "        {ORTH: \"n't\", LEMMA: \"not\", NORM: \"not\", TAG: \"RB\"}],\n",
    "    \"couldn't\": [\n",
    "        {ORTH: \"could\", LEMMA: \"can\"},\n",
    "        {ORTH: \"n't\", LEMMA: \"not\", NORM: \"not\", TAG: \"RB\"}],\n",
    "# have\n",
    "    \"I've'\": [\n",
    "        {ORTH: \"I\", LEMMA: \"I\"},\n",
    "        {ORTH: \"'ve'\", LEMMA: \"have\", NORM: \"have\", TAG: \"VERB\"}],\n",
    "    \"haven't\": [\n",
    "        {ORTH: \"have\", LEMMA: \"have\"},\n",
    "        {ORTH: \"n't\", LEMMA: \"not\", NORM: \"not\", TAG: \"RB\"}],\n",
    "    \"hasn't\": [\n",
    "        {ORTH: \"has\", LEMMA: \"have\"},\n",
    "        {ORTH: \"n't\", LEMMA: \"not\", NORM: \"not\", TAG: \"RB\"}],\n",
    "    \"hadn't\": [\n",
    "        {ORTH: \"had\", LEMMA: \"have\"},\n",
    "        {ORTH: \"n't\", LEMMA: \"not\", NORM: \"not\", TAG: \"RB\"}],\n",
    "# will/shall will be replaced by will\n",
    "    \"I'll'\": [\n",
    "        {ORTH: \"I\", LEMMA: \"I\"},\n",
    "        {ORTH: \"'ll'\", LEMMA: \"will\", NORM: \"will\", TAG: \"VERB\"}],\n",
    "    \"he'll'\": [\n",
    "        {ORTH: \"he\", LEMMA: \"he\"},\n",
    "        {ORTH: \"'ll'\", LEMMA: \"will\", NORM: \"will\", TAG: \"VERB\"}],\n",
    "    \"she'll'\": [\n",
    "        {ORTH: \"she\", LEMMA: \"she\"},\n",
    "        {ORTH: \"'ll'\", LEMMA: \"will\", NORM: \"will\", TAG: \"VERB\"}],\n",
    "    \"it'll'\": [\n",
    "        {ORTH: \"it\", LEMMA: \"it\"},\n",
    "        {ORTH: \"'ll'\", LEMMA: \"will\", NORM: \"will\", TAG: \"VERB\"}],\n",
    "    \"won't\": [\n",
    "        {ORTH: \"wo\", LEMMA: \"will\"},\n",
    "        {ORTH: \"n't\", LEMMA: \"not\", NORM: \"not\", TAG: \"RB\"}],\n",
    "    \"wouldn't\": [\n",
    "        {ORTH: \"would\", LEMMA: \"will\"},\n",
    "        {ORTH: \"n't\", LEMMA: \"not\", NORM: \"not\", TAG: \"RB\"}],\n",
    "# be\n",
    "    \"I'm'\": [\n",
    "        {ORTH: \"I\", LEMMA: \"I\"},\n",
    "        {ORTH: \"'m'\", LEMMA: \"be\", NORM: \"am\", TAG: \"VERB\"}]\n",
    "}\n",
    "\n",
    "#testing all contractions using spaCy's update tokenizer\n",
    "doc1 = nlp(u\"Oh no he didn't. I can't and I won't. I'll know what I'm gonna do.\")\n",
    "for token in doc1:\n",
    "    print(token.text, token.lemma_, token.pos_)"
   ]
  },
  {
   "cell_type": "code",
   "execution_count": 13,
   "metadata": {
    "ExecuteTime": {
     "end_time": "2019-05-16T23:38:38.445443Z",
     "start_time": "2019-05-16T23:35:33.887317Z"
    }
   },
   "outputs": [
    {
     "name": "stderr",
     "output_type": "stream",
     "text": [
      "/home/shayne/Anaconda3/envs/caps_env/lib/python3.6/runpy.py:193: UserWarning: [W011] It looks like you're calling displacy.serve from within a Jupyter notebook or a similar environment. This likely means you're already running a local web server, so there's no need to make displaCy start another one. Instead, you should be able to replace displacy.serve with displacy.render to show the visualization.\n",
      "  \"__main__\", mod_spec)\n"
     ]
    },
    {
     "data": {
      "text/html": [
       "<!DOCTYPE html>\n",
       "<html lang=\"en\">\n",
       "    <head>\n",
       "        <title>displaCy</title>\n",
       "    </head>\n",
       "\n",
       "    <body style=\"font-size: 16px; font-family: -apple-system, BlinkMacSystemFont, 'Segoe UI', Helvetica, Arial, sans-serif, 'Apple Color Emoji', 'Segoe UI Emoji', 'Segoe UI Symbol'; padding: 4rem 2rem; direction: ltr\">\n",
       "<figure style=\"margin-bottom: 6rem\">\n",
       "<svg xmlns=\"http://www.w3.org/2000/svg\" xmlns:xlink=\"http://www.w3.org/1999/xlink\" xml:lang=\"en\" id=\"5c6830eb1fad4c01a3db19a00abba403-0\" class=\"displacy\" width=\"1450\" height=\"399.5\" direction=\"ltr\" style=\"max-width: none; height: 399.5px; color: #000000; background: #ffffff; font-family: Arial; direction: ltr\">\n",
       "<text class=\"displacy-token\" fill=\"currentColor\" text-anchor=\"middle\" y=\"309.5\">\n",
       "    <tspan class=\"displacy-word\" fill=\"currentColor\" x=\"50\">I'am</tspan>\n",
       "    <tspan class=\"displacy-tag\" dy=\"2em\" fill=\"currentColor\" x=\"50\">PROPN</tspan>\n",
       "</text>\n",
       "\n",
       "<text class=\"displacy-token\" fill=\"currentColor\" text-anchor=\"middle\" y=\"309.5\">\n",
       "    <tspan class=\"displacy-word\" fill=\"currentColor\" x=\"225\">gon</tspan>\n",
       "    <tspan class=\"displacy-tag\" dy=\"2em\" fill=\"currentColor\" x=\"225\">VERB</tspan>\n",
       "</text>\n",
       "\n",
       "<text class=\"displacy-token\" fill=\"currentColor\" text-anchor=\"middle\" y=\"309.5\">\n",
       "    <tspan class=\"displacy-word\" fill=\"currentColor\" x=\"400\">na</tspan>\n",
       "    <tspan class=\"displacy-tag\" dy=\"2em\" fill=\"currentColor\" x=\"400\">PART</tspan>\n",
       "</text>\n",
       "\n",
       "<text class=\"displacy-token\" fill=\"currentColor\" text-anchor=\"middle\" y=\"309.5\">\n",
       "    <tspan class=\"displacy-word\" fill=\"currentColor\" x=\"575\">say</tspan>\n",
       "    <tspan class=\"displacy-tag\" dy=\"2em\" fill=\"currentColor\" x=\"575\">VERB</tspan>\n",
       "</text>\n",
       "\n",
       "<text class=\"displacy-token\" fill=\"currentColor\" text-anchor=\"middle\" y=\"309.5\">\n",
       "    <tspan class=\"displacy-word\" fill=\"currentColor\" x=\"750\">hello</tspan>\n",
       "    <tspan class=\"displacy-tag\" dy=\"2em\" fill=\"currentColor\" x=\"750\">INTJ</tspan>\n",
       "</text>\n",
       "\n",
       "<text class=\"displacy-token\" fill=\"currentColor\" text-anchor=\"middle\" y=\"309.5\">\n",
       "    <tspan class=\"displacy-word\" fill=\"currentColor\" x=\"925\">world</tspan>\n",
       "    <tspan class=\"displacy-tag\" dy=\"2em\" fill=\"currentColor\" x=\"925\">NOUN</tspan>\n",
       "</text>\n",
       "\n",
       "<text class=\"displacy-token\" fill=\"currentColor\" text-anchor=\"middle\" y=\"309.5\">\n",
       "    <tspan class=\"displacy-word\" fill=\"currentColor\" x=\"1100\">to</tspan>\n",
       "    <tspan class=\"displacy-tag\" dy=\"2em\" fill=\"currentColor\" x=\"1100\">ADP</tspan>\n",
       "</text>\n",
       "\n",
       "<text class=\"displacy-token\" fill=\"currentColor\" text-anchor=\"middle\" y=\"309.5\">\n",
       "    <tspan class=\"displacy-word\" fill=\"currentColor\" x=\"1275\">everyone!</tspan>\n",
       "    <tspan class=\"displacy-tag\" dy=\"2em\" fill=\"currentColor\" x=\"1275\">NOUN</tspan>\n",
       "</text>\n",
       "\n",
       "<g class=\"displacy-arrow\">\n",
       "    <path class=\"displacy-arc\" id=\"arrow-5c6830eb1fad4c01a3db19a00abba403-0-0\" stroke-width=\"2px\" d=\"M70,264.5 C70,177.0 215.0,177.0 215.0,264.5\" fill=\"none\" stroke=\"currentColor\"/>\n",
       "    <text dy=\"1.25em\" style=\"font-size: 0.8em; letter-spacing: 1px\">\n",
       "        <textPath xlink:href=\"#arrow-5c6830eb1fad4c01a3db19a00abba403-0-0\" class=\"displacy-label\" startOffset=\"50%\" side=\"left\" fill=\"currentColor\" text-anchor=\"middle\">nsubj</textPath>\n",
       "    </text>\n",
       "    <path class=\"displacy-arrowhead\" d=\"M70,266.5 L62,254.5 78,254.5\" fill=\"currentColor\"/>\n",
       "</g>\n",
       "\n",
       "<g class=\"displacy-arrow\">\n",
       "    <path class=\"displacy-arc\" id=\"arrow-5c6830eb1fad4c01a3db19a00abba403-0-1\" stroke-width=\"2px\" d=\"M420,264.5 C420,177.0 565.0,177.0 565.0,264.5\" fill=\"none\" stroke=\"currentColor\"/>\n",
       "    <text dy=\"1.25em\" style=\"font-size: 0.8em; letter-spacing: 1px\">\n",
       "        <textPath xlink:href=\"#arrow-5c6830eb1fad4c01a3db19a00abba403-0-1\" class=\"displacy-label\" startOffset=\"50%\" side=\"left\" fill=\"currentColor\" text-anchor=\"middle\">aux</textPath>\n",
       "    </text>\n",
       "    <path class=\"displacy-arrowhead\" d=\"M420,266.5 L412,254.5 428,254.5\" fill=\"currentColor\"/>\n",
       "</g>\n",
       "\n",
       "<g class=\"displacy-arrow\">\n",
       "    <path class=\"displacy-arc\" id=\"arrow-5c6830eb1fad4c01a3db19a00abba403-0-2\" stroke-width=\"2px\" d=\"M245,264.5 C245,89.5 570.0,89.5 570.0,264.5\" fill=\"none\" stroke=\"currentColor\"/>\n",
       "    <text dy=\"1.25em\" style=\"font-size: 0.8em; letter-spacing: 1px\">\n",
       "        <textPath xlink:href=\"#arrow-5c6830eb1fad4c01a3db19a00abba403-0-2\" class=\"displacy-label\" startOffset=\"50%\" side=\"left\" fill=\"currentColor\" text-anchor=\"middle\">xcomp</textPath>\n",
       "    </text>\n",
       "    <path class=\"displacy-arrowhead\" d=\"M570.0,266.5 L578.0,254.5 562.0,254.5\" fill=\"currentColor\"/>\n",
       "</g>\n",
       "\n",
       "<g class=\"displacy-arrow\">\n",
       "    <path class=\"displacy-arc\" id=\"arrow-5c6830eb1fad4c01a3db19a00abba403-0-3\" stroke-width=\"2px\" d=\"M595,264.5 C595,177.0 740.0,177.0 740.0,264.5\" fill=\"none\" stroke=\"currentColor\"/>\n",
       "    <text dy=\"1.25em\" style=\"font-size: 0.8em; letter-spacing: 1px\">\n",
       "        <textPath xlink:href=\"#arrow-5c6830eb1fad4c01a3db19a00abba403-0-3\" class=\"displacy-label\" startOffset=\"50%\" side=\"left\" fill=\"currentColor\" text-anchor=\"middle\">intj</textPath>\n",
       "    </text>\n",
       "    <path class=\"displacy-arrowhead\" d=\"M740.0,266.5 L748.0,254.5 732.0,254.5\" fill=\"currentColor\"/>\n",
       "</g>\n",
       "\n",
       "<g class=\"displacy-arrow\">\n",
       "    <path class=\"displacy-arc\" id=\"arrow-5c6830eb1fad4c01a3db19a00abba403-0-4\" stroke-width=\"2px\" d=\"M595,264.5 C595,89.5 920.0,89.5 920.0,264.5\" fill=\"none\" stroke=\"currentColor\"/>\n",
       "    <text dy=\"1.25em\" style=\"font-size: 0.8em; letter-spacing: 1px\">\n",
       "        <textPath xlink:href=\"#arrow-5c6830eb1fad4c01a3db19a00abba403-0-4\" class=\"displacy-label\" startOffset=\"50%\" side=\"left\" fill=\"currentColor\" text-anchor=\"middle\">dobj</textPath>\n",
       "    </text>\n",
       "    <path class=\"displacy-arrowhead\" d=\"M920.0,266.5 L928.0,254.5 912.0,254.5\" fill=\"currentColor\"/>\n",
       "</g>\n",
       "\n",
       "<g class=\"displacy-arrow\">\n",
       "    <path class=\"displacy-arc\" id=\"arrow-5c6830eb1fad4c01a3db19a00abba403-0-5\" stroke-width=\"2px\" d=\"M595,264.5 C595,2.0 1100.0,2.0 1100.0,264.5\" fill=\"none\" stroke=\"currentColor\"/>\n",
       "    <text dy=\"1.25em\" style=\"font-size: 0.8em; letter-spacing: 1px\">\n",
       "        <textPath xlink:href=\"#arrow-5c6830eb1fad4c01a3db19a00abba403-0-5\" class=\"displacy-label\" startOffset=\"50%\" side=\"left\" fill=\"currentColor\" text-anchor=\"middle\">dative</textPath>\n",
       "    </text>\n",
       "    <path class=\"displacy-arrowhead\" d=\"M1100.0,266.5 L1108.0,254.5 1092.0,254.5\" fill=\"currentColor\"/>\n",
       "</g>\n",
       "\n",
       "<g class=\"displacy-arrow\">\n",
       "    <path class=\"displacy-arc\" id=\"arrow-5c6830eb1fad4c01a3db19a00abba403-0-6\" stroke-width=\"2px\" d=\"M1120,264.5 C1120,177.0 1265.0,177.0 1265.0,264.5\" fill=\"none\" stroke=\"currentColor\"/>\n",
       "    <text dy=\"1.25em\" style=\"font-size: 0.8em; letter-spacing: 1px\">\n",
       "        <textPath xlink:href=\"#arrow-5c6830eb1fad4c01a3db19a00abba403-0-6\" class=\"displacy-label\" startOffset=\"50%\" side=\"left\" fill=\"currentColor\" text-anchor=\"middle\">pobj</textPath>\n",
       "    </text>\n",
       "    <path class=\"displacy-arrowhead\" d=\"M1265.0,266.5 L1273.0,254.5 1257.0,254.5\" fill=\"currentColor\"/>\n",
       "</g>\n",
       "</svg>\n",
       "</figure>\n",
       "</body>\n",
       "</html>"
      ],
      "text/plain": [
       "<IPython.core.display.HTML object>"
      ]
     },
     "metadata": {},
     "output_type": "display_data"
    },
    {
     "name": "stdout",
     "output_type": "stream",
     "text": [
      "\n",
      "Using the 'dep' visualizer\n",
      "Serving on http://0.0.0.0:5000 ...\n",
      "\n"
     ]
    },
    {
     "name": "stderr",
     "output_type": "stream",
     "text": [
      "127.0.0.1 - - [17/May/2019 09:35:49] \"GET / HTTP/1.1\" 200 6738\n",
      "127.0.0.1 - - [17/May/2019 09:35:50] \"GET /favicon.ico HTTP/1.1\" 200 6738\n"
     ]
    },
    {
     "name": "stdout",
     "output_type": "stream",
     "text": [
      "Shutting down server on port 5000.\n"
     ]
    }
   ],
   "source": [
    "displacy.serve(doc,style='dep')"
   ]
  },
  {
   "cell_type": "code",
   "execution_count": null,
   "metadata": {},
   "outputs": [],
   "source": []
  }
 ],
 "metadata": {
  "kernelspec": {
   "display_name": "Python 3",
   "language": "python",
   "name": "python3"
  },
  "language_info": {
   "codemirror_mode": {
    "name": "ipython",
    "version": 3
   },
   "file_extension": ".py",
   "mimetype": "text/x-python",
   "name": "python",
   "nbconvert_exporter": "python",
   "pygments_lexer": "ipython3",
   "version": "3.6.5"
  },
  "toc": {
   "base_numbering": 1,
   "nav_menu": {},
   "number_sections": true,
   "sideBar": true,
   "skip_h1_title": false,
   "title_cell": "Table of Contents",
   "title_sidebar": "Contents",
   "toc_cell": false,
   "toc_position": {},
   "toc_section_display": true,
   "toc_window_display": false
  }
 },
 "nbformat": 4,
 "nbformat_minor": 2
}
