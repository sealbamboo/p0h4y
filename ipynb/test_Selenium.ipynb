{
 "cells": [
  {
   "cell_type": "code",
   "execution_count": 1,
   "metadata": {
    "ExecuteTime": {
     "end_time": "2019-05-04T09:58:59.924109Z",
     "start_time": "2019-05-04T09:58:57.667909Z"
    }
   },
   "outputs": [],
   "source": [
    "from selenium import webdriver\n",
    "from selenium.webdriver.common.keys import Keys\n",
    "\n",
    "browser = webdriver.Chrome('../../chromedriver')"
   ]
  },
  {
   "cell_type": "code",
   "execution_count": 2,
   "metadata": {
    "ExecuteTime": {
     "end_time": "2019-05-04T09:59:05.078036Z",
     "start_time": "2019-05-04T09:58:59.924109Z"
    }
   },
   "outputs": [],
   "source": [
    "browser.get('https://au.jora.com/job/Data-Science-Analytics-Engineer-8650e498e1f12552e632e8a714bf490f?from_url=https%3A%2F%2Fau.jora.com%2Fj%3Fbutton%3D%26l%3DAustralia%26q%3DData%2BScience%2Bor%2BData%2Banalytics%26sp%3Dsearch&sl=Australia&sol_srt=defaf30b-5c13-4d71-885e-dde175c026f8&sp=serp&sponsored=false&sq=Data+Science+or+Data+analytics&sr=1&tk=EzHRG_FfqvkgL0ebt2s9-jzVs9FLcZ7jpDw6RfKRa')"
   ]
  },
  {
   "cell_type": "code",
   "execution_count": 3,
   "metadata": {
    "ExecuteTime": {
     "end_time": "2019-05-04T09:59:05.083034Z",
     "start_time": "2019-05-04T09:59:05.079035Z"
    }
   },
   "outputs": [],
   "source": [
    "# \"Job_info\" is whole container.\n",
    "# job_info = browser.find_element_by_class_name('job_info')"
   ]
  },
  {
   "cell_type": "code",
   "execution_count": 4,
   "metadata": {
    "ExecuteTime": {
     "end_time": "2019-05-04T09:59:05.148995Z",
     "start_time": "2019-05-04T09:59:05.085033Z"
    }
   },
   "outputs": [
    {
     "name": "stdout",
     "output_type": "stream",
     "text": [
      "Data Science Analytics Engineer (Software Engineer)\n"
     ]
    }
   ],
   "source": [
    "# Title\n",
    "j_title = browser.find_element_by_css_selector('h1')\n",
    "print(j_title.text)"
   ]
  },
  {
   "cell_type": "code",
   "execution_count": 5,
   "metadata": {
    "ExecuteTime": {
     "end_time": "2019-05-04T09:59:05.192969Z",
     "start_time": "2019-05-04T09:59:05.150994Z"
    }
   },
   "outputs": [
    {
     "name": "stdout",
     "output_type": "stream",
     "text": [
      "Boeing\n"
     ]
    }
   ],
   "source": [
    "# Company\n",
    "job_company = browser.find_element_by_class_name('company')\n",
    "print(job_company.text)"
   ]
  },
  {
   "cell_type": "code",
   "execution_count": 6,
   "metadata": {
    "ExecuteTime": {
     "end_time": "2019-05-04T09:59:05.232948Z",
     "start_time": "2019-05-04T09:59:05.193969Z"
    }
   },
   "outputs": [
    {
     "name": "stdout",
     "output_type": "stream",
     "text": [
      "Brisbane QLD\n"
     ]
    }
   ],
   "source": [
    "# Location\n",
    "j_location = browser.find_element_by_class_name('location')\n",
    "print(j_location.text)"
   ]
  },
  {
   "cell_type": "code",
   "execution_count": 7,
   "metadata": {
    "ExecuteTime": {
     "end_time": "2019-05-04T09:59:05.254935Z",
     "start_time": "2019-05-04T09:59:05.234946Z"
    }
   },
   "outputs": [
    {
     "name": "stdout",
     "output_type": "stream",
     "text": [
      "\n"
     ]
    }
   ],
   "source": [
    "# Addition info\n",
    "try:\n",
    "    j_addition_info = browser.find_element_by_xpath('//*[@class=\"additional_info\"]/')\n",
    "except:\n",
    "    j_addition_info = ''\n",
    "print(j_addition_info)"
   ]
  },
  {
   "cell_type": "code",
   "execution_count": 8,
   "metadata": {
    "ExecuteTime": {
     "end_time": "2019-05-04T09:59:05.558761Z",
     "start_time": "2019-05-04T09:59:05.256934Z"
    }
   },
   "outputs": [
    {
     "name": "stdout",
     "output_type": "stream",
     "text": [
      "Location:\n",
      "Category:\n",
      "Position Type:\n",
      "Job Reference:\n",
      "Attachments:\n",
      "Share This:\n",
      "\n",
      "\n",
      "Brisbane\n",
      "Engineering / Technical\n",
      "Permanent\n",
      "BOE/1378384E\n"
     ]
    }
   ],
   "source": [
    "# Summary as list\n",
    "# print(browser.find_elements_by_xpath('//div[@class=\"js_first_column\"]/p'))\n",
    "# \n",
    "# j_summary_k = browser.find_elements_by_xpath('//div[@class=\"js_first_column\"]/p')\n",
    "\n",
    "\n",
    "j_summary_k = browser.find_elements_by_css_selector('div.js_first_column p')\n",
    "for e in j_summary_k:\n",
    "    text= e.text\n",
    "    print(text)\n",
    "print(\"\\n\")\n",
    "j_summary_v = browser.find_elements_by_xpath('//div[@class=\"js_first_column\"]/following-sibling::div/p')\n",
    "for e in j_summary_v:\n",
    "    text= e.text\n",
    "    print(text)"
   ]
  },
  {
   "cell_type": "code",
   "execution_count": 9,
   "metadata": {
    "ExecuteTime": {
     "end_time": "2019-05-04T09:59:05.677693Z",
     "start_time": "2019-05-04T09:59:05.560760Z"
    }
   },
   "outputs": [
    {
     "name": "stdout",
     "output_type": "stream",
     "text": [
      "Location:\n",
      "Brisbane\n",
      "Category:\n",
      "Engineering / Technical\n",
      "Position Type:\n",
      "Permanent\n",
      "Job Reference:\n",
      "BOE/1378384E\n",
      "Attachments:\n",
      "Share This:\n",
      "About us\n",
      "Boeing Defence Australia is shaping the future of aerospace and delivering some of the nation's most important programs for the Australian Defence Force.\n",
      "Joining us is a chance to make your mark, working with a diverse team that is united in pushing the boundaries of imagination and excellence.\n",
      "If you haven't considered a job with us, there has never been a better time to start.\n",
      "The opportunity\n",
      "The Phantom Works - International division of Boeing Defence, Space & Security is responsible for executing Project White Stare, a project exploring development of core systems architecture for the use of Unmanned Aircraft Systems to capture and analyse data to exploit information for commercial and defence markets. We are seeking a Data Science Analytics Engineer (Software Engineer) to perform highly skilled algorithm and software development.\n",
      "While this role is listed as part-time, a full-time position may be available for a suitable candidate.\n",
      "Responsibilities\n",
      "Use scientific processes and systems to extract knowledge or insights from data in various forms, either structured or unstructured\n",
      "Support data-driven decision-making from emerging systems that generate and consume very large amounts of sensing data, from autonomous vehicles to digital pathology\n",
      "Develop, document and review the software and user interface designs, and work effectively with third party vendors to integrate with existing functionality\n",
      "Experience/Qualifications\n",
      "Strong Object Oriented Design C++, and Python skills, working to software sprints using Agile, software requirements analysis and specification, functional analysis, software design and development, software integration, and test\n",
      "Experience developing scientific processes and systems to extract knowledge/insights from data (structured or unstructured) using data analysis techniques such as remote sensing, signal modelling, pattern recognition, etc.\n",
      "Ability to adapt quickly to change, formulate technical plans and decompose high level guidance into value add prototyping requirements and capabilities\n",
      "Experience in geo-data processing, GIS software, spatial data analysis and modelling, or a related discipline\n",
      "Developing documenting and reviewing the software and user interface designs and working effectively with third party vendors to integrate with existing functionality\n",
      "Tertiary qualifications in Software Engineering and/or Computer Science, or similar field\n",
      "Applicants must be Australian Citizens to meet defence security requirements. The Senior Software Engineer must hold, or have the ability to obtain, an Australian Defence Security clearance to Negative Vetting 1 (NV1) level.\n",
      "Culture\n",
      "We are committed to building a diverse and inclusive workplace. Female applicants, people of Aboriginal or Torres Strait Island descent and veterans are encouraged to apply.\n",
      "Benefits\n",
      "Flexible working options\n",
      "Study assistance\n",
      "Salary packaging\n",
      "Employee Incentive Program\n",
      "Global opportunities\n",
      "If you would like to see your career take off click Apply now.\n"
     ]
    }
   ],
   "source": [
    "# Summary container\n",
    "j_summary_container = browser.find_element_by_xpath('//div[@class=\"summary\"]').text\n",
    "print(j_summary_container)"
   ]
  },
  {
   "cell_type": "code",
   "execution_count": 10,
   "metadata": {
    "ExecuteTime": {
     "end_time": "2019-05-04T09:59:05.973524Z",
     "start_time": "2019-05-04T09:59:05.679692Z"
    }
   },
   "outputs": [
    {
     "name": "stdout",
     "output_type": "stream",
     "text": [
      "About us\n",
      "Boeing Defence Australia is shaping the future of aerospace and delivering some of the nation's most important programs for the Australian Defence Force.\n",
      "Joining us is a chance to make your mark, working with a diverse team that is united in pushing the boundaries of imagination and excellence.\n",
      "If you haven't considered a job with us, there has never been a better time to start.\n",
      "The opportunity\n",
      "The Phantom Works - International division of Boeing Defence, Space & Security is responsible for executing Project White Stare, a project exploring development of core systems architecture for the use of Unmanned Aircraft Systems to capture and analyse data to exploit information for commercial and defence markets. We are seeking a Data Science Analytics Engineer (Software Engineer) to perform highly skilled algorithm and software development.\n",
      "While this role is listed as part-time, a full-time position may be available for a suitable candidate.\n",
      "Responsibilities\n",
      "Experience/Qualifications\n",
      "Culture\n",
      "We are committed to building a diverse and inclusive workplace. Female applicants, people of Aboriginal or Torres Strait Island descent and veterans are encouraged to apply.\n",
      "Benefits\n",
      "If you would like to see your career take off click Apply now.\n"
     ]
    }
   ],
   "source": [
    "# P-TEXT: About us - The opportunity\n",
    "list_p_title = ['About us','The opportunity','Culture']\n",
    "j_about_p = browser.find_elements_by_css_selector('div.summary > div > div > p')\n",
    "for p in j_about_p:\n",
    "    print(p.text)"
   ]
  },
  {
   "cell_type": "code",
   "execution_count": 11,
   "metadata": {
    "ExecuteTime": {
     "end_time": "2019-05-04T09:59:06.044483Z",
     "start_time": "2019-05-04T09:59:05.974522Z"
    }
   },
   "outputs": [
    {
     "name": "stdout",
     "output_type": "stream",
     "text": [
      "Use scientific processes and systems to extract knowledge or insights from data in various forms, either structured or unstructured\n",
      "Support data-driven decision-making from emerging systems that generate and consume very large amounts of sensing data, from autonomous vehicles to digital pathology\n",
      "Develop, document and review the software and user interface designs, and work effectively with third party vendors to integrate with existing functionality\n",
      "Strong Object Oriented Design C++, and Python skills, working to software sprints using Agile, software requirements analysis and specification, functional analysis, software design and development, software integration, and test\n",
      "Experience developing scientific processes and systems to extract knowledge/insights from data (structured or unstructured) using data analysis techniques such as remote sensing, signal modelling, pattern recognition, etc.\n",
      "Ability to adapt quickly to change, formulate technical plans and decompose high level guidance into value add prototyping requirements and capabilities\n",
      "Experience in geo-data processing, GIS software, spatial data analysis and modelling, or a related discipline\n",
      "Developing documenting and reviewing the software and user interface designs and working effectively with third party vendors to integrate with existing functionality\n",
      "Tertiary qualifications in Software Engineering and/or Computer Science, or similar field\n",
      "Applicants must be Australian Citizens to meet defence security requirements. The Senior Software Engineer must hold, or have the ability to obtain, an Australian Defence Security clearance to Negative Vetting 1 (NV1) level.\n",
      "Flexible working options\n",
      "Study assistance\n",
      "Salary packaging\n",
      "Employee Incentive Program\n",
      "Global opportunities\n"
     ]
    }
   ],
   "source": [
    "# UL-LI: Responsibilities - Experience/Qualifications - Benefits \n",
    "list_ul_title = ['Responsibilities','Experience/Qualifications','Benefits']\n",
    "j_responsibilities = browser.find_elements_by_css_selector('div.summary ul')\n",
    "for res in j_responsibilities:\n",
    "    print(res.text)"
   ]
  },
  {
   "cell_type": "code",
   "execution_count": 12,
   "metadata": {
    "ExecuteTime": {
     "end_time": "2019-05-04T09:59:06.049480Z",
     "start_time": "2019-05-04T09:59:06.045482Z"
    }
   },
   "outputs": [],
   "source": [
    "# elem.click()\n",
    "# elem = brower.find_element_by_link_text(\"Projects\")\n",
    "# elem.click()"
   ]
  },
  {
   "cell_type": "code",
   "execution_count": 13,
   "metadata": {
    "ExecuteTime": {
     "end_time": "2019-05-04T09:59:08.160272Z",
     "start_time": "2019-05-04T09:59:06.051479Z"
    }
   },
   "outputs": [],
   "source": [
    "searchBar = browser.find_element_by_id(\"q\")\n",
    "searchBar.send_keys(\"Data Science or Data analytics\")\n",
    "searchBar.send_keys(Keys.ENTER)"
   ]
  },
  {
   "cell_type": "code",
   "execution_count": 14,
   "metadata": {
    "ExecuteTime": {
     "end_time": "2019-05-04T09:59:08.171266Z",
     "start_time": "2019-05-04T09:59:08.161272Z"
    }
   },
   "outputs": [
    {
     "data": {
      "text/plain": [
       "25"
      ]
     },
     "execution_count": 14,
     "metadata": {},
     "output_type": "execute_result"
    }
   ],
   "source": [
    "len('Experience/Qualifications')"
   ]
  },
  {
   "cell_type": "code",
   "execution_count": null,
   "metadata": {},
   "outputs": [],
   "source": []
  }
 ],
 "metadata": {
  "kernelspec": {
   "display_name": "Python 3",
   "language": "python",
   "name": "python3"
  },
  "language_info": {
   "codemirror_mode": {
    "name": "ipython",
    "version": 3
   },
   "file_extension": ".py",
   "mimetype": "text/x-python",
   "name": "python",
   "nbconvert_exporter": "python",
   "pygments_lexer": "ipython3",
   "version": "3.6.5"
  },
  "toc": {
   "base_numbering": 1,
   "nav_menu": {},
   "number_sections": true,
   "sideBar": true,
   "skip_h1_title": false,
   "title_cell": "Table of Contents",
   "title_sidebar": "Contents",
   "toc_cell": false,
   "toc_position": {},
   "toc_section_display": true,
   "toc_window_display": false
  }
 },
 "nbformat": 4,
 "nbformat_minor": 2
}
