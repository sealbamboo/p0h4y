{
 "cells": [
  {
   "cell_type": "code",
   "execution_count": 11,
   "metadata": {
    "ExecuteTime": {
     "end_time": "2019-05-01T23:15:56.693827Z",
     "start_time": "2019-05-01T23:15:56.686639Z"
    }
   },
   "outputs": [],
   "source": [
    "import pandas as pd\n",
    "import numpy as np\n",
    "\n",
    "from bs4 import BeautifulSoup\n",
    "from scrapy.selector import Selector\n",
    "\n",
    "import re, requests\n",
    "import lxml"
   ]
  },
  {
   "cell_type": "code",
   "execution_count": 12,
   "metadata": {
    "ExecuteTime": {
     "end_time": "2019-05-01T23:15:57.173534Z",
     "start_time": "2019-05-01T23:15:57.166818Z"
    }
   },
   "outputs": [],
   "source": [
    "regex_bbc = r\"(http(s?):\\/\\/(www)?[A-Za-z0-9\\/\\.]+)\"\n",
    "regex_cbc = r\"(http(s?):\\/\\/(www)?[A-Za-z0-9-?=\\s\\/\\.]+)\"\n",
    "xpath_bbc = ['//div[@class=\"story-body__inner\"]/p/text()',\n",
    "            '//ul/li[@class=\"tags-list__tags\"]/a/text()']\n",
    "\n",
    "# Regex \"&amp\"\n",
    "regex_decode = r\"(\\&amp)\""
   ]
  },
  {
   "cell_type": "code",
   "execution_count": 22,
   "metadata": {
    "ExecuteTime": {
     "end_time": "2019-05-01T23:27:27.720157Z",
     "start_time": "2019-05-01T23:27:27.648705Z"
    }
   },
   "outputs": [
    {
     "name": "stderr",
     "output_type": "stream",
     "text": [
      "b'Skipping line 846: expected 3 fields, saw 4\\nSkipping line 904: expected 3 fields, saw 4\\nSkipping line 914: expected 3 fields, saw 4\\nSkipping line 1264: expected 3 fields, saw 4\\nSkipping line 1269: expected 3 fields, saw 4\\nSkipping line 1293: expected 3 fields, saw 4\\nSkipping line 1348: expected 3 fields, saw 4\\nSkipping line 1430: expected 3 fields, saw 4\\nSkipping line 1486: expected 3 fields, saw 4\\nSkipping line 1710: expected 3 fields, saw 4\\nSkipping line 2699: expected 3 fields, saw 4\\nSkipping line 2728: expected 3 fields, saw 4\\nSkipping line 3000: expected 3 fields, saw 4\\n'\n"
     ]
    },
    {
     "ename": "ValueError",
     "evalue": "Length mismatch: Expected axis has 3 elements, new values have 4 elements",
     "output_type": "error",
     "traceback": [
      "\u001b[0;31m---------------------------------------------------------------------------\u001b[0m",
      "\u001b[0;31mValueError\u001b[0m                                Traceback (most recent call last)",
      "\u001b[0;32m<ipython-input-22-b61caa042b04>\u001b[0m in \u001b[0;36m<module>\u001b[0;34m\u001b[0m\n\u001b[1;32m      4\u001b[0m \u001b[0;34m\u001b[0m\u001b[0m\n\u001b[1;32m      5\u001b[0m \u001b[0mdf\u001b[0m \u001b[0;34m=\u001b[0m \u001b[0mpd\u001b[0m\u001b[0;34m.\u001b[0m\u001b[0mread_csv\u001b[0m\u001b[0;34m(\u001b[0m\u001b[0mfile_cbc\u001b[0m\u001b[0;34m,\u001b[0m \u001b[0msep\u001b[0m\u001b[0;34m=\u001b[0m\u001b[0;34m'|'\u001b[0m\u001b[0;34m,\u001b[0m \u001b[0mheader\u001b[0m\u001b[0;34m=\u001b[0m \u001b[0;32mNone\u001b[0m\u001b[0;34m,\u001b[0m\u001b[0merror_bad_lines\u001b[0m\u001b[0;34m=\u001b[0m\u001b[0;32mFalse\u001b[0m\u001b[0;34m)\u001b[0m\u001b[0;34m\u001b[0m\u001b[0;34m\u001b[0m\u001b[0m\n\u001b[0;32m----> 6\u001b[0;31m \u001b[0mdf\u001b[0m\u001b[0;34m.\u001b[0m\u001b[0mcolumns\u001b[0m \u001b[0;34m=\u001b[0m \u001b[0mcolumns_name\u001b[0m\u001b[0;34m\u001b[0m\u001b[0;34m\u001b[0m\u001b[0m\n\u001b[0m\u001b[1;32m      7\u001b[0m \u001b[0mdf\u001b[0m\u001b[0;34m.\u001b[0m\u001b[0mhead\u001b[0m\u001b[0;34m(\u001b[0m\u001b[0;34m)\u001b[0m\u001b[0;34m\u001b[0m\u001b[0;34m\u001b[0m\u001b[0m\n",
      "\u001b[0;32m~/anaconda3/lib/python3.7/site-packages/pandas/core/generic.py\u001b[0m in \u001b[0;36m__setattr__\u001b[0;34m(self, name, value)\u001b[0m\n\u001b[1;32m   4387\u001b[0m         \u001b[0;32mtry\u001b[0m\u001b[0;34m:\u001b[0m\u001b[0;34m\u001b[0m\u001b[0;34m\u001b[0m\u001b[0m\n\u001b[1;32m   4388\u001b[0m             \u001b[0mobject\u001b[0m\u001b[0;34m.\u001b[0m\u001b[0m__getattribute__\u001b[0m\u001b[0;34m(\u001b[0m\u001b[0mself\u001b[0m\u001b[0;34m,\u001b[0m \u001b[0mname\u001b[0m\u001b[0;34m)\u001b[0m\u001b[0;34m\u001b[0m\u001b[0;34m\u001b[0m\u001b[0m\n\u001b[0;32m-> 4389\u001b[0;31m             \u001b[0;32mreturn\u001b[0m \u001b[0mobject\u001b[0m\u001b[0;34m.\u001b[0m\u001b[0m__setattr__\u001b[0m\u001b[0;34m(\u001b[0m\u001b[0mself\u001b[0m\u001b[0;34m,\u001b[0m \u001b[0mname\u001b[0m\u001b[0;34m,\u001b[0m \u001b[0mvalue\u001b[0m\u001b[0;34m)\u001b[0m\u001b[0;34m\u001b[0m\u001b[0;34m\u001b[0m\u001b[0m\n\u001b[0m\u001b[1;32m   4390\u001b[0m         \u001b[0;32mexcept\u001b[0m \u001b[0mAttributeError\u001b[0m\u001b[0;34m:\u001b[0m\u001b[0;34m\u001b[0m\u001b[0;34m\u001b[0m\u001b[0m\n\u001b[1;32m   4391\u001b[0m             \u001b[0;32mpass\u001b[0m\u001b[0;34m\u001b[0m\u001b[0;34m\u001b[0m\u001b[0m\n",
      "\u001b[0;32mpandas/_libs/properties.pyx\u001b[0m in \u001b[0;36mpandas._libs.properties.AxisProperty.__set__\u001b[0;34m()\u001b[0m\n",
      "\u001b[0;32m~/anaconda3/lib/python3.7/site-packages/pandas/core/generic.py\u001b[0m in \u001b[0;36m_set_axis\u001b[0;34m(self, axis, labels)\u001b[0m\n\u001b[1;32m    644\u001b[0m \u001b[0;34m\u001b[0m\u001b[0m\n\u001b[1;32m    645\u001b[0m     \u001b[0;32mdef\u001b[0m \u001b[0m_set_axis\u001b[0m\u001b[0;34m(\u001b[0m\u001b[0mself\u001b[0m\u001b[0;34m,\u001b[0m \u001b[0maxis\u001b[0m\u001b[0;34m,\u001b[0m \u001b[0mlabels\u001b[0m\u001b[0;34m)\u001b[0m\u001b[0;34m:\u001b[0m\u001b[0;34m\u001b[0m\u001b[0;34m\u001b[0m\u001b[0m\n\u001b[0;32m--> 646\u001b[0;31m         \u001b[0mself\u001b[0m\u001b[0;34m.\u001b[0m\u001b[0m_data\u001b[0m\u001b[0;34m.\u001b[0m\u001b[0mset_axis\u001b[0m\u001b[0;34m(\u001b[0m\u001b[0maxis\u001b[0m\u001b[0;34m,\u001b[0m \u001b[0mlabels\u001b[0m\u001b[0;34m)\u001b[0m\u001b[0;34m\u001b[0m\u001b[0;34m\u001b[0m\u001b[0m\n\u001b[0m\u001b[1;32m    647\u001b[0m         \u001b[0mself\u001b[0m\u001b[0;34m.\u001b[0m\u001b[0m_clear_item_cache\u001b[0m\u001b[0;34m(\u001b[0m\u001b[0;34m)\u001b[0m\u001b[0;34m\u001b[0m\u001b[0;34m\u001b[0m\u001b[0m\n\u001b[1;32m    648\u001b[0m \u001b[0;34m\u001b[0m\u001b[0m\n",
      "\u001b[0;32m~/anaconda3/lib/python3.7/site-packages/pandas/core/internals.py\u001b[0m in \u001b[0;36mset_axis\u001b[0;34m(self, axis, new_labels)\u001b[0m\n\u001b[1;32m   3321\u001b[0m             raise ValueError(\n\u001b[1;32m   3322\u001b[0m                 \u001b[0;34m'Length mismatch: Expected axis has {old} elements, new '\u001b[0m\u001b[0;34m\u001b[0m\u001b[0;34m\u001b[0m\u001b[0m\n\u001b[0;32m-> 3323\u001b[0;31m                 'values have {new} elements'.format(old=old_len, new=new_len))\n\u001b[0m\u001b[1;32m   3324\u001b[0m \u001b[0;34m\u001b[0m\u001b[0m\n\u001b[1;32m   3325\u001b[0m         \u001b[0mself\u001b[0m\u001b[0;34m.\u001b[0m\u001b[0maxes\u001b[0m\u001b[0;34m[\u001b[0m\u001b[0maxis\u001b[0m\u001b[0;34m]\u001b[0m \u001b[0;34m=\u001b[0m \u001b[0mnew_labels\u001b[0m\u001b[0;34m\u001b[0m\u001b[0;34m\u001b[0m\u001b[0m\n",
      "\u001b[0;31mValueError\u001b[0m: Length mismatch: Expected axis has 3 elements, new values have 4 elements"
     ]
    }
   ],
   "source": [
    "file_bbc = './datasets/bbchealth.txt'\n",
    "file_cbc = './datasets/cbchealth.txt'\n",
    "columns_name = ['tweetid','date','title','backup']\n",
    "\n",
    "df = pd.read_csv(file_cbc, sep='|', header= None,error_bad_lines=False)\n",
    "df.columns = columns_name\n",
    "df.head()"
   ]
  },
  {
   "cell_type": "code",
   "execution_count": 23,
   "metadata": {
    "ExecuteTime": {
     "end_time": "2019-05-02T03:06:13.649894Z",
     "start_time": "2019-05-02T03:06:13.415251Z"
    }
   },
   "outputs": [],
   "source": [
    "# Split Url out of content\n",
    "def get_url(regex, sample):\n",
    "    result = re.search(regex, sample)[0]\n",
    "    \n",
    "    return result\n",
    "\n",
    "# Split text out of content\n",
    "def split_txt_form_url(regex, sample):\n",
    "    url = get_url(regex, sample)\n",
    "    result = sample.strip(url)\n",
    "    \n",
    "    return result\n",
    "\n",
    "# Scrapt content base on xpath command.\n",
    "def scrapt_w_xpath(xpath_cmd):\n",
    "    result = dict()\n",
    "    \n",
    "    # Content\n",
    "    contents = xpath_selector.xpath(xpath_cmd[0]).extract()\n",
    "    result.update({'Contents': contents})\n",
    "    \n",
    "    # Tags\n",
    "    tags = xpath_selector.xpath(xpath_cmd[1]).extract()\n",
    "    result.update({'Tags': tags})\n",
    "    \n",
    "    return result"
   ]
  },
  {
   "cell_type": "code",
   "execution_count": 35,
   "metadata": {
    "ExecuteTime": {
     "end_time": "2019-05-02T03:13:24.171323Z",
     "start_time": "2019-05-02T03:13:24.153397Z"
    },
    "code_folding": []
   },
   "outputs": [],
   "source": [
    "title_attempt = True\n",
    "\n",
    "def fetch_contents(target_url, target_df, list_xpath):\n",
    "    for key, url in enumerate(target_url):\n",
    "\n",
    "        # Start the connection\n",
    "        res = requests.get(url)\n",
    "\n",
    "        # Initialize XPath\n",
    "        xpath_selector = Selector(text=res.text)\n",
    "\n",
    "        # Get return content as text\n",
    "        text_html = res.text\n",
    "\n",
    "        # Check return header\n",
    "        if res.status_code == 200:\n",
    "            print(\"Header:  \", 200)\n",
    "    #         soup = BeautifulSoup(res.content, 'lxml')\n",
    "            xpath_selector = Selector(text=text_html)\n",
    "\n",
    "            # Scrapt content with XPath\n",
    "            list_scrapt = scrapt_w_xpath(xpath_bbc)\n",
    "\n",
    "            count_xp_scrapt = len(list_scrapt)\n",
    "\n",
    "\n",
    "            if count_xp_scrapt:\n",
    "\n",
    "                # Add new columns\n",
    "                if title_attempt:\n",
    "                    df_temp = pd.DataFrame(columns = list(list_scrapt.keys()))\n",
    "                    target_df = pd.concat([bbc, df_temp])\n",
    "                    print(target_df.columns)\n",
    "                    title_attempt = False\n",
    "\n",
    "                # Add to dataFrame\n",
    "                for k_, v_ in list_scrapt.items():\n",
    "                    target_df[k_].iloc[key] = v_\n",
    "\n",
    "            else:\n",
    "                print(\"Return list is emptied ! ({})\".format(url))\n",
    "        else:\n",
    "            print(\"['ERRORS'] {} , at {}\".format(res.status_code, url))"
   ]
  },
  {
   "cell_type": "code",
   "execution_count": 39,
   "metadata": {
    "ExecuteTime": {
     "end_time": "2019-05-02T03:25:38.402005Z",
     "start_time": "2019-05-02T03:25:38.390814Z"
    },
    "scrolled": false
   },
   "outputs": [],
   "source": [
    "cbc = pd.DataFrame()\n",
    "# cbc content\n",
    "## //p/text()\n",
    "## //div[@class='detailSummary']/text() --> Detail Summary\n",
    "\n",
    "## //h2[@class='deck']/text() --> h2-sub-title\n",
    "## //div[@class='story']/span --> Content\n",
    "## //div[@class='source']/p/text() --> Author\n",
    "## //div[@class=\"bylineDetails\"]/span[@class=\"authorText\"] --> Author\n",
    "\n",
    "\n",
    "# list_xpath = ['//div[@class=\"story\"]/span',\n",
    "#             '//div[@class=\"source\"]/p/text()']\n",
    "\n",
    "# test_url = ['http://www.cbc.ca/news/canada/hamilton/news/hamilton-police-send-mental-health-pros-to-the-front-lines-with-cops-1.3024000?cmp=rss']\n",
    "\n",
    "# fetch_contents(test_url,cbc, list_xpath)"
   ]
  },
  {
   "cell_type": "code",
   "execution_count": 53,
   "metadata": {
    "ExecuteTime": {
     "end_time": "2019-05-02T03:43:58.079350Z",
     "start_time": "2019-05-02T03:43:51.401184Z"
    },
    "scrolled": false
   },
   "outputs": [
    {
     "name": "stdout",
     "output_type": "stream",
     "text": [
      "['Kelly Bennett']\n",
      "Beginning Sunday, whenever a 9-1-1 call might involve a mental health situation, Hamilton police will be able to send a special cruiser with more than just an officer inside. Alongside the officer responding to that call will be a mental health worker., And they will tackle that call as a team., The service's innovative Mobile Crisis Rapid Response Team program, which sends mental health professionals from St. Joseph's Healthcare Hamilton out on 9-1-1 calls with Hamilton police officers expands to seven days a week starting Sunday., Based on a successful 15-month pilot project, the program aims to provide new means of support to community members in mental distress, as well as to cut down on emergency room time for both the people exhibiting mental illness symptoms and the uniformed cops., The idea, in part, is that with a mental health worker in the car along with the cop, situations can be approached from multiple, not just law enforcement, perspectives., \"We do it together,\" said Sarah Burtenshaw, a mental health worker involved in the program and police training. \"Some people respond better to the mental health worker, and sometimes to the officer. We'll do what works for that person.\" , Results from the project show fewer people with mental health issues are being taken into custody, there are fewer \"mental health apprehensions\" into hospital but more people are directly getting into the care they need, say police., \"No one agency can be the fix to all problems,\" said Hamilton Police Insp. Glenn Bullock, who oversaw the pilot project for the police. \"Sometimes we're going to go and it's going to be a cop call. And there are going to be times when we go and we're going to take the back seat, because at that time, it's mental health clinician work. They're the expert.\", The pilot project was launched after several high-profile inquests around the province involving police handling of people with mental illness. In 2013, a former steelworker named Steve Mesic was shot by police near his house, soon after he checked himself out of a voluntary mental health care facility at St. Joseph's Healthcare Hamilton. As with other incidents it raised questions about the police responses and whether there were alternatives for dealing with people in distress., Matching mental health and police is not new in Hamilton. Hamilton has a well-established program called Crisis Outreach and Support Team (COAST). But sending mental health workers out preemptively alongside first responder to calls \"in-progress\" is new, organizers from the police and from St. Joe's say — the first of its kind in Canada. , The Local Health Integration Network of Hamilton Niagara Haldimand Brant is funding the mental health workers through St. Joe's., Officers in the pilot project were surveyed about how often, without the mental health worker, they would have taken someone into custody under the Mental Health Act. They said they would have apprehended the individual 71 per cent of the time before they had the mental health partner, compared to 27 per cent of the time with the new partner. , Burtenshaw has trained police officers to better deal with mental illness for 14 years. She developed the existing COAST program. All of the officers assigned to the new unit have received 40 hours of training, which includes training on understanding mental illness, methods of deescalating situations,  perspectives from family members, scenarios for role-playing and community resources., Statistics may not reflect all the times mental illness came into play in the past — police knew that often apprehending someone under that act could mean spending eight or 10 hours in the hospital while they were evaluated and released., \"Back in '83 when I started policing, I would've done everything I could to avoid dealing with the call as a mental health conclusion,\" Bullock said. \"Because I didn't know enough, and I knew that I would be sitting in the hospital for hours and hours and hours. So I would just try to put a Band-aid on it for the moment, and just make it go away for the moment.\", \"If there was any education back then about mental health, it was so vague and so limited and so short in duration, I don't remember any of it,\" Bullock added., Now, everything's changed, he said., The new program workers like this: A dispatcher will assign a call to a team of an officer and a mental health worker. The calls can range; for example, a person has called 9-1-1 about a friend who said he might hurt himself., The team would go, knock on the door, introduce themselves and say, \"We're concerned, your friend called, what's going on?\" Burtenshaw said. , Or the call comes in about an unwell person in the middle of the street, yelling, screaming, responding to hallucinations. The team would arrive, talking ahead of time about how they want to give the person some distance. The officer might step in first to make sure the area is secure, and then start talking with the person. , Sometimes people are offended by the surprise visit from a mental health worker; they haven't seen themselves as someone who would need mental health treatment. , Other times, the mental health worker can get an entree into a tough situation more easily than the officer. , \"If someone is psychotic and they seem really unwell, we'll ask: 'Have you been using any substances?'\" Burtenshaw said. \"People are pretty honest at that point. We're not here to arrest you, we just need to know what's going on from a health-care perspective.\", Still, Bullock said more traditional policing still has its place. , \"If I see a hand-to-hand drug transaction out on the street, that behaviour could be fuelled by mental health problems,\" Bullock said. \"But if I see the drug transaction going on, I'm not going to go up and engage in a conversation about the person's mental health. At that moment.\" , Down the line, perhaps at the station or maybe at court on the trafficking charges, Bullock said he's inclined after all of this mental health training to recommend some addiction resources to the person he arrested., \"I know this now. Whereas before I had blinders that were pretty tight,\" he said. \"All I saw was a drug deal and I'm going to arrest the person and charge him with trafficking. Now I know there's more to the story.\",  | \n"
     ]
    }
   ],
   "source": [
    "url = 'https://www.cbc.ca/news/canada/hamilton/news/hamilton-police-send-mental-health-pros-to-the-front-lines-with-cops-1.3024000?cmp=rss'\n",
    "xpath_author = '//div[@class=\"bylineDetails\"]/span[@class=\"authorText\"]/span/text()'\n",
    "                \n",
    "xpath_content = '//div[@class=\"story\"]/span/p/text()'\n",
    "# Start the connection\n",
    "res = requests.get(url)\n",
    "\n",
    "if res.status_code == 200:\n",
    "    # Initialize XPath\n",
    "    xpath_selector = Selector(text=res.text)\n",
    "\n",
    "    # Get return content as text\n",
    "    text_html = res.text\n",
    "\n",
    "    xpath_selector = Selector(text=text_html)\n",
    "\n",
    "    author = xpath_selector.xpath(xpath_author).extract()\n",
    "    # https://stackoverflow.com/questions/34246574/how-to-get-text-from-inside-a-span-class-classnametext-i-want-span-in-pyth/34246790\n",
    "    print(author)\n",
    "\n",
    "    content = xpath_selector.xpath(xpath_content).extract()\n",
    "#     print(content)\n",
    "    \n",
    "    # Join list of content into 1 simple paragraph\n",
    "    seperator = ', '\n",
    "    print(seperator.join(content))\n",
    "else:\n",
    "    print(\"[ERROR] at: \", res.status_code)"
   ]
  },
  {
   "cell_type": "code",
   "execution_count": null,
   "metadata": {},
   "outputs": [],
   "source": []
  }
 ],
 "metadata": {
  "kernelspec": {
   "display_name": "Python 3",
   "language": "python",
   "name": "python3"
  },
  "language_info": {
   "codemirror_mode": {
    "name": "ipython",
    "version": 3
   },
   "file_extension": ".py",
   "mimetype": "text/x-python",
   "name": "python",
   "nbconvert_exporter": "python",
   "pygments_lexer": "ipython3",
   "version": "3.7.1"
  },
  "toc": {
   "base_numbering": 1,
   "nav_menu": {},
   "number_sections": true,
   "sideBar": true,
   "skip_h1_title": false,
   "title_cell": "Table of Contents",
   "title_sidebar": "Contents",
   "toc_cell": false,
   "toc_position": {},
   "toc_section_display": true,
   "toc_window_display": false
  }
 },
 "nbformat": 4,
 "nbformat_minor": 2
}
